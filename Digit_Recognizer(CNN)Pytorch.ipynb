{
  "nbformat": 4,
  "nbformat_minor": 0,
  "metadata": {
    "colab": {
      "provenance": []
    },
    "kernelspec": {
      "name": "python3",
      "display_name": "Python 3"
    },
    "language_info": {
      "name": "python"
    },
    "gpuClass": "standard",
    "widgets": {
      "application/vnd.jupyter.widget-state+json": {
        "26fb917577994297bbe534e9467dd0aa": {
          "model_module": "@jupyter-widgets/controls",
          "model_name": "HBoxModel",
          "model_module_version": "1.5.0",
          "state": {
            "_dom_classes": [],
            "_model_module": "@jupyter-widgets/controls",
            "_model_module_version": "1.5.0",
            "_model_name": "HBoxModel",
            "_view_count": null,
            "_view_module": "@jupyter-widgets/controls",
            "_view_module_version": "1.5.0",
            "_view_name": "HBoxView",
            "box_style": "",
            "children": [
              "IPY_MODEL_825d8d4c15014c5fb15a063390c5dca1",
              "IPY_MODEL_ca4008e9cd8b4a408a49dcad3a01dd52",
              "IPY_MODEL_b0cb069b744c4c46a5412480b20ffdf2"
            ],
            "layout": "IPY_MODEL_af824356168348bd960d34c564f370f7"
          }
        },
        "825d8d4c15014c5fb15a063390c5dca1": {
          "model_module": "@jupyter-widgets/controls",
          "model_name": "HTMLModel",
          "model_module_version": "1.5.0",
          "state": {
            "_dom_classes": [],
            "_model_module": "@jupyter-widgets/controls",
            "_model_module_version": "1.5.0",
            "_model_name": "HTMLModel",
            "_view_count": null,
            "_view_module": "@jupyter-widgets/controls",
            "_view_module_version": "1.5.0",
            "_view_name": "HTMLView",
            "description": "",
            "description_tooltip": null,
            "layout": "IPY_MODEL_7571777c1dd6488a93513e2ca595adf6",
            "placeholder": "​",
            "style": "IPY_MODEL_c0a8334fa2b34809928c87a074c26bb0",
            "value": "100%"
          }
        },
        "ca4008e9cd8b4a408a49dcad3a01dd52": {
          "model_module": "@jupyter-widgets/controls",
          "model_name": "FloatProgressModel",
          "model_module_version": "1.5.0",
          "state": {
            "_dom_classes": [],
            "_model_module": "@jupyter-widgets/controls",
            "_model_module_version": "1.5.0",
            "_model_name": "FloatProgressModel",
            "_view_count": null,
            "_view_module": "@jupyter-widgets/controls",
            "_view_module_version": "1.5.0",
            "_view_name": "ProgressView",
            "bar_style": "success",
            "description": "",
            "description_tooltip": null,
            "layout": "IPY_MODEL_77e3a85937354179a651b6c36deba2c0",
            "max": 9912422,
            "min": 0,
            "orientation": "horizontal",
            "style": "IPY_MODEL_bd0d333296f84352816e5231d0bd7474",
            "value": 9912422
          }
        },
        "b0cb069b744c4c46a5412480b20ffdf2": {
          "model_module": "@jupyter-widgets/controls",
          "model_name": "HTMLModel",
          "model_module_version": "1.5.0",
          "state": {
            "_dom_classes": [],
            "_model_module": "@jupyter-widgets/controls",
            "_model_module_version": "1.5.0",
            "_model_name": "HTMLModel",
            "_view_count": null,
            "_view_module": "@jupyter-widgets/controls",
            "_view_module_version": "1.5.0",
            "_view_name": "HTMLView",
            "description": "",
            "description_tooltip": null,
            "layout": "IPY_MODEL_020d1569530448468fde1f516d23a473",
            "placeholder": "​",
            "style": "IPY_MODEL_21f11a7b1c22455784674910e908d459",
            "value": " 9912422/9912422 [00:00&lt;00:00, 22987694.15it/s]"
          }
        },
        "af824356168348bd960d34c564f370f7": {
          "model_module": "@jupyter-widgets/base",
          "model_name": "LayoutModel",
          "model_module_version": "1.2.0",
          "state": {
            "_model_module": "@jupyter-widgets/base",
            "_model_module_version": "1.2.0",
            "_model_name": "LayoutModel",
            "_view_count": null,
            "_view_module": "@jupyter-widgets/base",
            "_view_module_version": "1.2.0",
            "_view_name": "LayoutView",
            "align_content": null,
            "align_items": null,
            "align_self": null,
            "border": null,
            "bottom": null,
            "display": null,
            "flex": null,
            "flex_flow": null,
            "grid_area": null,
            "grid_auto_columns": null,
            "grid_auto_flow": null,
            "grid_auto_rows": null,
            "grid_column": null,
            "grid_gap": null,
            "grid_row": null,
            "grid_template_areas": null,
            "grid_template_columns": null,
            "grid_template_rows": null,
            "height": null,
            "justify_content": null,
            "justify_items": null,
            "left": null,
            "margin": null,
            "max_height": null,
            "max_width": null,
            "min_height": null,
            "min_width": null,
            "object_fit": null,
            "object_position": null,
            "order": null,
            "overflow": null,
            "overflow_x": null,
            "overflow_y": null,
            "padding": null,
            "right": null,
            "top": null,
            "visibility": null,
            "width": null
          }
        },
        "7571777c1dd6488a93513e2ca595adf6": {
          "model_module": "@jupyter-widgets/base",
          "model_name": "LayoutModel",
          "model_module_version": "1.2.0",
          "state": {
            "_model_module": "@jupyter-widgets/base",
            "_model_module_version": "1.2.0",
            "_model_name": "LayoutModel",
            "_view_count": null,
            "_view_module": "@jupyter-widgets/base",
            "_view_module_version": "1.2.0",
            "_view_name": "LayoutView",
            "align_content": null,
            "align_items": null,
            "align_self": null,
            "border": null,
            "bottom": null,
            "display": null,
            "flex": null,
            "flex_flow": null,
            "grid_area": null,
            "grid_auto_columns": null,
            "grid_auto_flow": null,
            "grid_auto_rows": null,
            "grid_column": null,
            "grid_gap": null,
            "grid_row": null,
            "grid_template_areas": null,
            "grid_template_columns": null,
            "grid_template_rows": null,
            "height": null,
            "justify_content": null,
            "justify_items": null,
            "left": null,
            "margin": null,
            "max_height": null,
            "max_width": null,
            "min_height": null,
            "min_width": null,
            "object_fit": null,
            "object_position": null,
            "order": null,
            "overflow": null,
            "overflow_x": null,
            "overflow_y": null,
            "padding": null,
            "right": null,
            "top": null,
            "visibility": null,
            "width": null
          }
        },
        "c0a8334fa2b34809928c87a074c26bb0": {
          "model_module": "@jupyter-widgets/controls",
          "model_name": "DescriptionStyleModel",
          "model_module_version": "1.5.0",
          "state": {
            "_model_module": "@jupyter-widgets/controls",
            "_model_module_version": "1.5.0",
            "_model_name": "DescriptionStyleModel",
            "_view_count": null,
            "_view_module": "@jupyter-widgets/base",
            "_view_module_version": "1.2.0",
            "_view_name": "StyleView",
            "description_width": ""
          }
        },
        "77e3a85937354179a651b6c36deba2c0": {
          "model_module": "@jupyter-widgets/base",
          "model_name": "LayoutModel",
          "model_module_version": "1.2.0",
          "state": {
            "_model_module": "@jupyter-widgets/base",
            "_model_module_version": "1.2.0",
            "_model_name": "LayoutModel",
            "_view_count": null,
            "_view_module": "@jupyter-widgets/base",
            "_view_module_version": "1.2.0",
            "_view_name": "LayoutView",
            "align_content": null,
            "align_items": null,
            "align_self": null,
            "border": null,
            "bottom": null,
            "display": null,
            "flex": null,
            "flex_flow": null,
            "grid_area": null,
            "grid_auto_columns": null,
            "grid_auto_flow": null,
            "grid_auto_rows": null,
            "grid_column": null,
            "grid_gap": null,
            "grid_row": null,
            "grid_template_areas": null,
            "grid_template_columns": null,
            "grid_template_rows": null,
            "height": null,
            "justify_content": null,
            "justify_items": null,
            "left": null,
            "margin": null,
            "max_height": null,
            "max_width": null,
            "min_height": null,
            "min_width": null,
            "object_fit": null,
            "object_position": null,
            "order": null,
            "overflow": null,
            "overflow_x": null,
            "overflow_y": null,
            "padding": null,
            "right": null,
            "top": null,
            "visibility": null,
            "width": null
          }
        },
        "bd0d333296f84352816e5231d0bd7474": {
          "model_module": "@jupyter-widgets/controls",
          "model_name": "ProgressStyleModel",
          "model_module_version": "1.5.0",
          "state": {
            "_model_module": "@jupyter-widgets/controls",
            "_model_module_version": "1.5.0",
            "_model_name": "ProgressStyleModel",
            "_view_count": null,
            "_view_module": "@jupyter-widgets/base",
            "_view_module_version": "1.2.0",
            "_view_name": "StyleView",
            "bar_color": null,
            "description_width": ""
          }
        },
        "020d1569530448468fde1f516d23a473": {
          "model_module": "@jupyter-widgets/base",
          "model_name": "LayoutModel",
          "model_module_version": "1.2.0",
          "state": {
            "_model_module": "@jupyter-widgets/base",
            "_model_module_version": "1.2.0",
            "_model_name": "LayoutModel",
            "_view_count": null,
            "_view_module": "@jupyter-widgets/base",
            "_view_module_version": "1.2.0",
            "_view_name": "LayoutView",
            "align_content": null,
            "align_items": null,
            "align_self": null,
            "border": null,
            "bottom": null,
            "display": null,
            "flex": null,
            "flex_flow": null,
            "grid_area": null,
            "grid_auto_columns": null,
            "grid_auto_flow": null,
            "grid_auto_rows": null,
            "grid_column": null,
            "grid_gap": null,
            "grid_row": null,
            "grid_template_areas": null,
            "grid_template_columns": null,
            "grid_template_rows": null,
            "height": null,
            "justify_content": null,
            "justify_items": null,
            "left": null,
            "margin": null,
            "max_height": null,
            "max_width": null,
            "min_height": null,
            "min_width": null,
            "object_fit": null,
            "object_position": null,
            "order": null,
            "overflow": null,
            "overflow_x": null,
            "overflow_y": null,
            "padding": null,
            "right": null,
            "top": null,
            "visibility": null,
            "width": null
          }
        },
        "21f11a7b1c22455784674910e908d459": {
          "model_module": "@jupyter-widgets/controls",
          "model_name": "DescriptionStyleModel",
          "model_module_version": "1.5.0",
          "state": {
            "_model_module": "@jupyter-widgets/controls",
            "_model_module_version": "1.5.0",
            "_model_name": "DescriptionStyleModel",
            "_view_count": null,
            "_view_module": "@jupyter-widgets/base",
            "_view_module_version": "1.2.0",
            "_view_name": "StyleView",
            "description_width": ""
          }
        },
        "1ac35fda74ca4b389b223798f695bd23": {
          "model_module": "@jupyter-widgets/controls",
          "model_name": "HBoxModel",
          "model_module_version": "1.5.0",
          "state": {
            "_dom_classes": [],
            "_model_module": "@jupyter-widgets/controls",
            "_model_module_version": "1.5.0",
            "_model_name": "HBoxModel",
            "_view_count": null,
            "_view_module": "@jupyter-widgets/controls",
            "_view_module_version": "1.5.0",
            "_view_name": "HBoxView",
            "box_style": "",
            "children": [
              "IPY_MODEL_e4220b13f1aa4a429641749728c8fa8e",
              "IPY_MODEL_d63591b479524ddeb88682e706ef5738",
              "IPY_MODEL_f7af18c692a84c76adccd3cc5b1499c2"
            ],
            "layout": "IPY_MODEL_1976ae3800ce4b6c865f8bcc20ce5c3c"
          }
        },
        "e4220b13f1aa4a429641749728c8fa8e": {
          "model_module": "@jupyter-widgets/controls",
          "model_name": "HTMLModel",
          "model_module_version": "1.5.0",
          "state": {
            "_dom_classes": [],
            "_model_module": "@jupyter-widgets/controls",
            "_model_module_version": "1.5.0",
            "_model_name": "HTMLModel",
            "_view_count": null,
            "_view_module": "@jupyter-widgets/controls",
            "_view_module_version": "1.5.0",
            "_view_name": "HTMLView",
            "description": "",
            "description_tooltip": null,
            "layout": "IPY_MODEL_1ad0e075b51d4a32a93ea666bec8b5ea",
            "placeholder": "​",
            "style": "IPY_MODEL_7babad25872f404382f15b9600020018",
            "value": "100%"
          }
        },
        "d63591b479524ddeb88682e706ef5738": {
          "model_module": "@jupyter-widgets/controls",
          "model_name": "FloatProgressModel",
          "model_module_version": "1.5.0",
          "state": {
            "_dom_classes": [],
            "_model_module": "@jupyter-widgets/controls",
            "_model_module_version": "1.5.0",
            "_model_name": "FloatProgressModel",
            "_view_count": null,
            "_view_module": "@jupyter-widgets/controls",
            "_view_module_version": "1.5.0",
            "_view_name": "ProgressView",
            "bar_style": "success",
            "description": "",
            "description_tooltip": null,
            "layout": "IPY_MODEL_b41a33cb99b84a4cb84cb17bc22fc265",
            "max": 28881,
            "min": 0,
            "orientation": "horizontal",
            "style": "IPY_MODEL_4dd36d8f832340dcbe29b114d2d8331a",
            "value": 28881
          }
        },
        "f7af18c692a84c76adccd3cc5b1499c2": {
          "model_module": "@jupyter-widgets/controls",
          "model_name": "HTMLModel",
          "model_module_version": "1.5.0",
          "state": {
            "_dom_classes": [],
            "_model_module": "@jupyter-widgets/controls",
            "_model_module_version": "1.5.0",
            "_model_name": "HTMLModel",
            "_view_count": null,
            "_view_module": "@jupyter-widgets/controls",
            "_view_module_version": "1.5.0",
            "_view_name": "HTMLView",
            "description": "",
            "description_tooltip": null,
            "layout": "IPY_MODEL_4bb3f89fcc37440392653f98b6a09ec8",
            "placeholder": "​",
            "style": "IPY_MODEL_1d0d6a09d47e48e29e75665dd5146190",
            "value": " 28881/28881 [00:00&lt;00:00, 812130.05it/s]"
          }
        },
        "1976ae3800ce4b6c865f8bcc20ce5c3c": {
          "model_module": "@jupyter-widgets/base",
          "model_name": "LayoutModel",
          "model_module_version": "1.2.0",
          "state": {
            "_model_module": "@jupyter-widgets/base",
            "_model_module_version": "1.2.0",
            "_model_name": "LayoutModel",
            "_view_count": null,
            "_view_module": "@jupyter-widgets/base",
            "_view_module_version": "1.2.0",
            "_view_name": "LayoutView",
            "align_content": null,
            "align_items": null,
            "align_self": null,
            "border": null,
            "bottom": null,
            "display": null,
            "flex": null,
            "flex_flow": null,
            "grid_area": null,
            "grid_auto_columns": null,
            "grid_auto_flow": null,
            "grid_auto_rows": null,
            "grid_column": null,
            "grid_gap": null,
            "grid_row": null,
            "grid_template_areas": null,
            "grid_template_columns": null,
            "grid_template_rows": null,
            "height": null,
            "justify_content": null,
            "justify_items": null,
            "left": null,
            "margin": null,
            "max_height": null,
            "max_width": null,
            "min_height": null,
            "min_width": null,
            "object_fit": null,
            "object_position": null,
            "order": null,
            "overflow": null,
            "overflow_x": null,
            "overflow_y": null,
            "padding": null,
            "right": null,
            "top": null,
            "visibility": null,
            "width": null
          }
        },
        "1ad0e075b51d4a32a93ea666bec8b5ea": {
          "model_module": "@jupyter-widgets/base",
          "model_name": "LayoutModel",
          "model_module_version": "1.2.0",
          "state": {
            "_model_module": "@jupyter-widgets/base",
            "_model_module_version": "1.2.0",
            "_model_name": "LayoutModel",
            "_view_count": null,
            "_view_module": "@jupyter-widgets/base",
            "_view_module_version": "1.2.0",
            "_view_name": "LayoutView",
            "align_content": null,
            "align_items": null,
            "align_self": null,
            "border": null,
            "bottom": null,
            "display": null,
            "flex": null,
            "flex_flow": null,
            "grid_area": null,
            "grid_auto_columns": null,
            "grid_auto_flow": null,
            "grid_auto_rows": null,
            "grid_column": null,
            "grid_gap": null,
            "grid_row": null,
            "grid_template_areas": null,
            "grid_template_columns": null,
            "grid_template_rows": null,
            "height": null,
            "justify_content": null,
            "justify_items": null,
            "left": null,
            "margin": null,
            "max_height": null,
            "max_width": null,
            "min_height": null,
            "min_width": null,
            "object_fit": null,
            "object_position": null,
            "order": null,
            "overflow": null,
            "overflow_x": null,
            "overflow_y": null,
            "padding": null,
            "right": null,
            "top": null,
            "visibility": null,
            "width": null
          }
        },
        "7babad25872f404382f15b9600020018": {
          "model_module": "@jupyter-widgets/controls",
          "model_name": "DescriptionStyleModel",
          "model_module_version": "1.5.0",
          "state": {
            "_model_module": "@jupyter-widgets/controls",
            "_model_module_version": "1.5.0",
            "_model_name": "DescriptionStyleModel",
            "_view_count": null,
            "_view_module": "@jupyter-widgets/base",
            "_view_module_version": "1.2.0",
            "_view_name": "StyleView",
            "description_width": ""
          }
        },
        "b41a33cb99b84a4cb84cb17bc22fc265": {
          "model_module": "@jupyter-widgets/base",
          "model_name": "LayoutModel",
          "model_module_version": "1.2.0",
          "state": {
            "_model_module": "@jupyter-widgets/base",
            "_model_module_version": "1.2.0",
            "_model_name": "LayoutModel",
            "_view_count": null,
            "_view_module": "@jupyter-widgets/base",
            "_view_module_version": "1.2.0",
            "_view_name": "LayoutView",
            "align_content": null,
            "align_items": null,
            "align_self": null,
            "border": null,
            "bottom": null,
            "display": null,
            "flex": null,
            "flex_flow": null,
            "grid_area": null,
            "grid_auto_columns": null,
            "grid_auto_flow": null,
            "grid_auto_rows": null,
            "grid_column": null,
            "grid_gap": null,
            "grid_row": null,
            "grid_template_areas": null,
            "grid_template_columns": null,
            "grid_template_rows": null,
            "height": null,
            "justify_content": null,
            "justify_items": null,
            "left": null,
            "margin": null,
            "max_height": null,
            "max_width": null,
            "min_height": null,
            "min_width": null,
            "object_fit": null,
            "object_position": null,
            "order": null,
            "overflow": null,
            "overflow_x": null,
            "overflow_y": null,
            "padding": null,
            "right": null,
            "top": null,
            "visibility": null,
            "width": null
          }
        },
        "4dd36d8f832340dcbe29b114d2d8331a": {
          "model_module": "@jupyter-widgets/controls",
          "model_name": "ProgressStyleModel",
          "model_module_version": "1.5.0",
          "state": {
            "_model_module": "@jupyter-widgets/controls",
            "_model_module_version": "1.5.0",
            "_model_name": "ProgressStyleModel",
            "_view_count": null,
            "_view_module": "@jupyter-widgets/base",
            "_view_module_version": "1.2.0",
            "_view_name": "StyleView",
            "bar_color": null,
            "description_width": ""
          }
        },
        "4bb3f89fcc37440392653f98b6a09ec8": {
          "model_module": "@jupyter-widgets/base",
          "model_name": "LayoutModel",
          "model_module_version": "1.2.0",
          "state": {
            "_model_module": "@jupyter-widgets/base",
            "_model_module_version": "1.2.0",
            "_model_name": "LayoutModel",
            "_view_count": null,
            "_view_module": "@jupyter-widgets/base",
            "_view_module_version": "1.2.0",
            "_view_name": "LayoutView",
            "align_content": null,
            "align_items": null,
            "align_self": null,
            "border": null,
            "bottom": null,
            "display": null,
            "flex": null,
            "flex_flow": null,
            "grid_area": null,
            "grid_auto_columns": null,
            "grid_auto_flow": null,
            "grid_auto_rows": null,
            "grid_column": null,
            "grid_gap": null,
            "grid_row": null,
            "grid_template_areas": null,
            "grid_template_columns": null,
            "grid_template_rows": null,
            "height": null,
            "justify_content": null,
            "justify_items": null,
            "left": null,
            "margin": null,
            "max_height": null,
            "max_width": null,
            "min_height": null,
            "min_width": null,
            "object_fit": null,
            "object_position": null,
            "order": null,
            "overflow": null,
            "overflow_x": null,
            "overflow_y": null,
            "padding": null,
            "right": null,
            "top": null,
            "visibility": null,
            "width": null
          }
        },
        "1d0d6a09d47e48e29e75665dd5146190": {
          "model_module": "@jupyter-widgets/controls",
          "model_name": "DescriptionStyleModel",
          "model_module_version": "1.5.0",
          "state": {
            "_model_module": "@jupyter-widgets/controls",
            "_model_module_version": "1.5.0",
            "_model_name": "DescriptionStyleModel",
            "_view_count": null,
            "_view_module": "@jupyter-widgets/base",
            "_view_module_version": "1.2.0",
            "_view_name": "StyleView",
            "description_width": ""
          }
        },
        "8220b12d01b145b5ae9f567fc7d561ef": {
          "model_module": "@jupyter-widgets/controls",
          "model_name": "HBoxModel",
          "model_module_version": "1.5.0",
          "state": {
            "_dom_classes": [],
            "_model_module": "@jupyter-widgets/controls",
            "_model_module_version": "1.5.0",
            "_model_name": "HBoxModel",
            "_view_count": null,
            "_view_module": "@jupyter-widgets/controls",
            "_view_module_version": "1.5.0",
            "_view_name": "HBoxView",
            "box_style": "",
            "children": [
              "IPY_MODEL_8c50ec2cf8ea48e081a2e1dd10638ec5",
              "IPY_MODEL_a19e31f247e44dfc8e0d74cbb943c7d6",
              "IPY_MODEL_d9b1f789379b4c1898802b5a3d7d10ad"
            ],
            "layout": "IPY_MODEL_4a9f0cff6c294c65846eeced12315b6b"
          }
        },
        "8c50ec2cf8ea48e081a2e1dd10638ec5": {
          "model_module": "@jupyter-widgets/controls",
          "model_name": "HTMLModel",
          "model_module_version": "1.5.0",
          "state": {
            "_dom_classes": [],
            "_model_module": "@jupyter-widgets/controls",
            "_model_module_version": "1.5.0",
            "_model_name": "HTMLModel",
            "_view_count": null,
            "_view_module": "@jupyter-widgets/controls",
            "_view_module_version": "1.5.0",
            "_view_name": "HTMLView",
            "description": "",
            "description_tooltip": null,
            "layout": "IPY_MODEL_9e9475aa1645473c8fafcc7328c2e2e5",
            "placeholder": "​",
            "style": "IPY_MODEL_be891744c31e4212aa9379b0be38a7b4",
            "value": "100%"
          }
        },
        "a19e31f247e44dfc8e0d74cbb943c7d6": {
          "model_module": "@jupyter-widgets/controls",
          "model_name": "FloatProgressModel",
          "model_module_version": "1.5.0",
          "state": {
            "_dom_classes": [],
            "_model_module": "@jupyter-widgets/controls",
            "_model_module_version": "1.5.0",
            "_model_name": "FloatProgressModel",
            "_view_count": null,
            "_view_module": "@jupyter-widgets/controls",
            "_view_module_version": "1.5.0",
            "_view_name": "ProgressView",
            "bar_style": "success",
            "description": "",
            "description_tooltip": null,
            "layout": "IPY_MODEL_00918cac312443e3b00118afe5f202ae",
            "max": 1648877,
            "min": 0,
            "orientation": "horizontal",
            "style": "IPY_MODEL_da755207100a4d2585a61bde5db6e314",
            "value": 1648877
          }
        },
        "d9b1f789379b4c1898802b5a3d7d10ad": {
          "model_module": "@jupyter-widgets/controls",
          "model_name": "HTMLModel",
          "model_module_version": "1.5.0",
          "state": {
            "_dom_classes": [],
            "_model_module": "@jupyter-widgets/controls",
            "_model_module_version": "1.5.0",
            "_model_name": "HTMLModel",
            "_view_count": null,
            "_view_module": "@jupyter-widgets/controls",
            "_view_module_version": "1.5.0",
            "_view_name": "HTMLView",
            "description": "",
            "description_tooltip": null,
            "layout": "IPY_MODEL_ba664e6438194efd86609f5e3fa56261",
            "placeholder": "​",
            "style": "IPY_MODEL_12130022e6844ec2a411af4e69a075b9",
            "value": " 1648877/1648877 [00:00&lt;00:00, 17874954.50it/s]"
          }
        },
        "4a9f0cff6c294c65846eeced12315b6b": {
          "model_module": "@jupyter-widgets/base",
          "model_name": "LayoutModel",
          "model_module_version": "1.2.0",
          "state": {
            "_model_module": "@jupyter-widgets/base",
            "_model_module_version": "1.2.0",
            "_model_name": "LayoutModel",
            "_view_count": null,
            "_view_module": "@jupyter-widgets/base",
            "_view_module_version": "1.2.0",
            "_view_name": "LayoutView",
            "align_content": null,
            "align_items": null,
            "align_self": null,
            "border": null,
            "bottom": null,
            "display": null,
            "flex": null,
            "flex_flow": null,
            "grid_area": null,
            "grid_auto_columns": null,
            "grid_auto_flow": null,
            "grid_auto_rows": null,
            "grid_column": null,
            "grid_gap": null,
            "grid_row": null,
            "grid_template_areas": null,
            "grid_template_columns": null,
            "grid_template_rows": null,
            "height": null,
            "justify_content": null,
            "justify_items": null,
            "left": null,
            "margin": null,
            "max_height": null,
            "max_width": null,
            "min_height": null,
            "min_width": null,
            "object_fit": null,
            "object_position": null,
            "order": null,
            "overflow": null,
            "overflow_x": null,
            "overflow_y": null,
            "padding": null,
            "right": null,
            "top": null,
            "visibility": null,
            "width": null
          }
        },
        "9e9475aa1645473c8fafcc7328c2e2e5": {
          "model_module": "@jupyter-widgets/base",
          "model_name": "LayoutModel",
          "model_module_version": "1.2.0",
          "state": {
            "_model_module": "@jupyter-widgets/base",
            "_model_module_version": "1.2.0",
            "_model_name": "LayoutModel",
            "_view_count": null,
            "_view_module": "@jupyter-widgets/base",
            "_view_module_version": "1.2.0",
            "_view_name": "LayoutView",
            "align_content": null,
            "align_items": null,
            "align_self": null,
            "border": null,
            "bottom": null,
            "display": null,
            "flex": null,
            "flex_flow": null,
            "grid_area": null,
            "grid_auto_columns": null,
            "grid_auto_flow": null,
            "grid_auto_rows": null,
            "grid_column": null,
            "grid_gap": null,
            "grid_row": null,
            "grid_template_areas": null,
            "grid_template_columns": null,
            "grid_template_rows": null,
            "height": null,
            "justify_content": null,
            "justify_items": null,
            "left": null,
            "margin": null,
            "max_height": null,
            "max_width": null,
            "min_height": null,
            "min_width": null,
            "object_fit": null,
            "object_position": null,
            "order": null,
            "overflow": null,
            "overflow_x": null,
            "overflow_y": null,
            "padding": null,
            "right": null,
            "top": null,
            "visibility": null,
            "width": null
          }
        },
        "be891744c31e4212aa9379b0be38a7b4": {
          "model_module": "@jupyter-widgets/controls",
          "model_name": "DescriptionStyleModel",
          "model_module_version": "1.5.0",
          "state": {
            "_model_module": "@jupyter-widgets/controls",
            "_model_module_version": "1.5.0",
            "_model_name": "DescriptionStyleModel",
            "_view_count": null,
            "_view_module": "@jupyter-widgets/base",
            "_view_module_version": "1.2.0",
            "_view_name": "StyleView",
            "description_width": ""
          }
        },
        "00918cac312443e3b00118afe5f202ae": {
          "model_module": "@jupyter-widgets/base",
          "model_name": "LayoutModel",
          "model_module_version": "1.2.0",
          "state": {
            "_model_module": "@jupyter-widgets/base",
            "_model_module_version": "1.2.0",
            "_model_name": "LayoutModel",
            "_view_count": null,
            "_view_module": "@jupyter-widgets/base",
            "_view_module_version": "1.2.0",
            "_view_name": "LayoutView",
            "align_content": null,
            "align_items": null,
            "align_self": null,
            "border": null,
            "bottom": null,
            "display": null,
            "flex": null,
            "flex_flow": null,
            "grid_area": null,
            "grid_auto_columns": null,
            "grid_auto_flow": null,
            "grid_auto_rows": null,
            "grid_column": null,
            "grid_gap": null,
            "grid_row": null,
            "grid_template_areas": null,
            "grid_template_columns": null,
            "grid_template_rows": null,
            "height": null,
            "justify_content": null,
            "justify_items": null,
            "left": null,
            "margin": null,
            "max_height": null,
            "max_width": null,
            "min_height": null,
            "min_width": null,
            "object_fit": null,
            "object_position": null,
            "order": null,
            "overflow": null,
            "overflow_x": null,
            "overflow_y": null,
            "padding": null,
            "right": null,
            "top": null,
            "visibility": null,
            "width": null
          }
        },
        "da755207100a4d2585a61bde5db6e314": {
          "model_module": "@jupyter-widgets/controls",
          "model_name": "ProgressStyleModel",
          "model_module_version": "1.5.0",
          "state": {
            "_model_module": "@jupyter-widgets/controls",
            "_model_module_version": "1.5.0",
            "_model_name": "ProgressStyleModel",
            "_view_count": null,
            "_view_module": "@jupyter-widgets/base",
            "_view_module_version": "1.2.0",
            "_view_name": "StyleView",
            "bar_color": null,
            "description_width": ""
          }
        },
        "ba664e6438194efd86609f5e3fa56261": {
          "model_module": "@jupyter-widgets/base",
          "model_name": "LayoutModel",
          "model_module_version": "1.2.0",
          "state": {
            "_model_module": "@jupyter-widgets/base",
            "_model_module_version": "1.2.0",
            "_model_name": "LayoutModel",
            "_view_count": null,
            "_view_module": "@jupyter-widgets/base",
            "_view_module_version": "1.2.0",
            "_view_name": "LayoutView",
            "align_content": null,
            "align_items": null,
            "align_self": null,
            "border": null,
            "bottom": null,
            "display": null,
            "flex": null,
            "flex_flow": null,
            "grid_area": null,
            "grid_auto_columns": null,
            "grid_auto_flow": null,
            "grid_auto_rows": null,
            "grid_column": null,
            "grid_gap": null,
            "grid_row": null,
            "grid_template_areas": null,
            "grid_template_columns": null,
            "grid_template_rows": null,
            "height": null,
            "justify_content": null,
            "justify_items": null,
            "left": null,
            "margin": null,
            "max_height": null,
            "max_width": null,
            "min_height": null,
            "min_width": null,
            "object_fit": null,
            "object_position": null,
            "order": null,
            "overflow": null,
            "overflow_x": null,
            "overflow_y": null,
            "padding": null,
            "right": null,
            "top": null,
            "visibility": null,
            "width": null
          }
        },
        "12130022e6844ec2a411af4e69a075b9": {
          "model_module": "@jupyter-widgets/controls",
          "model_name": "DescriptionStyleModel",
          "model_module_version": "1.5.0",
          "state": {
            "_model_module": "@jupyter-widgets/controls",
            "_model_module_version": "1.5.0",
            "_model_name": "DescriptionStyleModel",
            "_view_count": null,
            "_view_module": "@jupyter-widgets/base",
            "_view_module_version": "1.2.0",
            "_view_name": "StyleView",
            "description_width": ""
          }
        },
        "d0a9666064374cb4b6f52722e4ad90eb": {
          "model_module": "@jupyter-widgets/controls",
          "model_name": "HBoxModel",
          "model_module_version": "1.5.0",
          "state": {
            "_dom_classes": [],
            "_model_module": "@jupyter-widgets/controls",
            "_model_module_version": "1.5.0",
            "_model_name": "HBoxModel",
            "_view_count": null,
            "_view_module": "@jupyter-widgets/controls",
            "_view_module_version": "1.5.0",
            "_view_name": "HBoxView",
            "box_style": "",
            "children": [
              "IPY_MODEL_176fdb4bb96549ba94037b59205e3ae3",
              "IPY_MODEL_61942908fd744f2ea33920303e875f00",
              "IPY_MODEL_28cd6baa38474f42aa5e8699487061be"
            ],
            "layout": "IPY_MODEL_c434876d3791442d8aa79d8354afbd44"
          }
        },
        "176fdb4bb96549ba94037b59205e3ae3": {
          "model_module": "@jupyter-widgets/controls",
          "model_name": "HTMLModel",
          "model_module_version": "1.5.0",
          "state": {
            "_dom_classes": [],
            "_model_module": "@jupyter-widgets/controls",
            "_model_module_version": "1.5.0",
            "_model_name": "HTMLModel",
            "_view_count": null,
            "_view_module": "@jupyter-widgets/controls",
            "_view_module_version": "1.5.0",
            "_view_name": "HTMLView",
            "description": "",
            "description_tooltip": null,
            "layout": "IPY_MODEL_93a6533e680345da9d4e26ae2efdfd7a",
            "placeholder": "​",
            "style": "IPY_MODEL_701ce5b1c5954a73b662b9f0bf8be082",
            "value": "100%"
          }
        },
        "61942908fd744f2ea33920303e875f00": {
          "model_module": "@jupyter-widgets/controls",
          "model_name": "FloatProgressModel",
          "model_module_version": "1.5.0",
          "state": {
            "_dom_classes": [],
            "_model_module": "@jupyter-widgets/controls",
            "_model_module_version": "1.5.0",
            "_model_name": "FloatProgressModel",
            "_view_count": null,
            "_view_module": "@jupyter-widgets/controls",
            "_view_module_version": "1.5.0",
            "_view_name": "ProgressView",
            "bar_style": "success",
            "description": "",
            "description_tooltip": null,
            "layout": "IPY_MODEL_2611bb51d6a449ffa811d1ee90019dc7",
            "max": 4542,
            "min": 0,
            "orientation": "horizontal",
            "style": "IPY_MODEL_4fd713f21e834a479f5112aa8bdd4969",
            "value": 4542
          }
        },
        "28cd6baa38474f42aa5e8699487061be": {
          "model_module": "@jupyter-widgets/controls",
          "model_name": "HTMLModel",
          "model_module_version": "1.5.0",
          "state": {
            "_dom_classes": [],
            "_model_module": "@jupyter-widgets/controls",
            "_model_module_version": "1.5.0",
            "_model_name": "HTMLModel",
            "_view_count": null,
            "_view_module": "@jupyter-widgets/controls",
            "_view_module_version": "1.5.0",
            "_view_name": "HTMLView",
            "description": "",
            "description_tooltip": null,
            "layout": "IPY_MODEL_278fbeedc8494237a4c0e2c66c94c225",
            "placeholder": "​",
            "style": "IPY_MODEL_ca4d106947dc4f8faf3de7853385da3a",
            "value": " 4542/4542 [00:00&lt;00:00, 136125.77it/s]"
          }
        },
        "c434876d3791442d8aa79d8354afbd44": {
          "model_module": "@jupyter-widgets/base",
          "model_name": "LayoutModel",
          "model_module_version": "1.2.0",
          "state": {
            "_model_module": "@jupyter-widgets/base",
            "_model_module_version": "1.2.0",
            "_model_name": "LayoutModel",
            "_view_count": null,
            "_view_module": "@jupyter-widgets/base",
            "_view_module_version": "1.2.0",
            "_view_name": "LayoutView",
            "align_content": null,
            "align_items": null,
            "align_self": null,
            "border": null,
            "bottom": null,
            "display": null,
            "flex": null,
            "flex_flow": null,
            "grid_area": null,
            "grid_auto_columns": null,
            "grid_auto_flow": null,
            "grid_auto_rows": null,
            "grid_column": null,
            "grid_gap": null,
            "grid_row": null,
            "grid_template_areas": null,
            "grid_template_columns": null,
            "grid_template_rows": null,
            "height": null,
            "justify_content": null,
            "justify_items": null,
            "left": null,
            "margin": null,
            "max_height": null,
            "max_width": null,
            "min_height": null,
            "min_width": null,
            "object_fit": null,
            "object_position": null,
            "order": null,
            "overflow": null,
            "overflow_x": null,
            "overflow_y": null,
            "padding": null,
            "right": null,
            "top": null,
            "visibility": null,
            "width": null
          }
        },
        "93a6533e680345da9d4e26ae2efdfd7a": {
          "model_module": "@jupyter-widgets/base",
          "model_name": "LayoutModel",
          "model_module_version": "1.2.0",
          "state": {
            "_model_module": "@jupyter-widgets/base",
            "_model_module_version": "1.2.0",
            "_model_name": "LayoutModel",
            "_view_count": null,
            "_view_module": "@jupyter-widgets/base",
            "_view_module_version": "1.2.0",
            "_view_name": "LayoutView",
            "align_content": null,
            "align_items": null,
            "align_self": null,
            "border": null,
            "bottom": null,
            "display": null,
            "flex": null,
            "flex_flow": null,
            "grid_area": null,
            "grid_auto_columns": null,
            "grid_auto_flow": null,
            "grid_auto_rows": null,
            "grid_column": null,
            "grid_gap": null,
            "grid_row": null,
            "grid_template_areas": null,
            "grid_template_columns": null,
            "grid_template_rows": null,
            "height": null,
            "justify_content": null,
            "justify_items": null,
            "left": null,
            "margin": null,
            "max_height": null,
            "max_width": null,
            "min_height": null,
            "min_width": null,
            "object_fit": null,
            "object_position": null,
            "order": null,
            "overflow": null,
            "overflow_x": null,
            "overflow_y": null,
            "padding": null,
            "right": null,
            "top": null,
            "visibility": null,
            "width": null
          }
        },
        "701ce5b1c5954a73b662b9f0bf8be082": {
          "model_module": "@jupyter-widgets/controls",
          "model_name": "DescriptionStyleModel",
          "model_module_version": "1.5.0",
          "state": {
            "_model_module": "@jupyter-widgets/controls",
            "_model_module_version": "1.5.0",
            "_model_name": "DescriptionStyleModel",
            "_view_count": null,
            "_view_module": "@jupyter-widgets/base",
            "_view_module_version": "1.2.0",
            "_view_name": "StyleView",
            "description_width": ""
          }
        },
        "2611bb51d6a449ffa811d1ee90019dc7": {
          "model_module": "@jupyter-widgets/base",
          "model_name": "LayoutModel",
          "model_module_version": "1.2.0",
          "state": {
            "_model_module": "@jupyter-widgets/base",
            "_model_module_version": "1.2.0",
            "_model_name": "LayoutModel",
            "_view_count": null,
            "_view_module": "@jupyter-widgets/base",
            "_view_module_version": "1.2.0",
            "_view_name": "LayoutView",
            "align_content": null,
            "align_items": null,
            "align_self": null,
            "border": null,
            "bottom": null,
            "display": null,
            "flex": null,
            "flex_flow": null,
            "grid_area": null,
            "grid_auto_columns": null,
            "grid_auto_flow": null,
            "grid_auto_rows": null,
            "grid_column": null,
            "grid_gap": null,
            "grid_row": null,
            "grid_template_areas": null,
            "grid_template_columns": null,
            "grid_template_rows": null,
            "height": null,
            "justify_content": null,
            "justify_items": null,
            "left": null,
            "margin": null,
            "max_height": null,
            "max_width": null,
            "min_height": null,
            "min_width": null,
            "object_fit": null,
            "object_position": null,
            "order": null,
            "overflow": null,
            "overflow_x": null,
            "overflow_y": null,
            "padding": null,
            "right": null,
            "top": null,
            "visibility": null,
            "width": null
          }
        },
        "4fd713f21e834a479f5112aa8bdd4969": {
          "model_module": "@jupyter-widgets/controls",
          "model_name": "ProgressStyleModel",
          "model_module_version": "1.5.0",
          "state": {
            "_model_module": "@jupyter-widgets/controls",
            "_model_module_version": "1.5.0",
            "_model_name": "ProgressStyleModel",
            "_view_count": null,
            "_view_module": "@jupyter-widgets/base",
            "_view_module_version": "1.2.0",
            "_view_name": "StyleView",
            "bar_color": null,
            "description_width": ""
          }
        },
        "278fbeedc8494237a4c0e2c66c94c225": {
          "model_module": "@jupyter-widgets/base",
          "model_name": "LayoutModel",
          "model_module_version": "1.2.0",
          "state": {
            "_model_module": "@jupyter-widgets/base",
            "_model_module_version": "1.2.0",
            "_model_name": "LayoutModel",
            "_view_count": null,
            "_view_module": "@jupyter-widgets/base",
            "_view_module_version": "1.2.0",
            "_view_name": "LayoutView",
            "align_content": null,
            "align_items": null,
            "align_self": null,
            "border": null,
            "bottom": null,
            "display": null,
            "flex": null,
            "flex_flow": null,
            "grid_area": null,
            "grid_auto_columns": null,
            "grid_auto_flow": null,
            "grid_auto_rows": null,
            "grid_column": null,
            "grid_gap": null,
            "grid_row": null,
            "grid_template_areas": null,
            "grid_template_columns": null,
            "grid_template_rows": null,
            "height": null,
            "justify_content": null,
            "justify_items": null,
            "left": null,
            "margin": null,
            "max_height": null,
            "max_width": null,
            "min_height": null,
            "min_width": null,
            "object_fit": null,
            "object_position": null,
            "order": null,
            "overflow": null,
            "overflow_x": null,
            "overflow_y": null,
            "padding": null,
            "right": null,
            "top": null,
            "visibility": null,
            "width": null
          }
        },
        "ca4d106947dc4f8faf3de7853385da3a": {
          "model_module": "@jupyter-widgets/controls",
          "model_name": "DescriptionStyleModel",
          "model_module_version": "1.5.0",
          "state": {
            "_model_module": "@jupyter-widgets/controls",
            "_model_module_version": "1.5.0",
            "_model_name": "DescriptionStyleModel",
            "_view_count": null,
            "_view_module": "@jupyter-widgets/base",
            "_view_module_version": "1.2.0",
            "_view_name": "StyleView",
            "description_width": ""
          }
        }
      }
    }
  },
  "cells": [
    {
      "cell_type": "code",
      "execution_count": null,
      "metadata": {
        "colab": {
          "base_uri": "https://localhost:8080/"
        },
        "id": "8tujJPbk7HQg",
        "outputId": "c7810a5d-3511-45d8-dc34-b1dada8abd45"
      },
      "outputs": [
        {
          "output_type": "stream",
          "name": "stdout",
          "text": [
            "Mounted at /content/gdrive\n"
          ]
        }
      ],
      "source": [
        "import os.path\n",
        "\n",
        "try:\n",
        "    from google.colab import drive\n",
        "    drive.mount('/content/gdrive')\n",
        "    _home = 'gdrive/MyDrive/'\n",
        "except ImportError:\n",
        "    _home = '~'\n",
        "finally:\n",
        "    data_root = os.path.join(_home, '.pytorch')"
      ]
    },
    {
      "cell_type": "code",
      "source": [
        "import numpy as np\n",
        "import pandas as pd\n",
        "import torch\n",
        "from torch import nn\n",
        "import torchvision.datasets as dset\n",
        "import torch.nn.functional as F\n",
        "from torch.utils.data import DataLoader, TensorDataset\n",
        "import torchvision\n",
        "import torchvision.transforms as transforms\n",
        "from torchvision import datasets\n",
        "from torch.nn import Module\n",
        "from torch.nn import Conv2d\n",
        "from torch.nn import Linear\n",
        "from torch.nn import MaxPool2d\n",
        "from torch.nn import ReLU\n",
        "from torch.nn import LogSoftmax\n",
        "from torch import flatten\n",
        "import matplotlib.pyplot as plt"
      ],
      "metadata": {
        "id": "WOy6_TP77Ubx"
      },
      "execution_count": null,
      "outputs": []
    },
    {
      "cell_type": "code",
      "source": [
        "root = ' MNIST/raw/t10k-images-idx3-ubyte'\n",
        "trans = transforms.Compose([transforms.ToTensor(), transforms.Normalize((0.5,), (1.0,))])\n",
        "train_set = dset.MNIST(root=root, train=True, transform=trans, download=True)\n",
        "test_set = dset.MNIST(root=root, train=False, transform=trans, download=True)\n"
      ],
      "metadata": {
        "id": "dSOxjtEcDTf1"
      },
      "execution_count": null,
      "outputs": []
    },
    {
      "cell_type": "code",
      "source": [
        "# Define transform to normalize data\n",
        "transform = transforms.Compose([\n",
        "                                transforms.ToTensor(),\n",
        "                                transforms.Normalize((0.1307,),(0.3081,))\n",
        "                                ])\n",
        "\n",
        "# Download and load the training data\n",
        "train_set = datasets.MNIST('DATA_MNIST/', download=True, train=True, transform=transform)\n",
        "trainLoader = torch.utils.data.DataLoader(train_set, batch_size=64, shuffle=True)\n",
        "\n",
        "validation_set = datasets.MNIST('DATA_MNIST/', download=True, train=False, transform=transform)\n",
        "validationLoader = torch.utils.data.DataLoader(validation_set, batch_size=64, shuffle=True)"
      ],
      "metadata": {
        "colab": {
          "base_uri": "https://localhost:8080/",
          "height": 428,
          "referenced_widgets": [
            "26fb917577994297bbe534e9467dd0aa",
            "825d8d4c15014c5fb15a063390c5dca1",
            "ca4008e9cd8b4a408a49dcad3a01dd52",
            "b0cb069b744c4c46a5412480b20ffdf2",
            "af824356168348bd960d34c564f370f7",
            "7571777c1dd6488a93513e2ca595adf6",
            "c0a8334fa2b34809928c87a074c26bb0",
            "77e3a85937354179a651b6c36deba2c0",
            "bd0d333296f84352816e5231d0bd7474",
            "020d1569530448468fde1f516d23a473",
            "21f11a7b1c22455784674910e908d459",
            "1ac35fda74ca4b389b223798f695bd23",
            "e4220b13f1aa4a429641749728c8fa8e",
            "d63591b479524ddeb88682e706ef5738",
            "f7af18c692a84c76adccd3cc5b1499c2",
            "1976ae3800ce4b6c865f8bcc20ce5c3c",
            "1ad0e075b51d4a32a93ea666bec8b5ea",
            "7babad25872f404382f15b9600020018",
            "b41a33cb99b84a4cb84cb17bc22fc265",
            "4dd36d8f832340dcbe29b114d2d8331a",
            "4bb3f89fcc37440392653f98b6a09ec8",
            "1d0d6a09d47e48e29e75665dd5146190",
            "8220b12d01b145b5ae9f567fc7d561ef",
            "8c50ec2cf8ea48e081a2e1dd10638ec5",
            "a19e31f247e44dfc8e0d74cbb943c7d6",
            "d9b1f789379b4c1898802b5a3d7d10ad",
            "4a9f0cff6c294c65846eeced12315b6b",
            "9e9475aa1645473c8fafcc7328c2e2e5",
            "be891744c31e4212aa9379b0be38a7b4",
            "00918cac312443e3b00118afe5f202ae",
            "da755207100a4d2585a61bde5db6e314",
            "ba664e6438194efd86609f5e3fa56261",
            "12130022e6844ec2a411af4e69a075b9",
            "d0a9666064374cb4b6f52722e4ad90eb",
            "176fdb4bb96549ba94037b59205e3ae3",
            "61942908fd744f2ea33920303e875f00",
            "28cd6baa38474f42aa5e8699487061be",
            "c434876d3791442d8aa79d8354afbd44",
            "93a6533e680345da9d4e26ae2efdfd7a",
            "701ce5b1c5954a73b662b9f0bf8be082",
            "2611bb51d6a449ffa811d1ee90019dc7",
            "4fd713f21e834a479f5112aa8bdd4969",
            "278fbeedc8494237a4c0e2c66c94c225",
            "ca4d106947dc4f8faf3de7853385da3a"
          ]
        },
        "id": "XldukG9GRlgQ",
        "outputId": "52a859dd-5d58-44ab-e400-84db6907b993"
      },
      "execution_count": null,
      "outputs": [
        {
          "output_type": "stream",
          "name": "stdout",
          "text": [
            "Downloading http://yann.lecun.com/exdb/mnist/train-images-idx3-ubyte.gz\n",
            "Downloading http://yann.lecun.com/exdb/mnist/train-images-idx3-ubyte.gz to DATA_MNIST/MNIST/raw/train-images-idx3-ubyte.gz\n"
          ]
        },
        {
          "output_type": "display_data",
          "data": {
            "text/plain": [
              "  0%|          | 0/9912422 [00:00<?, ?it/s]"
            ],
            "application/vnd.jupyter.widget-view+json": {
              "version_major": 2,
              "version_minor": 0,
              "model_id": "26fb917577994297bbe534e9467dd0aa"
            }
          },
          "metadata": {}
        },
        {
          "output_type": "stream",
          "name": "stdout",
          "text": [
            "Extracting DATA_MNIST/MNIST/raw/train-images-idx3-ubyte.gz to DATA_MNIST/MNIST/raw\n",
            "\n",
            "Downloading http://yann.lecun.com/exdb/mnist/train-labels-idx1-ubyte.gz\n",
            "Downloading http://yann.lecun.com/exdb/mnist/train-labels-idx1-ubyte.gz to DATA_MNIST/MNIST/raw/train-labels-idx1-ubyte.gz\n"
          ]
        },
        {
          "output_type": "display_data",
          "data": {
            "text/plain": [
              "  0%|          | 0/28881 [00:00<?, ?it/s]"
            ],
            "application/vnd.jupyter.widget-view+json": {
              "version_major": 2,
              "version_minor": 0,
              "model_id": "1ac35fda74ca4b389b223798f695bd23"
            }
          },
          "metadata": {}
        },
        {
          "output_type": "stream",
          "name": "stdout",
          "text": [
            "Extracting DATA_MNIST/MNIST/raw/train-labels-idx1-ubyte.gz to DATA_MNIST/MNIST/raw\n",
            "\n",
            "Downloading http://yann.lecun.com/exdb/mnist/t10k-images-idx3-ubyte.gz\n",
            "Downloading http://yann.lecun.com/exdb/mnist/t10k-images-idx3-ubyte.gz to DATA_MNIST/MNIST/raw/t10k-images-idx3-ubyte.gz\n"
          ]
        },
        {
          "output_type": "display_data",
          "data": {
            "text/plain": [
              "  0%|          | 0/1648877 [00:00<?, ?it/s]"
            ],
            "application/vnd.jupyter.widget-view+json": {
              "version_major": 2,
              "version_minor": 0,
              "model_id": "8220b12d01b145b5ae9f567fc7d561ef"
            }
          },
          "metadata": {}
        },
        {
          "output_type": "stream",
          "name": "stdout",
          "text": [
            "Extracting DATA_MNIST/MNIST/raw/t10k-images-idx3-ubyte.gz to DATA_MNIST/MNIST/raw\n",
            "\n",
            "Downloading http://yann.lecun.com/exdb/mnist/t10k-labels-idx1-ubyte.gz\n",
            "Downloading http://yann.lecun.com/exdb/mnist/t10k-labels-idx1-ubyte.gz to DATA_MNIST/MNIST/raw/t10k-labels-idx1-ubyte.gz\n"
          ]
        },
        {
          "output_type": "display_data",
          "data": {
            "text/plain": [
              "  0%|          | 0/4542 [00:00<?, ?it/s]"
            ],
            "application/vnd.jupyter.widget-view+json": {
              "version_major": 2,
              "version_minor": 0,
              "model_id": "d0a9666064374cb4b6f52722e4ad90eb"
            }
          },
          "metadata": {}
        },
        {
          "output_type": "stream",
          "name": "stdout",
          "text": [
            "Extracting DATA_MNIST/MNIST/raw/t10k-labels-idx1-ubyte.gz to DATA_MNIST/MNIST/raw\n",
            "\n"
          ]
        }
      ]
    },
    {
      "cell_type": "code",
      "source": [
        "# train = data.data.reshape(-1,1,28,28)/255.0\n",
        "# train.shape\n",
        "# print(train.shape)\n",
        "# target = data.targets\n",
        "# traindata = TensorDataset(train,target)"
      ],
      "metadata": {
        "colab": {
          "base_uri": "https://localhost:8080/"
        },
        "id": "mFUN1z73D_cf",
        "outputId": "488f2780-6e84-4529-ab42-93eb2eb7f55f"
      },
      "execution_count": null,
      "outputs": [
        {
          "output_type": "stream",
          "name": "stdout",
          "text": [
            "torch.Size([60000, 1, 28, 28])\n"
          ]
        }
      ]
    },
    {
      "cell_type": "code",
      "source": [
        "train_data = '/content/gdrive/MyDrive/kaggle/train.csv'\n",
        "train_data = pd.read_csv(train_data, sep=',')\n",
        "\n",
        "test_data = '/content/gdrive/MyDrive/kaggle/test.csv'\n",
        "test_data = pd.read_csv(test_data, sep=',')\n"
      ],
      "metadata": {
        "id": "_q_vmoex7gpP"
      },
      "execution_count": null,
      "outputs": []
    },
    {
      "cell_type": "code",
      "source": [
        "labels = train_data['label']\n",
        "X = train_data.drop('label', axis=1)"
      ],
      "metadata": {
        "id": "pwGFY-oe7wGn"
      },
      "execution_count": null,
      "outputs": []
    },
    {
      "cell_type": "code",
      "source": [
        "x_dataset = torch.tensor(X.values.reshape(-1,1,28,28)/255.0)\n",
        "x_test = torch.tensor(test_data.values.reshape(-1,1,28,28)/255.0)\n",
        "# one_hot_Encoding\n",
        "# y_train = F.one_hot(torch.tensor(labels.values), num_classes=10)\n",
        "# y_train.shape\n",
        "print(x_test.shape)\n",
        "valdata = TensorDataset(x_dataset,torch.tensor(labels.values))"
      ],
      "metadata": {
        "colab": {
          "base_uri": "https://localhost:8080/"
        },
        "id": "9LM1JjgU8gjP",
        "outputId": "6e98f2d9-fb2e-4204-ff71-e64bc6155637"
      },
      "execution_count": null,
      "outputs": [
        {
          "output_type": "stream",
          "name": "stdout",
          "text": [
            "torch.Size([28000, 1, 28, 28])\n"
          ]
        }
      ]
    },
    {
      "cell_type": "code",
      "source": [
        "train_size = int(0.8 * len(full_dataset))\n",
        "test_size = len(full_dataset) - train_size\n",
        "train_dataset, val_dataset = torch.utils.data.random_split(full_dataset, [train_size, test_size])"
      ],
      "metadata": {
        "id": "vMWargEm_mqs"
      },
      "execution_count": null,
      "outputs": []
    },
    {
      "cell_type": "code",
      "source": [
        "batch_size = 32\n",
        "\n",
        "# Create data loaders.\n",
        "train_dataloader = DataLoader(train_set , batch_size=batch_size,num_workers=2,shuffle=True)\n",
        "val_dataloader = DataLoader(test_set, batch_size=batch_size,num_workers=2,shuffle=False)\n",
        "# test_dataloader = DataLoader(test_data, batch_size=1,shuffle=False)\n",
        "\n",
        "training_data = enumerate(val_dataloader)\n",
        "batch_idx, (images,label) = next(training_data)\n",
        "print(type(images)) # Checking the datatype \n",
        "print(images.shape) # the size of the image\n",
        "print(labels.shape) # the size of the labels"
      ],
      "metadata": {
        "id": "Ts96J97b-_tn",
        "colab": {
          "base_uri": "https://localhost:8080/"
        },
        "outputId": "dcd2b1c0-cd14-4c22-862c-88f0bdce2674"
      },
      "execution_count": null,
      "outputs": [
        {
          "output_type": "stream",
          "name": "stdout",
          "text": [
            "<class 'torch.Tensor'>\n",
            "torch.Size([32, 1, 28, 28])\n",
            "(42000,)\n"
          ]
        }
      ]
    },
    {
      "cell_type": "code",
      "source": [
        "training_data = enumerate(trainLoader)\n",
        "batch_idx, (images,label) = next(training_data)\n",
        "print(type(images)) # Checking the datatype \n",
        "print(images.shape) # the size of the image\n",
        "print(labels.shape) # the size of the labels"
      ],
      "metadata": {
        "colab": {
          "base_uri": "https://localhost:8080/"
        },
        "id": "XmxTfIzoRtHL",
        "outputId": "42952c38-4175-419c-fe97-660e5102047d"
      },
      "execution_count": null,
      "outputs": [
        {
          "output_type": "stream",
          "name": "stdout",
          "text": [
            "<class 'torch.Tensor'>\n",
            "torch.Size([64, 1, 28, 28])\n",
            "(42000,)\n"
          ]
        }
      ]
    },
    {
      "cell_type": "code",
      "source": [
        "fig = plt.figure()\n",
        "for i in range(4):\n",
        "    plt.subplot(2,2,i+1)\n",
        "    plt.tight_layout()\n",
        "    # plt.imshow(images[:,:,0], cmap='gray')\n",
        "    plt.imshow(images[i][0], cmap='inferno')\n",
        "    plt.title(\"Ground Truth Label: {}\".format(labels[i]))\n",
        "    plt.yticks([])\n",
        "    plt.xticks([])"
      ],
      "metadata": {
        "colab": {
          "base_uri": "https://localhost:8080/",
          "height": 284
        },
        "id": "iwcruqqbt9wc",
        "outputId": "79b3771b-e754-4f6c-e1bb-f1999f66a8b2"
      },
      "execution_count": null,
      "outputs": [
        {
          "output_type": "display_data",
          "data": {
            "text/plain": [
              "<Figure size 432x288 with 4 Axes>"
            ],
            "image/png": "[encoded data removed]"
          },
          "metadata": {}
        }
      ]
    },
    {
      "cell_type": "code",
      "source": [
        "# Get cpu or gpu device for training.\n",
        "device = \"cuda\" if torch.cuda.is_available() else \"cpu\"\n",
        "print(f\"Using {device} device\")\n",
        "\n",
        "# Define model\n",
        "class CNN(nn.Module):\n",
        "    def __init__(self):\n",
        "        super(CNN, self).__init__()\n",
        "        self.conv1 = nn.Conv2d(1, 6, 5)\n",
        "        self.pool = nn.MaxPool2d(2, 2)\n",
        "        self.conv2 = nn.Conv2d(6, 16, 5)\n",
        "        self.fc1 = nn.Linear(16 * 4 * 4, 120)\n",
        "        self.fc2 = nn.Linear(120, 84)\n",
        "        self.fc3 = nn.Linear(84, 10)\n",
        "\n",
        "    def forward(self, x):\n",
        "        # -> n, 1, 28, 28\n",
        "        x = self.pool(F.relu(self.conv1(x)))  # -> n, 6, 12, 12\n",
        "        x = self.pool(F.relu(self.conv2(x)))  # -> n, 16, 4, 4\n",
        "        x = x.view(-1, 16 * 4* 4)            # -> n, 256\n",
        "        x = F.relu(self.fc1(x))               # -> n, 120\n",
        "        x = F.relu(self.fc2(x))               # -> n, 84\n",
        "        x = self.fc3(x)                       # -> n, 10\n",
        "        return x\n",
        "model = CNN().to(device)\n",
        "print(model)"
      ],
      "metadata": {
        "id": "kWCdzK0HBSrO",
        "colab": {
          "base_uri": "https://localhost:8080/"
        },
        "outputId": "be135f71-7d5b-4e47-ca6a-084ccd3e9da1"
      },
      "execution_count": null,
      "outputs": [
        {
          "output_type": "stream",
          "name": "stdout",
          "text": [
            "Using cuda device\n",
            "CNN(\n",
            "  (conv1): Conv2d(1, 6, kernel_size=(5, 5), stride=(1, 1))\n",
            "  (pool): MaxPool2d(kernel_size=2, stride=2, padding=0, dilation=1, ceil_mode=False)\n",
            "  (conv2): Conv2d(6, 16, kernel_size=(5, 5), stride=(1, 1))\n",
            "  (fc1): Linear(in_features=256, out_features=120, bias=True)\n",
            "  (fc2): Linear(in_features=120, out_features=84, bias=True)\n",
            "  (fc3): Linear(in_features=84, out_features=10, bias=True)\n",
            ")\n"
          ]
        }
      ]
    },
    {
      "cell_type": "code",
      "source": [
        "class Network(nn.Module):\n",
        "\n",
        "    def __init__(self):\n",
        "        super(Network, self).__init__()\n",
        "        # Convolutional Neural Network Layer \n",
        "        self.convolutaional_neural_network_layers = nn.Sequential(\n",
        "                # Here we are defining our 2D convolutional layers\n",
        "                # We can calculate the output size of each convolutional layer using the following formular\n",
        "                # outputOfEachConvLayer = [(in_channel + 2*padding - kernel_size) / stride] + 1\n",
        "                # We have in_channels=1 because our input is a grayscale image\n",
        "                nn.Conv2d(in_channels=1, out_channels=12, kernel_size=3, padding=1, stride=1), # (N, 1, 28, 28) \n",
        "                nn.ReLU(),\n",
        "                # After the first convolutional layer the output of this layer is:\n",
        "                # [(28 + 2*1 - 3)/1] + 1 = 28. \n",
        "                nn.MaxPool2d(kernel_size=2), \n",
        "                # Since we applied maxpooling with kernel_size=2 we have to divide by 2, so we get\n",
        "                # 28 / 2 = 14\n",
        "          \n",
        "                # output of our second conv layer\n",
        "                nn.Conv2d(in_channels=12, out_channels=24, kernel_size=3, padding=1, stride=1),\n",
        "                nn.ReLU(),\n",
        "                # After the second convolutional layer the output of this layer is:\n",
        "                # [(14 + 2*1 - 3)/1] + 1 = 14. \n",
        "                nn.MaxPool2d(kernel_size=2) \n",
        "                # Since we applied maxpooling with kernel_size=2 we have to divide by 2, so we get\n",
        "                # 14 / 2 = 7\n",
        "        )\n",
        "\n",
        "        # Linear layer\n",
        "        self.linear_layers = nn.Sequential(\n",
        "                # We have the output_channel=24 of our second conv layer, and 7*7 is derived by the formular \n",
        "                # which is the output of each convolutional layer\n",
        "                nn.Linear(in_features=24*7*7, out_features=64),          \n",
        "                nn.ReLU(),\n",
        "                nn.Dropout(p=0.2), # Dropout with probability of 0.2 to avoid overfitting\n",
        "                nn.Linear(in_features=64, out_features=10) # The output is 10 which should match the size of our class\n",
        "        )\n",
        "\n",
        "    # Defining the forward pass \n",
        "    def forward(self, x):\n",
        "        x = self.convolutaional_neural_network_layers(x)\n",
        "        # After we get the output of our convolutional layer we must flatten it or rearrange the output into a vector\n",
        "        x = x.view(x.size(0), -1)\n",
        "        # Then pass it through the linear layer\n",
        "        x = self.linear_layers(x)\n",
        "        return x"
      ],
      "metadata": {
        "id": "-4tzhBnVuu-z"
      },
      "execution_count": null,
      "outputs": []
    },
    {
      "cell_type": "code",
      "source": [
        "model = Network()\n",
        "model.to(device)"
      ],
      "metadata": {
        "colab": {
          "base_uri": "https://localhost:8080/"
        },
        "id": "oTW0ba9lu6DF",
        "outputId": "77f3ba19-e1e2-4417-8bd1-de509234d74a"
      },
      "execution_count": null,
      "outputs": [
        {
          "output_type": "execute_result",
          "data": {
            "text/plain": [
              "Network(\n",
              "  (convolutaional_neural_network_layers): Sequential(\n",
              "    (0): Conv2d(1, 12, kernel_size=(3, 3), stride=(1, 1), padding=(1, 1))\n",
              "    (1): ReLU()\n",
              "    (2): MaxPool2d(kernel_size=2, stride=2, padding=0, dilation=1, ceil_mode=False)\n",
              "    (3): Conv2d(12, 24, kernel_size=(3, 3), stride=(1, 1), padding=(1, 1))\n",
              "    (4): ReLU()\n",
              "    (5): MaxPool2d(kernel_size=2, stride=2, padding=0, dilation=1, ceil_mode=False)\n",
              "  )\n",
              "  (linear_layers): Sequential(\n",
              "    (0): Linear(in_features=1176, out_features=64, bias=True)\n",
              "    (1): ReLU()\n",
              "    (2): Dropout(p=0.2, inplace=False)\n",
              "    (3): Linear(in_features=64, out_features=10, bias=True)\n",
              "  )\n",
              ")"
            ]
          },
          "metadata": {},
          "execution_count": 62
        }
      ]
    },
    {
      "cell_type": "code",
      "source": [
        "# Hyper-parameters \n",
        "epochs = 20\n",
        "learning_rate = 0.0005\n",
        "criterion = nn.CrossEntropyLoss()\n",
        "optimizer = torch.optim.SGD(model.parameters(), lr=learning_rate)"
      ],
      "metadata": {
        "id": "CcebbMs2qsHG"
      },
      "execution_count": null,
      "outputs": []
    },
    {
      "cell_type": "code",
      "source": [
        "train_loss, val_loss = [], []\n",
        "accuracy_total_train, accuracy_total_val = [], []\n",
        "\n",
        "for epoch in range(epochs):\n",
        "   \n",
        "    total_train_loss = 0\n",
        "    total_val_loss = 0\n",
        "\n",
        "    model.train()\n",
        "    \n",
        "    total = 0\n",
        "    # training our model\n",
        "    for idx, (image, label) in enumerate(train_dataloader):\n",
        "\n",
        "        image, label = image.to(device), label.to(device)\n",
        "\n",
        "        optimizer.zero_grad()\n",
        "\n",
        "        pred = model(image.float())\n",
        "\n",
        "        loss = criterion(pred, label)\n",
        "        total_train_loss += loss.item()\n",
        "\n",
        "        loss.backward()\n",
        "        optimizer.step()\n",
        "\n",
        "        pred = F.softmax(pred, dim=1)\n",
        "        for i, p in enumerate(pred):\n",
        "            if label[i] == torch.max(p.data, 0)[1]:\n",
        "                total = total + 1\n",
        "                \n",
        "    accuracy_train = total / len(train_data)\n",
        "    accuracy_total_train.append(accuracy_train)\n",
        "\n",
        "    total_train_loss = total_train_loss / (idx + 1)\n",
        "    train_loss.append(total_train_loss)\n",
        "    \n",
        "    # validating our model\n",
        "    model.eval()\n",
        "    total = 0\n",
        "    for idx, (image, label) in enumerate(val_dataloader):\n",
        "        image, label = image.cuda(), label.cuda()\n",
        "        pred = model(image.float())\n",
        "        loss = criterion(pred, label)\n",
        "        total_val_loss += loss.item()\n",
        "\n",
        "        pred = torch.nn.functional.softmax(pred, dim=1)\n",
        "        for i, p in enumerate(pred):\n",
        "            if label[i] == torch.max(p.data, 0)[1]:\n",
        "                total = total + 1\n",
        "\n",
        "    accuracy_val = total / len(val_dataset)\n",
        "    accuracy_total_val.append(accuracy_val)\n",
        "\n",
        "    total_val_loss = total_val_loss / (idx + 1)\n",
        "    val_loss.append(total_val_loss)\n",
        "\n",
        "    if epoch % 5 == 0:\n",
        "      print(\"Epoch: {}/{}  \".format(epoch, epochs),\n",
        "            \"Training loss: {:.4f}  \".format(total_train_loss),\n",
        "            \"Testing loss: {:.4f}  \".format(total_val_loss),\n",
        "            \"Train accuracy: {:.4f}  \".format(accuracy_train),\n",
        "            \"Test accuracy: {:.4f}  \".format(accuracy_val))"
      ],
      "metadata": {
        "id": "lf0B_S9KAYhc",
        "colab": {
          "base_uri": "https://localhost:8080/"
        },
        "outputId": "8f4d096d-6ace-4c89-8d2a-c3a92a72ad5e"
      },
      "execution_count": null,
      "outputs": [
        {
          "output_type": "stream",
          "name": "stdout",
          "text": [
            "Epoch: 0/20   Training loss: 2.2852   Testing loss: 2.2652   Train accuracy: 0.2495   Test accuracy: 1.0680  \n",
            "Epoch: 5/20   Training loss: 0.6766   Testing loss: 0.5295   Train accuracy: 1.1411   Test accuracy: 4.2915  \n",
            "Epoch: 10/20   Training loss: 0.3934   Testing loss: 0.3184   Train accuracy: 1.2586   Test accuracy: 4.5326  \n",
            "Epoch: 15/20   Training loss: 0.3133   Testing loss: 0.2484   Train accuracy: 1.2931   Test accuracy: 4.6295  \n"
          ]
        }
      ]
    },
    {
      "cell_type": "code",
      "source": [
        "plt.plot(train_loss, label='Training loss')\n",
        "plt.plot(val_loss, label='Test loss')\n",
        "plt.legend()\n",
        "plt.grid()"
      ],
      "metadata": {
        "colab": {
          "base_uri": "https://localhost:8080/",
          "height": 265
        },
        "id": "W2HJytxPv7Y4",
        "outputId": "1ca43a8e-06ca-484a-f4fb-f560a2a35ac5"
      },
      "execution_count": null,
      "outputs": [
        {
          "output_type": "display_data",
          "data": {
            "text/plain": [
              "<Figure size 432x288 with 1 Axes>"
            ],
            "image/png": "[encoded data removed]"
          },
          "metadata": {
            "needs_background": "light"
          }
        }
      ]
    },
    {
      "cell_type": "code",
      "source": [
        "plt.plot(accuracy_total_train, label='Training Accuracy')\n",
        "plt.plot(accuracy_total_val, label='Test Accuracy')\n",
        "plt.legend()\n",
        "plt.grid()"
      ],
      "metadata": {
        "colab": {
          "base_uri": "https://localhost:8080/",
          "height": 265
        },
        "id": "oKZTKKbsxs8y",
        "outputId": "c43e6570-45fe-4798-a635-b498b9a339e3"
      },
      "execution_count": null,
      "outputs": [
        {
          "output_type": "display_data",
          "data": {
            "text/plain": [
              "<Figure size 432x288 with 1 Axes>"
            ],
            "image/png": "[encoded data removed]"
          },
          "metadata": {
            "needs_background": "light"
          }
        }
      ]
    },
    {
      "cell_type": "code",
      "source": [
        "img = images[0]\n",
        "img = img.to(device)\n",
        "img = img.view(-1, 1, 28, 28)\n",
        "print(img.shape)\n",
        "\n",
        "# Since we want to use the already pretrained weights to make some prediction\n",
        "# we are turning off the gradients\n",
        "with torch.no_grad():\n",
        "    logits = model.forward(img.float())\n",
        "    print(logits)\n",
        "\n",
        "#We take the softmax for probabilites since our outputs are logits\n",
        "probabilities = F.softmax(logits, dim=1).detach().cpu().numpy().squeeze()\n",
        "\n",
        "print(probabilities)\n",
        "\n",
        "fig, (ax1, ax2) = plt.subplots(figsize=(6,8), ncols=2)\n",
        "ax1.imshow(img.view(1, 28, 28).detach().cpu().numpy().squeeze(), cmap='inferno')\n",
        "ax1.axis('off')\n",
        "ax2.barh(np.arange(10), probabilities, color='r' )\n",
        "ax2.set_aspect(0.1)\n",
        "ax2.set_yticks(np.arange(10))\n",
        "ax2.set_yticklabels(np.arange(10))\n",
        "ax2.set_title('Class Probability')\n",
        "ax2.set_xlim(0, 1.1)\n",
        "\n",
        "plt.tight_layout()"
      ],
      "metadata": {
        "colab": {
          "base_uri": "https://localhost:8080/",
          "height": 341
        },
        "id": "PnoiTK4EyI5Z",
        "outputId": "07629642-ceb8-422d-9059-d39e414da273"
      },
      "execution_count": null,
      "outputs": [
        {
          "output_type": "stream",
          "name": "stdout",
          "text": [
            "torch.Size([1, 1, 28, 28])\n",
            "tensor([[-4.8933, -3.4992, -1.2797,  0.2703,  8.3162, -1.3974, -1.2452,  0.1744,\n",
            "         -0.3833,  3.1865]], device='cuda:0')\n",
            "[1.8205101e-06 7.3391052e-06 6.7541761e-05 3.1822379e-04 9.9314249e-01\n",
            " 6.0043101e-05 6.9911752e-05 2.8911425e-04 1.6553090e-04 5.8779651e-03]\n"
          ]
        },
        {
          "output_type": "display_data",
          "data": {
            "text/plain": [
              "<Figure size 432x576 with 2 Axes>"
            ],
            "image/png": "[encoded data removed]"
          },
          "metadata": {
            "needs_background": "light"
          }
        }
      ]
    },
    {
      "cell_type": "code",
      "source": [
        "probabilities = []\n",
        "with torch.no_grad():\n",
        "    for img in x_test:\n",
        "      img = img.view(-1, 1, 28, 28)\n",
        "      img = img.to(device)\n",
        "      logit = model.forward(img.float()).detach().cpu().numpy().squeeze()\n",
        "      probabilities.append(np.argmax(logit))"
      ],
      "metadata": {
        "id": "Rofyf8Biye6r"
      },
      "execution_count": null,
      "outputs": []
    },
    {
      "cell_type": "code",
      "source": [
        "print(probabilities)"
      ],
      "metadata": {
        "colab": {
          "base_uri": "https://localhost:8080/"
        },
        "id": "wvqs257f0X4M",
        "outputId": "73b88ed6-a3d0-4b68-813d-88879fdecc64"
      },
      "execution_count": null,
      "outputs": [
        {
          "output_type": "stream",
          "name": "stdout",
          "text": [
            "[2, 0, 8, 9, 3, 7, 0, 3, 0, 3, 5, 7, 4, 0, 4, 3, 3, 1, 9, 0, 9, 1, 1, 5, 7, 4, 2, 7, 7, 7, 7, 5, 4, 2, 6, 2, 5, 5, 1, 6, 7, 7, 4, 9, 8, 7, 8, 8, 6, 7, 6, 8, 8, 3, 8, 2, 1, 2, 2, 5, 4, 1, 7, 0, 0, 0, 1, 9, 0, 1, 6, 5, 8, 8, 2, 8, 3, 9, 2, 3, 5, 4, 1, 0, 9, 2, 4, 3, 6, 7, 2, 0, 6, 6, 8, 4, 3, 9, 7, 4, 0, 3, 2, 0, 7, 3, 0, 5, 0, 3, 0, 0, 4, 7, 1, 7, 1, 1, 8, 3, 3, 7, 2, 8, 6, 3, 8, 7, 8, 4, 3, 5, 6, 0, 0, 0, 3, 1, 3, 6, 4, 3, 4, 5, 5, 8, 7, 7, 2, 8, 4, 3, 5, 6, 5, 3, 7, 5, 7, 8, 3, 0, 4, 5, 1, 2, 7, 6, 5, 0, 2, 7, 9, 6, 1, 3, 7, 4, 1, 2, 4, 8, 5, 2, 4, 9, 2, 1, 6, 0, 6, 1, 4, 9, 6, 0, 9, 7, 6, 9, 1, 9, 0, 9, 9, 0, 8, 4, 6, 2, 0, 9, 3, 6, 7, 2, 1, 6, 3, 4, 2, 3, 1, 2, 2, 8, 4, 6, 1, 0, 0, 4, 9, 1, 7, 3, 2, 3, 8, 6, 8, 6, 2, 8, 5, 5, 4, 8, 3, 8, 9, 7, 1, 3, 8, 4, 5, 1, 4, 3, 6, 3, 3, 5, 7, 0, 6, 8, 6, 1, 6, 0, 6, 3, 9, 8, 1, 5, 8, 4, 0, 9, 2, 0, 5, 3, 7, 1, 9, 9, 5, 7, 7, 9, 9, 6, 3, 0, 3, 3, 6, 9, 8, 2, 6, 3, 7, 1, 4, 5, 8, 5, 9, 0, 0, 3, 8, 4, 1, 8, 4, 1, 1, 9, 8, 4, 5, 1, 5, 3, 6, 3, 1, 3, 0, 9, 0, 0, 6, 0, 6, 2, 1, 8, 6, 0, 6, 5, 2, 2, 6, 7, 7, 2, 5, 8, 8, 9, 2, 7, 8, 6, 3, 8, 9, 2, 3, 8, 1, 6, 4, 8, 7, 9, 7, 6, 9, 5, 3, 7, 6, 5, 5, 9, 2, 6, 2, 1, 3, 7, 1, 7, 9, 9, 6, 1, 1, 1, 7, 3, 9, 7, 6, 1, 1, 1, 9, 3, 5, 5, 5, 0, 4, 1, 2, 3, 1, 1, 3, 5, 9, 6, 6, 5, 3, 1, 4, 7, 7, 7, 4, 8, 5, 2, 6, 1, 3, 9, 5, 0, 8, 4, 7, 4, 4, 4, 1, 5, 3, 9, 9, 7, 6, 9, 5, 9, 2, 3, 7, 5, 6, 7, 5, 0, 5, 1, 7, 4, 4, 1, 1, 4, 9, 5, 6, 0, 1, 3, 1, 0, 4, 8, 1, 2, 7, 9, 4, 8, 3, 7, 5, 4, 2, 4, 2, 7, 5, 3, 3, 0, 6, 5, 9, 4, 1, 8, 3, 3, 0, 6, 7, 8, 8, 7, 5, 3, 5, 7, 4, 3, 2, 9, 0, 7, 7, 1, 0, 1, 1, 7, 0, 5, 3, 8, 3, 5, 6, 5, 7, 3, 2, 2, 8, 2, 0, 3, 0, 9, 2, 1, 1, 3, 0, 5, 0, 0, 7, 5, 6, 2, 0, 3, 8, 1, 6, 5, 4, 1, 1, 4, 2, 5, 3, 6, 0, 4, 8, 2, 4, 2, 5, 1, 2, 6, 9, 1, 7, 3, 8, 0, 8, 8, 4, 5, 3, 6, 6, 6, 0, 3, 5, 1, 7, 1, 6, 2, 8, 5, 6, 4, 7, 4, 3, 3, 2, 4, 7, 0, 0, 9, 8, 5, 9, 4, 0, 8, 1, 3, 6, 7, 6, 1, 8, 6, 1, 4, 7, 7, 8, 3, 0, 9, 9, 6, 7, 7, 4, 4, 1, 8, 4, 8, 0, 0, 8, 2, 4, 3, 3, 7, 2, 3, 4, 0, 4, 8, 1, 3, 3, 6, 3, 9, 4, 3, 8, 7, 7, 2, 6, 0, 6, 9, 8, 1, 1, 3, 4, 6, 9, 9, 2, 6, 0, 1, 8, 4, 3, 9, 8, 8, 4, 0, 5, 0, 6, 0, 4, 4, 6, 5, 5, 8, 1, 5, 3, 6, 2, 3, 7, 8, 9, 3, 1, 0, 1, 0, 6, 4, 7, 5, 7, 1, 3, 2, 7, 7, 1, 5, 1, 5, 4, 4, 3, 4, 3, 9, 0, 7, 8, 6, 4, 9, 4, 4, 1, 4, 7, 1, 1, 8, 7, 0, 4, 0, 4, 0, 0, 5, 1, 8, 6, 5, 0, 1, 5, 3, 4, 6, 3, 1, 1, 6, 9, 8, 3, 5, 5, 4, 8, 8, 5, 0, 4, 0, 4, 3, 1, 6, 9, 7, 1, 1, 3, 3, 1, 4, 9, 6, 9, 1, 5, 4, 2, 3, 2, 4, 0, 9, 7, 4, 3, 0, 5, 0, 1, 9, 0, 4, 5, 2, 8, 8, 5, 9, 3, 9, 6, 1, 5, 1, 1, 9, 0, 8, 4, 6, 7, 2, 8, 5, 8, 9, 7, 7, 2, 8, 1, 3, 4, 5, 0, 9, 1, 4, 2, 3, 6, 9, 2, 3, 4, 5, 4, 2, 3, 8, 1, 1, 0, 1, 4, 9, 1, 1, 2, 7, 1, 5, 4, 9, 1, 7, 6, 0, 4, 2, 9, 4, 1, 1, 5, 3, 5, 7, 9, 7, 8, 3, 2, 7, 2, 0, 4, 7, 1, 6, 4, 6, 1, 8, 7, 3, 5, 9, 4, 7, 9, 6, 6, 3, 3, 2, 1, 4, 5, 3, 7, 7, 9, 5, 6, 2, 6, 1, 0, 9, 3, 2, 9, 2, 6, 7, 5, 2, 3, 2, 8, 3, 0, 2, 7, 9, 4, 0, 9, 5, 1, 8, 8, 5, 3, 2, 9, 6, 7, 0, 8, 0, 7, 4, 5, 8, 7, 9, 7, 7, 0, 5, 3, 2, 1, 9, 0, 6, 8, 3, 6, 2, 2, 9, 0, 7, 0, 7, 1, 3, 4, 6, 3, 9, 2, 6, 3, 7, 3, 7, 2, 3, 4, 3, 5, 9, 9, 6, 2, 6, 1, 5, 5, 1, 9, 1, 8, 9, 4, 5, 3, 5, 2, 0, 1, 6, 1, 9, 2, 2, 7, 7, 6, 6, 2, 6, 3, 5, 9, 1, 1, 3, 6, 3, 0, 0, 6, 0, 9, 4, 7, 0, 5, 9, 5, 8, 7, 6, 9, 2, 6, 1, 2, 9, 3, 0, 2, 3, 7, 7, 6, 6, 3, 1, 3, 1, 0, 1, 7, 6, 5, 3, 3, 3, 4, 2, 9, 1, 8, 2, 0, 6, 4, 6, 7, 2, 4, 1, 0, 5, 2, 6, 4, 9, 8, 5, 4, 1, 6, 3, 8, 6, 1, 2, 0, 8, 8, 0, 3, 6, 8, 7, 7, 7, 6, 0, 2, 1, 2, 8, 4, 5, 5, 3, 8, 7, 8, 4, 7, 4, 9, 1, 8, 0, 9, 1, 9, 0, 6, 4, 1, 2, 4, 5, 8, 2, 9, 1, 8, 2, 2, 7, 2, 5, 3, 8, 9, 4, 0, 7, 0, 3, 0, 9, 7, 3, 3, 8, 8, 9, 3, 2, 5, 4, 4, 8, 3, 0, 1, 7, 9, 6, 4, 0, 6, 2, 8, 4, 5, 9, 6, 7, 8, 2, 0, 0, 5, 0, 5, 9, 9, 9, 9, 5, 4, 3, 5, 5, 4, 1, 9, 5, 4, 9, 9, 5, 7, 8, 2, 4, 7, 9, 3, 8, 6, 6, 0, 8, 5, 5, 7, 6, 5, 3, 1, 9, 4, 2, 2, 2, 9, 9, 8, 1, 1, 0, 1, 0, 0, 4, 0, 2, 7, 6, 1, 4, 7, 0, 7, 1, 0, 3, 3, 1, 9, 8, 4, 6, 5, 9, 8, 6, 8, 6, 6, 6, 1, 1, 4, 0, 7, 8, 0, 4, 6, 7, 9, 5, 9, 6, 2, 4, 7, 5, 9, 3, 5, 1, 8, 0, 9, 6, 8, 1, 3, 6, 3, 1, 9, 1, 4, 5, 8, 2, 2, 9, 1, 3, 3, 0, 5, 6, 1, 8, 3, 6, 7, 2, 3, 2, 9, 2, 1, 5, 9, 8, 7, 3, 8, 4, 0, 8, 2, 1, 6, 7, 6, 1, 1, 0, 5, 0, 9, 1, 7, 4, 0, 8, 7, 5, 9, 8, 8, 7, 5, 4, 3, 7, 9, 4, 7, 2, 7, 4, 1, 5, 8, 2, 3, 5, 9, 8, 4, 5, 9, 2, 5, 1, 9, 3, 7, 5, 1, 7, 9, 2, 5, 6, 8, 8, 5, 0, 8, 8, 4, 7, 1, 9, 6, 8, 9, 4, 9, 9, 6, 3, 2, 7, 4, 8, 0, 4, 9, 5, 8, 8, 7, 0, 9, 0, 8, 7, 0, 8, 5, 3, 3, 6, 2, 5, 3, 1, 7, 3, 1, 0, 2, 5, 9, 3, 3, 9, 4, 8, 8, 7, 6, 4, 4, 0, 7, 8, 9, 6, 7, 3, 8, 9, 5, 0, 8, 6, 0, 3, 0, 1, 8, 3, 8, 6, 0, 1, 2, 0, 7, 3, 6, 9, 2, 3, 1, 7, 7, 9, 5, 9, 9, 1, 1, 5, 8, 3, 2, 5, 4, 1, 8, 4, 0, 7, 0, 1, 0, 0, 7, 1, 3, 5, 5, 9, 9, 7, 9, 4, 6, 8, 1, 9, 2, 7, 4, 8, 5, 0, 5, 9, 8, 7, 5, 0, 1, 7, 9, 6, 3, 0, 8, 7, 5, 2, 6, 1, 7, 2, 3, 8, 8, 1, 4, 6, 2, 4, 8, 2, 3, 6, 3, 8, 2, 9, 1, 8, 2, 5, 8, 7, 7, 6, 2, 0, 3, 2, 8, 1, 5, 4, 3, 3, 1, 9, 3, 2, 1, 1, 8, 6, 1, 9, 4, 4, 9, 6, 6, 7, 5, 9, 6, 6, 1, 0, 7, 8, 8, 8, 3, 7, 7, 7, 1, 4, 6, 1, 0, 0, 5, 7, 7, 8, 8, 9, 8, 2, 4, 8, 1, 3, 5, 1, 3, 3, 6, 6, 5, 8, 8, 3, 4, 5, 9, 8, 2, 0, 1, 3, 3, 5, 6, 5, 3, 6, 1, 3, 3, 7, 7, 5, 6, 6, 1, 7, 4, 5, 9, 0, 2, 8, 0, 9, 6, 3, 0, 8, 0, 7, 7, 1, 5, 9, 4, 9, 7, 0, 3, 1, 5, 3, 6, 2, 4, 2, 1, 6, 5, 9, 3, 4, 1, 9, 4, 0, 3, 5, 1, 0, 0, 5, 3, 9, 4, 9, 1, 0, 0, 5, 7, 1, 6, 8, 3, 7, 0, 3, 8, 2, 8, 6, 7, 9, 1, 8, 4, 5, 3, 1, 5, 2, 2, 5, 3, 8, 8, 2, 7, 4, 1, 5, 7, 0, 6, 6, 2, 3, 2, 2, 9, 1, 9, 6, 9, 2, 2, 6, 0, 4, 0, 0, 0, 0, 3, 0, 4, 3, 6, 7, 8, 6, 0, 5, 1, 8, 5, 6, 0, 2, 7, 6, 1, 3, 9, 9, 3, 0, 3, 5, 9, 6, 8, 3, 1, 0, 0, 9, 0, 6, 6, 2, 4, 3, 0, 2, 7, 1, 5, 8, 5, 8, 8, 4, 7, 4, 3, 6, 5, 7, 3, 1, 6, 7, 1, 3, 1, 8, 8, 1, 5, 2, 2, 6, 9, 0, 2, 7, 2, 7, 4, 4, 9, 3, 0, 4, 5, 1, 9, 6, 9, 7, 6, 5, 0, 1, 1, 3, 8, 4, 0, 0, 0, 3, 7, 9, 8, 5, 9, 3, 1, 5, 0, 9, 1, 7, 9, 0, 8, 9, 0, 6, 9, 2, 4, 2, 1, 4, 4, 4, 3, 8, 6, 5, 6, 1, 3, 5, 9, 3, 9, 7, 0, 7, 6, 5, 8, 6, 6, 0, 7, 4, 5, 3, 7, 7, 8, 5, 8, 5, 5, 3, 6, 8, 3, 6, 1, 9, 8, 0, 9, 4, 4, 5, 8, 4, 6, 9, 3, 0, 9, 4, 6, 4, 0, 2, 0, 1, 7, 5, 9, 8, 7, 8, 6, 2, 0, 0, 3, 7, 8, 6, 1, 6, 7, 2, 9, 7, 7, 1, 1, 4, 1, 6, 6, 7, 0, 2, 4, 7, 0, 9, 4, 6, 2, 6, 8, 3, 2, 9, 6, 5, 2, 5, 8, 5, 6, 3, 2, 2, 7, 9, 3, 4, 9, 2, 8, 0, 2, 4, 0, 9, 4, 5, 8, 8, 9, 3, 3, 5, 9, 0, 7, 0, 5, 5, 2, 9, 1, 9, 9, 4, 6, 4, 6, 8, 9, 0, 0, 8, 2, 1, 6, 8, 2, 2, 2, 8, 5, 5, 7, 3, 3, 5, 9, 6, 2, 3, 4, 3, 7, 7, 9, 2, 6, 6, 1, 5, 8, 0, 6, 7, 2, 2, 2, 4, 0, 6, 2, 1, 9, 2, 5, 7, 5, 6, 2, 0, 6, 8, 2, 4, 4, 5, 7, 6, 8, 1, 4, 6, 6, 1, 5, 2, 5, 3, 0, 1, 1, 4, 7, 0, 3, 6, 5, 0, 5, 3, 0, 8, 9, 1, 5, 7, 3, 3, 6, 1, 6, 5, 9, 5, 2, 0, 7, 9, 0, 2, 7, 4, 4, 6, 0, 4, 6, 8, 9, 1, 7, 4, 7, 9, 2, 7, 4, 8, 5, 9, 5, 5, 1, 9, 3, 6, 4, 0, 2, 6, 1, 8, 0, 4, 2, 1, 2, 6, 7, 3, 7, 7, 1, 5, 5, 4, 0, 1, 4, 2, 1, 1, 4, 2, 2, 1, 1, 7, 9, 4, 8, 0, 8, 9, 3, 8, 9, 4, 6, 3, 3, 3, 9, 0, 3, 6, 9, 1, 4, 6, 0, 6, 0, 5, 0, 0, 1, 8, 0, 4, 2, 0, 1, 5, 3, 4, 5, 3, 6, 8, 8, 7, 9, 0, 3, 2, 6, 0, 5, 5, 9, 6, 5, 4, 2, 1, 4, 3, 6, 2, 8, 7, 2, 2, 0, 3, 4, 5, 3, 3, 1, 5, 4, 5, 9, 7, 0, 1, 2, 5, 3, 2, 6, 4, 2, 5, 9, 3, 4, 6, 3, 5, 8, 2, 8, 9, 8, 7, 3, 3, 9, 9, 4, 6, 7, 3, 6, 9, 9, 6, 6, 0, 9, 4, 9, 9, 4, 1, 7, 2, 8, 5, 0, 5, 6, 7, 1, 8, 0, 8, 0, 3, 2, 2, 4, 2, 1, 1, 6, 7, 6, 7, 5, 3, 6, 6, 3, 4, 3, 7, 8, 8, 7, 0, 0, 7, 7, 1, 6, 0, 3, 1, 9, 2, 5, 1, 7, 0, 1, 0, 5, 9, 9, 0, 1, 9, 0, 9, 7, 4, 2, 2, 5, 5, 0, 0, 5, 9, 4, 3, 4, 2, 5, 0, 0, 3, 2, 3, 5, 9, 0, 1, 9, 5, 9, 8, 2, 3, 3, 4, 4, 1, 0, 8, 3, 5, 5, 6, 9, 1, 9, 8, 7, 0, 3, 3, 8, 7, 0, 3, 3, 9, 7, 3, 1, 9, 6, 3, 3, 4, 0, 2, 1, 3, 9, 5, 1, 7, 9, 7, 9, 6, 1, 5, 6, 6, 9, 0, 4, 2, 2, 4, 3, 7, 6, 4, 1, 4, 2, 4, 1, 0, 2, 2, 1, 0, 2, 7, 2, 6, 5, 2, 0, 2, 0, 0, 5, 0, 3, 3, 0, 6, 6, 4, 1, 5, 9, 2, 4, 2, 4, 1, 1, 3, 0, 1, 1, 5, 0, 2, 4, 7, 3, 6, 8, 8, 8, 8, 7, 2, 6, 9, 4, 5, 7, 1, 3, 6, 0, 9, 9, 4, 6, 8, 6, 4, 1, 0, 3, 3, 0, 1, 8, 9, 1, 5, 7, 7, 3, 4, 6, 2, 9, 3, 0, 7, 2, 8, 8, 2, 4, 0, 2, 9, 8, 3, 9, 9, 0, 1, 6, 7, 7, 5, 4, 6, 8, 7, 6, 6, 3, 3, 3, 2, 1, 6, 4, 1, 9, 9, 6, 4, 6, 4, 5, 9, 4, 9, 9, 2, 2, 5, 1, 6, 2, 8, 7, 2, 3, 4, 7, 4, 1, 0, 1, 9, 0, 7, 4, 9, 0, 9, 7, 4, 0, 3, 6, 7, 4, 3, 7, 0, 2, 8, 5, 6, 4, 2, 4, 5, 2, 6, 6, 8, 8, 6, 7, 4, 1, 4, 8, 3, 2, 5, 4, 0, 9, 0, 1, 4, 9, 7, 7, 3, 9, 5, 3, 1, 9, 2, 6, 7, 7, 1, 0, 5, 1, 6, 8, 8, 6, 7, 3, 7, 2, 8, 5, 5, 0, 5, 1, 1, 6, 4, 9, 9, 1, 6, 9, 8, 5, 3, 7, 7, 8, 7, 4, 7, 0, 4, 0, 3, 4, 3, 1, 9, 6, 3, 0, 0, 2, 8, 9, 8, 1, 1, 8, 1, 3, 2, 3, 1, 0, 5, 8, 5, 0, 7, 2, 0, 6, 1, 3, 1, 1, 8, 2, 2, 6, 1, 7, 9, 7, 6, 7, 5, 1, 9, 6, 3, 7, 6, 4, 4, 4, 0, 8, 2, 0, 8, 6, 4, 8, 1, 9, 2, 9, 5, 1, 5, 1, 1, 4, 7, 0, 1, 2, 4, 6, 1, 9, 2, 9, 2, 9, 2, 6, 6, 5, 5, 5, 8, 3, 6, 1, 1, 6, 8, 2, 1, 9, 4, 7, 4, 7, 1, 0, 6, 4, 6, 5, 3, 3, 4, 0, 1, 1, 6, 0, 5, 1, 2, 1, 6, 4, 3, 9, 0, 4, 0, 3, 1, 4, 9, 2, 1, 7, 0, 9, 6, 8, 5, 8, 6, 0, 8, 7, 9, 9, 3, 1, 3, 4, 3, 1, 1, 2, 0, 0, 7, 7, 8, 1, 6, 0, 6, 7, 4, 3, 6, 2, 2, 2, 8, 9, 9, 4, 2, 7, 7, 2, 8, 1, 7, 7, 3, 7, 8, 4, 2, 5, 6, 1, 9, 7, 7, 7, 8, 9, 9, 7, 8, 9, 5, 2, 4, 5, 0, 7, 6, 1, 0, 5, 2, 7, 5, 5, 6, 9, 5, 8, 8, 2, 2, 9, 7, 9, 5, 1, 1, 1, 4, 5, 6, 1, 7, 0, 7, 9, 2, 7, 2, 3, 1, 5, 7, 1, 5, 1, 6, 0, 2, 6, 9, 9, 7, 9, 3, 7, 7, 7, 5, 6, 2, 9, 8, 8, 4, 7, 3, 1, 3, 4, 8, 2, 0, 2, 6, 3, 1, 0, 9, 7, 1, 6, 8, 8, 6, 6, 2, 3, 6, 1, 6, 6, 2, 0, 6, 0, 8, 2, 2, 8, 6, 4, 8, 5, 0, 4, 0, 0, 9, 7, 9, 2, 9, 2, 8, 5, 3, 5, 8, 7, 9, 5, 7, 3, 0, 2, 8, 0, 5, 9, 5, 9, 9, 8, 9, 2, 2, 3, 3, 7, 4, 5, 8, 5, 3, 6, 0, 3, 1, 2, 6, 8, 5, 5, 2, 7, 4, 1, 9, 3, 6, 8, 8, 2, 5, 8, 3, 9, 1, 6, 9, 6, 7, 5, 8, 3, 6, 8, 6, 7, 5, 1, 2, 8, 9, 3, 8, 8, 3, 9, 4, 8, 7, 6, 9, 5, 3, 0, 9, 9, 6, 8, 7, 9, 1, 2, 3, 2, 1, 5, 2, 9, 4, 4, 9, 3, 0, 0, 3, 1, 3, 1, 1, 3, 5, 6, 2, 7, 6, 0, 4, 4, 7, 0, 7, 0, 8, 7, 1, 3, 0, 8, 9, 0, 9, 0, 0, 1, 8, 8, 7, 4, 8, 3, 5, 9, 0, 3, 6, 3, 6, 5, 0, 4, 2, 6, 9, 3, 0, 5, 4, 5, 7, 7, 4, 2, 3, 9, 2, 8, 1, 0, 1, 9, 4, 2, 2, 1, 3, 2, 7, 3, 5, 1, 3, 0, 2, 2, 1, 7, 9, 1, 8, 9, 1, 5, 9, 7, 1, 8, 9, 9, 2, 0, 6, 1, 5, 2, 0, 9, 2, 5, 5, 3, 4, 0, 9, 0, 9, 2, 0, 4, 3, 7, 8, 0, 4, 0, 2, 6, 8, 2, 1, 5, 2, 5, 8, 5, 6, 1, 4, 8, 6, 2, 1, 3, 9, 8, 3, 7, 8, 7, 8, 2, 1, 5, 6, 4, 7, 5, 5, 4, 0, 8, 1, 0, 6, 3, 3, 7, 8, 8, 4, 3, 4, 3, 2, 1, 7, 0, 9, 4, 2, 8, 6, 8, 5, 2, 2, 4, 8, 1, 4, 3, 7, 1, 2, 1, 5, 3, 4, 7, 2, 4, 7, 6, 9, 1, 2, 8, 6, 8, 2, 6, 2, 0, 1, 1, 0, 6, 3, 9, 7, 3, 1, 9, 4, 4, 9, 7, 2, 7, 8, 1, 3, 5, 1, 2, 7, 6, 6, 3, 0, 4, 5, 9, 6, 3, 9, 1, 2, 4, 1, 3, 4, 0, 1, 8, 0, 2, 9, 2, 7, 7, 9, 1, 4, 7, 3, 3, 9, 9, 1, 3, 7, 8, 4, 9, 7, 9, 7, 1, 5, 4, 0, 0, 0, 5, 5, 3, 3, 0, 4, 1, 2, 8, 1, 0, 8, 8, 3, 4, 6, 9, 3, 2, 7, 2, 6, 8, 1, 0, 1, 8, 1, 3, 7, 4, 9, 1, 3, 5, 0, 3, 5, 4, 8, 6, 1, 2, 9, 6, 6, 6, 1, 9, 0, 3, 9, 8, 4, 6, 3, 6, 8, 9, 9, 5, 1, 8, 0, 2, 0, 8, 9, 5, 2, 0, 1, 8, 7, 2, 8, 1, 8, 3, 3, 7, 3, 6, 9, 9, 5, 7, 4, 6, 4, 9, 6, 0, 0, 4, 3, 5, 7, 1, 2, 1, 9, 2, 1, 3, 1, 9, 1, 8, 5, 8, 7, 9, 3, 2, 3, 6, 1, 7, 5, 2, 2, 6, 3, 7, 0, 5, 2, 7, 9, 6, 8, 6, 0, 9, 5, 9, 4, 1, 9, 5, 0, 7, 6, 2, 5, 5, 6, 6, 0, 4, 3, 8, 4, 3, 5, 0, 2, 6, 5, 0, 2, 6, 0, 6, 0, 5, 3, 6, 1, 9, 3, 8, 4, 2, 3, 2, 5, 4, 6, 0, 6, 1, 2, 0, 3, 5, 5, 0, 4, 1, 1, 3, 3, 9, 3, 3, 6, 4, 9, 0, 6, 9, 7, 9, 8, 5, 7, 9, 1, 4, 6, 5, 6, 8, 4, 9, 7, 1, 6, 8, 6, 7, 9, 4, 2, 0, 7, 7, 9, 1, 6, 6, 8, 0, 6, 3, 7, 7, 6, 7, 0, 1, 6, 5, 4, 5, 6, 2, 5, 3, 9, 5, 1, 3, 9, 6, 9, 2, 0, 6, 2, 7, 6, 0, 0, 3, 8, 1, 2, 9, 3, 0, 6, 1, 2, 9, 8, 6, 5, 1, 3, 6, 7, 1, 5, 1, 5, 1, 7, 3, 7, 7, 5, 2, 4, 9, 6, 8, 6, 6, 0, 8, 1, 7, 7, 1, 9, 0, 1, 4, 9, 1, 7, 3, 1, 6, 2, 2, 7, 2, 4, 1, 5, 6, 1, 5, 3, 2, 2, 9, 1, 7, 4, 8, 6, 5, 6, 3, 8, 1, 3, 9, 5, 6, 7, 5, 3, 3, 7, 7, 1, 8, 0, 6, 3, 9, 3, 3, 6, 8, 2, 5, 1, 0, 1, 1, 3, 2, 2, 9, 0, 3, 8, 8, 0, 5, 9, 8, 3, 3, 1, 3, 6, 5, 2, 7, 2, 9, 8, 5, 7, 1, 7, 4, 3, 9, 4, 4, 3, 2, 0, 0, 0, 3, 1, 1, 4, 3, 4, 2, 2, 2, 8, 4, 7, 4, 8, 4, 9, 1, 0, 7, 1, 2, 1, 6, 2, 4, 0, 4, 6, 0, 5, 1, 4, 2, 6, 2, 7, 7, 3, 4, 3, 9, 0, 1, 4, 8, 6, 2, 2, 1, 7, 3, 2, 9, 2, 2, 5, 2, 1, 0, 2, 5, 0, 0, 0, 9, 2, 7, 3, 0, 2, 1, 9, 0, 8, 5, 3, 8, 2, 2, 0, 2, 7, 8, 4, 0, 3, 0, 2, 2, 8, 0, 9, 2, 3, 0, 2, 9, 3, 7, 1, 4, 2, 2, 1, 6, 7, 6, 2, 3, 3, 6, 7, 3, 9, 1, 2, 3, 5, 0, 1, 0, 9, 7, 9, 0, 8, 5, 1, 4, 3, 6, 4, 8, 1, 2, 2, 5, 4, 2, 9, 8, 2, 6, 5, 8, 3, 1, 7, 4, 6, 5, 1, 3, 8, 1, 4, 0, 3, 6, 6, 1, 6, 2, 3, 9, 1, 5, 6, 6, 1, 4, 0, 3, 6, 0, 5, 6, 8, 9, 4, 7, 7, 7, 8, 8, 7, 5, 2, 7, 8, 1, 1, 9, 5, 4, 1, 0, 1, 3, 2, 3, 6, 8, 3, 1, 2, 7, 1, 7, 7, 0, 0, 3, 0, 0, 2, 0, 0, 7, 1, 7, 8, 6, 5, 7, 1, 6, 6, 9, 9, 9, 1, 3, 4, 0, 4, 9, 2, 8, 6, 2, 7, 4, 7, 5, 0, 3, 7, 5, 6, 6, 9, 0, 3, 5, 2, 8, 9, 8, 2, 2, 9, 7, 1, 7, 7, 2, 7, 3, 2, 2, 8, 4, 0, 2, 2, 2, 1, 1, 2, 2, 2, 3, 8, 1, 6, 8, 9, 4, 3, 9, 7, 9, 0, 7, 3, 5, 2, 3, 0, 1, 9, 9, 7, 9, 2, 7, 4, 7, 7, 6, 5, 1, 9, 5, 4, 7, 2, 2, 5, 6, 3, 5, 8, 2, 3, 3, 1, 4, 7, 3, 8, 4, 5, 7, 2, 1, 9, 0, 4, 8, 0, 6, 5, 6, 5, 2, 0, 3, 3, 1, 5, 1, 4, 1, 1, 1, 1, 3, 7, 1, 0, 4, 2, 9, 3, 5, 9, 5, 5, 2, 0, 0, 8, 0, 4, 2, 4, 3, 2, 7, 9, 4, 0, 1, 4, 9, 4, 4, 3, 2, 0, 8, 4, 1, 0, 9, 3, 2, 9, 6, 9, 0, 6, 1, 1, 7, 4, 7, 8, 7, 8, 7, 0, 1, 8, 4, 2, 5, 4, 8, 9, 1, 0, 2, 8, 7, 8, 4, 4, 7, 6, 9, 4, 1, 7, 8, 8, 3, 4, 2, 4, 1, 8, 7, 8, 7, 4, 9, 4, 7, 3, 5, 9, 1, 5, 1, 0, 1, 8, 1, 6, 9, 3, 3, 6, 5, 5, 8, 1, 9, 2, 3, 7, 9, 9, 2, 9, 8, 3, 4, 5, 1, 4, 9, 6, 1, 3, 5, 2, 9, 6, 5, 3, 5, 4, 5, 0, 2, 6, 8, 9, 9, 0, 6, 6, 7, 5, 8, 2, 0, 9, 5, 0, 1, 9, 7, 3, 3, 3, 0, 4, 8, 3, 1, 3, 9, 0, 3, 8, 4, 9, 4, 6, 8, 9, 6, 9, 3, 8, 6, 5, 0, 4, 8, 6, 0, 0, 9, 1, 4, 2, 5, 6, 3, 8, 8, 8, 8, 2, 4, 2, 7, 6, 4, 7, 8, 6, 9, 8, 6, 1, 5, 4, 3, 9, 9, 3, 0, 8, 2, 9, 1, 6, 9, 1, 0, 1, 8, 7, 6, 5, 5, 4, 1, 7, 9, 9, 1, 1, 2, 3, 9, 0, 7, 2, 2, 4, 1, 7, 7, 7, 8, 3, 5, 1, 6, 2, 1, 0, 8, 7, 7, 5, 1, 1, 8, 6, 3, 6, 6, 9, 8, 1, 7, 4, 9, 1, 5, 7, 8, 0, 7, 6, 1, 6, 8, 1, 3, 9, 0, 7, 5, 3, 2, 7, 0, 8, 1, 4, 0, 8, 7, 0, 6, 5, 1, 7, 0, 1, 5, 6, 1, 4, 8, 6, 8, 9, 5, 1, 0, 2, 2, 0, 7, 8, 3, 5, 1, 8, 3, 7, 6, 9, 8, 4, 9, 1, 0, 3, 3, 5, 9, 2, 7, 6, 3, 3, 8, 0, 0, 9, 7, 5, 5, 0, 3, 8, 7, 2, 1, 0, 7, 1, 5, 7, 0, 2, 5, 4, 2, 6, 1, 3, 1, 1, 3, 6, 6, 8, 4, 2, 3, 0, 1, 4, 4, 1, 1, 8, 4, 7, 6, 2, 5, 1, 9, 2, 5, 9, 1, 4, 3, 9, 4, 6, 9, 8, 5, 0, 8, 4, 7, 0, 0, 8, 0, 4, 7, 0, 2, 2, 7, 9, 6, 9, 5, 6, 1, 1, 1, 4, 8, 7, 9, 6, 2, 2, 2, 8, 5, 7, 1, 1, 1, 2, 9, 1, 8, 1, 3, 2, 1, 0, 6, 4, 7, 6, 5, 9, 1, 2, 8, 8, 4, 4, 3, 7, 4, 4, 9, 2, 8, 8, 6, 1, 3, 4, 5, 6, 8, 7, 0, 0, 1, 5, 4, 8, 5, 7, 3, 2, 0, 9, 9, 4, 9, 5, 0, 3, 6, 3, 3, 1, 7, 4, 0, 0, 2, 7, 7, 8, 8, 7, 4, 5, 0, 1, 9, 7, 4, 5, 0, 9, 8, 6, 3, 3, 1, 6, 8, 8, 0, 9, 9, 1, 9, 3, 7, 4, 0, 3, 0, 4, 9, 9, 5, 8, 0, 9, 0, 1, 6, 1, 2, 0, 2, 5, 7, 0, 6, 9, 8, 2, 2, 5, 3, 6, 6, 3, 2, 5, 4, 3, 5, 2, 4, 5, 4, 1, 7, 2, 5, 3, 9, 9, 2, 4, 0, 8, 7, 9, 7, 8, 2, 6, 6, 3, 2, 6, 7, 0, 6, 0, 2, 2, 3, 0, 0, 3, 3, 4, 2, 1, 4, 3, 3, 0, 0, 3, 2, 4, 1, 5, 9, 2, 4, 2, 5, 8, 7, 9, 9, 1, 8, 0, 5, 9, 0, 8, 2, 0, 9, 8, 6, 2, 3, 2, 0, 6, 3, 8, 1, 9, 2, 0, 1, 2, 8, 9, 4, 3, 6, 0, 2, 0, 4, 5, 3, 4, 1, 2, 2, 4, 9, 4, 3, 2, 1, 9, 1, 6, 1, 0, 3, 4, 0, 1, 9, 4, 0, 0, 4, 8, 1, 9, 2, 3, 3, 4, 3, 7, 0, 7, 9, 7, 9, 5, 9, 7, 7, 0, 4, 2, 2, 7, 8, 5, 0, 4, 9, 8, 8, 2, 4, 1, 4, 1, 4, 1, 0, 9, 9, 5, 5, 4, 9, 2, 2, 6, 0, 3, 0, 3, 3, 0, 4, 0, 1, 0, 6, 4, 9, 3, 7, 1, 4, 1, 7, 6, 0, 7, 7, 1, 5, 0, 3, 6, 0, 2, 8, 8, 8, 5, 7, 7, 2, 9, 6, 7, 8, 8, 5, 7, 3, 1, 7, 3, 1, 8, 0, 1, 0, 4, 3, 2, 2, 9, 7, 9, 3, 6, 2, 3, 4, 1, 3, 0, 9, 9, 2, 6, 4, 0, 0, 7, 5, 1, 8, 3, 8, 1, 6, 5, 8, 9, 2, 2, 0, 7, 1, 6, 7, 1, 6, 8, 4, 3, 5, 9, 1, 2, 5, 3, 1, 9, 2, 5, 8, 6, 3, 6, 0, 9, 2, 5, 1, 3, 7, 4, 4, 4, 8, 0, 6, 3, 6, 0, 4, 3, 6, 1, 7, 6, 2, 7, 1, 7, 0, 6, 9, 6, 5, 1, 3, 6, 8, 1, 9, 5, 5, 6, 9, 3, 6, 8, 2, 4, 0, 6, 1, 8, 5, 1, 4, 0, 9, 9, 9, 4, 8, 4, 1, 6, 4, 9, 1, 8, 9, 2, 3, 4, 6, 1, 0, 1, 6, 7, 9, 0, 0, 8, 1, 4, 2, 5, 2, 8, 4, 6, 9, 7, 1, 8, 3, 5, 4, 9, 3, 3, 5, 3, 0, 0, 5, 9, 2, 5, 3, 7, 6, 5, 9, 6, 5, 0, 4, 1, 3, 8, 5, 7, 7, 0, 7, 7, 1, 5, 6, 7, 0, 4, 3, 0, 0, 0, 0, 7, 6, 8, 2, 6, 7, 1, 3, 1, 0, 2, 3, 5, 1, 8, 5, 1, 7, 6, 2, 6, 6, 5, 3, 8, 5, 1, 5, 2, 6, 5, 1, 5, 8, 3, 5, 5, 3, 2, 3, 8, 5, 8, 6, 7, 0, 3, 8, 8, 4, 2, 6, 4, 5, 8, 3, 0, 8, 1, 1, 3, 0, 9, 6, 7, 8, 2, 5, 3, 6, 2, 0, 2, 5, 1, 2, 9, 9, 0, 2, 5, 5, 6, 1, 4, 1, 5, 1, 5, 5, 0, 1, 9, 3, 9, 5, 0, 7, 9, 8, 3, 0, 1, 3, 5, 5, 1, 8, 5, 7, 0, 1, 6, 4, 8, 3, 0, 6, 0, 4, 5, 8, 2, 1, 5, 4, 0, 1, 4, 1, 7, 3, 9, 2, 9, 1, 2, 1, 7, 6, 6, 1, 5, 9, 8, 9, 0, 2, 3, 1, 7, 3, 1, 5, 2, 7, 3, 8, 5, 9, 2, 4, 0, 5, 1, 5, 9, 1, 0, 9, 4, 5, 4, 8, 7, 1, 3, 3, 2, 4, 1, 1, 8, 0, 5, 2, 8, 9, 0, 9, 7, 0, 9, 9, 2, 7, 6, 1, 7, 1, 6, 0, 2, 9, 9, 9, 7, 8, 2, 4, 0, 9, 3, 8, 9, 4, 2, 0, 3, 2, 0, 2, 9, 4, 8, 5, 5, 6, 9, 6, 8, 4, 7, 6, 7, 4, 9, 4, 2, 1, 0, 8, 1, 3, 6, 0, 1, 9, 3, 6, 5, 8, 0, 7, 1, 3, 6, 7, 3, 3, 4, 8, 4, 7, 9, 1, 2, 9, 6, 7, 4, 3, 9, 3, 9, 5, 0, 7, 9, 2, 2, 1, 8, 3, 2, 7, 8, 7, 1, 2, 8, 7, 4, 8, 0, 9, 4, 0, 0, 8, 3, 4, 2, 0, 7, 6, 3, 2, 7, 4, 1, 2, 7, 4, 4, 2, 3, 7, 5, 8, 0, 8, 7, 9, 7, 1, 3, 5, 4, 2, 4, 7, 9, 9, 6, 4, 5, 4, 9, 1, 9, 6, 5, 6, 2, 8, 6, 8, 3, 8, 9, 6, 8, 8, 6, 4, 0, 2, 5, 1, 3, 8, 9, 8, 7, 7, 7, 8, 0, 7, 9, 5, 2, 3, 7, 4, 6, 4, 7, 2, 9, 6, 4, 0, 4, 6, 8, 8, 4, 9, 4, 4, 3, 6, 9, 6, 4, 1, 8, 5, 7, 8, 5, 2, 8, 8, 7, 0, 5, 0, 7, 2, 3, 4, 7, 8, 1, 5, 5, 9, 5, 2, 5, 0, 5, 6, 4, 7, 4, 1, 1, 9, 1, 9, 9, 4, 8, 4, 3, 7, 6, 2, 0, 1, 8, 9, 6, 7, 4, 5, 7, 5, 3, 1, 6, 0, 3, 2, 4, 5, 1, 8, 1, 1, 8, 5, 8, 5, 8, 5, 8, 7, 0, 1, 5, 1, 9, 0, 9, 9, 2, 0, 7, 5, 1, 5, 4, 7, 8, 0, 1, 2, 9, 3, 2, 6, 2, 0, 5, 0, 1, 6, 1, 9, 7, 7, 8, 6, 8, 4, 0, 7, 1, 0, 1, 3, 4, 9, 0, 9, 4, 5, 1, 6, 9, 4, 6, 6, 6, 1, 1, 3, 5, 8, 2, 4, 8, 6, 9, 8, 1, 1, 1, 8, 5, 5, 6, 5, 2, 2, 8, 7, 9, 8, 1, 9, 9, 0, 6, 6, 2, 3, 8, 3, 0, 0, 5, 0, 9, 2, 1, 3, 3, 3, 8, 8, 9, 9, 1, 5, 6, 7, 1, 7, 2, 9, 1, 6, 3, 5, 0, 7, 7, 6, 5, 1, 8, 1, 3, 4, 5, 8, 2, 4, 2, 8, 0, 4, 5, 1, 9, 7, 4, 2, 8, 8, 5, 8, 6, 8, 7, 4, 9, 7, 4, 4, 2, 6, 9, 1, 9, 8, 0, 6, 8, 3, 3, 6, 4, 6, 6, 8, 1, 9, 4, 3, 7, 2, 8, 5, 1, 9, 6, 8, 0, 0, 1, 7, 5, 4, 9, 6, 0, 7, 3, 9, 9, 2, 7, 4, 2, 0, 5, 2, 6, 4, 1, 7, 3, 0, 4, 8, 1, 6, 1, 4, 7, 2, 1, 0, 3, 3, 9, 0, 9, 6, 6, 0, 2, 7, 3, 0, 5, 8, 8, 5, 3, 5, 0, 8, 0, 7, 3, 3, 2, 5, 1, 2, 6, 5, 4, 7, 2, 2, 9, 0, 8, 2, 0, 5, 0, 8, 0, 4, 1, 6, 7, 7, 8, 5, 0, 2, 6, 4, 6, 8, 9, 6, 6, 4, 9, 4, 3, 4, 6, 3, 1, 7, 6, 1, 4, 9, 0, 6, 6, 5, 2, 0, 3, 4, 3, 1, 8, 1, 3, 3, 0, 6, 6, 8, 6, 2, 3, 3, 4, 2, 0, 6, 0, 2, 1, 9, 6, 6, 1, 7, 7, 0, 2, 9, 4, 1, 5, 0, 7, 5, 8, 5, 6, 1, 7, 0, 6, 6, 5, 9, 3, 6, 4, 2, 1, 1, 7, 8, 5, 9, 3, 3, 7, 6, 1, 5, 2, 1, 2, 5, 7, 0, 5, 2, 6, 5, 9, 1, 0, 5, 5, 2, 4, 6, 3, 0, 9, 4, 9, 4, 7, 0, 0, 4, 0, 9, 2, 7, 1, 1, 2, 1, 1, 6, 3, 2, 5, 5, 1, 8, 2, 0, 3, 8, 4, 1, 6, 8, 5, 8, 4, 3, 5, 8, 6, 7, 1, 6, 1, 9, 8, 4, 3, 9, 3, 1, 7, 8, 8, 3, 1, 7, 8, 6, 5, 4, 6, 0, 9, 8, 0, 0, 6, 2, 6, 7, 8, 1, 0, 0, 0, 9, 3, 8, 0, 4, 5, 9, 4, 2, 3, 2, 7, 2, 0, 2, 6, 2, 2, 8, 8, 8, 5, 2, 2, 2, 6, 1, 0, 2, 2, 1, 4, 3, 4, 1, 9, 7, 0, 3, 6, 5, 1, 8, 4, 3, 3, 9, 0, 6, 6, 9, 2, 1, 0, 4, 8, 4, 5, 7, 9, 2, 2, 2, 1, 1, 4, 4, 7, 8, 6, 8, 6, 5, 5, 8, 1, 8, 2, 9, 1, 9, 7, 2, 4, 4, 4, 9, 9, 3, 5, 5, 5, 5, 5, 2, 7, 0, 0, 1, 3, 5, 3, 0, 0, 0, 3, 1, 4, 0, 2, 6, 9, 7, 6, 9, 6, 6, 2, 5, 2, 2, 4, 1, 9, 2, 7, 2, 5, 9, 4, 6, 2, 7, 6, 8, 9, 1, 8, 8, 0, 2, 4, 9, 8, 1, 7, 1, 9, 9, 2, 1, 4, 5, 2, 7, 6, 3, 0, 3, 0, 6, 6, 3, 0, 0, 3, 6, 8, 8, 0, 8, 6, 4, 5, 8, 1, 5, 0, 6, 6, 9, 5, 1, 6, 4, 3, 0, 9, 2, 5, 5, 7, 7, 5, 6, 9, 0, 1, 9, 2, 9, 5, 2, 4, 9, 7, 6, 2, 8, 0, 4, 1, 8, 2, 1, 3, 4, 1, 7, 7, 2, 4, 3, 8, 6, 3, 2, 2, 6, 3, 5, 7, 1, 1, 1, 7, 7, 4, 2, 9, 7, 3, 1, 5, 6, 4, 4, 4, 1, 9, 0, 8, 4, 8, 4, 6, 2, 3, 8, 6, 7, 4, 2, 5, 9, 0, 0, 0, 8, 6, 4, 2, 3, 0, 9, 8, 5, 4, 8, 6, 7, 6, 1, 4, 0, 1, 6, 1, 4, 9, 6, 1, 1, 4, 1, 5, 7, 5, 4, 2, 5, 1, 0, 6, 7, 1, 1, 4, 4, 0, 5, 6, 0, 8, 2, 7, 4, 9, 9, 0, 2, 2, 5, 3, 0, 3, 1, 0, 1, 1, 2, 8, 3, 6, 8, 6, 2, 0, 2, 9, 7, 3, 3, 8, 5, 0, 6, 6, 8, 8, 3, 2, 7, 3, 5, 7, 7, 5, 8, 1, 1, 6, 0, 5, 7, 5, 9, 5, 0, 4, 3, 7, 2, 3, 5, 4, 5, 1, 1, 9, 4, 8, 3, 7, 5, 0, 4, 4, 7, 8, 4, 8, 1, 1, 0, 5, 6, 7, 9, 5, 6, 1, 0, 6, 0, 2, 1, 7, 7, 0, 3, 2, 8, 7, 2, 1, 3, 9, 9, 0, 7, 6, 1, 3, 4, 2, 3, 6, 4, 1, 1, 7, 4, 4, 5, 3, 2, 8, 9, 6, 6, 5, 4, 0, 6, 7, 3, 5, 2, 8, 1, 3, 0, 5, 3, 3, 9, 2, 9, 1, 7, 4, 5, 0, 5, 1, 9, 1, 1, 9, 9, 4, 6, 6, 1, 4, 5, 4, 8, 7, 6, 1, 2, 0, 4, 6, 2, 9, 9, 5, 3, 6, 4, 8, 3, 8, 2, 2, 1, 5, 8, 7, 5, 2, 8, 0, 7, 2, 5, 5, 6, 4, 8, 7, 3, 8, 2, 1, 3, 9, 1, 0, 4, 0, 6, 5, 5, 0, 0, 6, 7, 7, 1, 8, 7, 5, 6, 6, 8, 1, 4, 9, 8, 0, 5, 9, 1, 7, 7, 4, 6, 7, 3, 0, 0, 7, 8, 0, 8, 3, 0, 5, 8, 5, 1, 6, 0, 9, 0, 9, 5, 3, 0, 1, 7, 1, 1, 4, 4, 0, 4, 1, 7, 1, 5, 5, 4, 5, 6, 8, 3, 3, 1, 1, 8, 0, 9, 8, 2, 7, 2, 9, 8, 8, 5, 4, 8, 2, 8, 3, 2, 6, 8, 9, 1, 1, 2, 5, 9, 1, 7, 2, 7, 9, 1, 2, 9, 7, 5, 5, 5, 7, 4, 3, 5, 2, 7, 8, 0, 6, 1, 4, 8, 2, 3, 1, 8, 2, 4, 7, 9, 7, 3, 3, 2, 9, 2, 7, 6, 1, 9, 9, 2, 3, 2, 5, 8, 1, 6, 3, 0, 9, 1, 2, 6, 5, 5, 8, 4, 2, 6, 1, 6, 1, 0, 4, 9, 0, 1, 4, 1, 2, 1, 6, 0, 7, 6, 1, 0, 0, 1, 8, 3, 0, 6, 7, 0, 3, 2, 0, 1, 7, 8, 4, 4, 6, 1, 6, 2, 2, 0, 3, 9, 9, 8, 7, 5, 8, 0, 1, 0, 0, 0, 5, 6, 2, 7, 5, 3, 8, 8, 1, 9, 2, 3, 4, 0, 5, 3, 8, 3, 6, 9, 9, 3, 4, 8, 9, 4, 3, 2, 9, 2, 3, 7, 3, 7, 7, 7, 0, 4, 9, 5, 2, 3, 6, 6, 7, 5, 3, 3, 7, 1, 4, 9, 0, 9, 9, 8, 0, 0, 2, 9, 7, 3, 9, 4, 4, 9, 2, 1, 9, 7, 6, 9, 1, 9, 6, 4, 7, 7, 7, 2, 7, 6, 2, 9, 6, 6, 7, 3, 9, 8, 3, 0, 9, 2, 8, 0, 3, 1, 9, 5, 2, 1, 9, 4, 4, 1, 0, 9, 1, 9, 7, 4, 5, 4, 3, 8, 5, 7, 0, 1, 4, 1, 8, 1, 6, 6, 9, 4, 8, 8, 1, 2, 2, 7, 8, 0, 2, 0, 4, 4, 3, 8, 1, 7, 6, 5, 4, 6, 0, 2, 2, 1, 5, 7, 2, 4, 6, 4, 4, 9, 2, 2, 7, 6, 1, 7, 1, 2, 3, 9, 7, 5, 1, 7, 9, 2, 2, 5, 7, 3, 5, 4, 6, 2, 8, 7, 2, 8, 9, 9, 2, 9, 2, 4, 4, 1, 6, 0, 6, 8, 6, 5, 6, 9, 6, 1, 2, 2, 5, 0, 9, 4, 1, 9, 4, 3, 6, 5, 6, 5, 7, 0, 3, 0, 0, 2, 7, 0, 7, 8, 7, 2, 7, 5, 8, 0, 7, 2, 7, 6, 8, 0, 9, 7, 3, 5, 0, 3, 9, 0, 9, 6, 9, 1, 9, 1, 0, 0, 8, 8, 9, 8, 3, 9, 9, 7, 8, 2, 5, 8, 7, 5, 5, 3, 1, 1, 9, 2, 7, 9, 5, 7, 6, 1, 2, 2, 9, 1, 4, 5, 5, 4, 4, 8, 9, 7, 1, 2, 0, 7, 6, 7, 6, 7, 1, 5, 2, 9, 2, 9, 6, 6, 6, 2, 1, 4, 5, 7, 4, 3, 1, 0, 5, 1, 3, 7, 4, 6, 2, 3, 5, 2, 5, 9, 1, 7, 3, 8, 0, 1, 6, 5, 9, 7, 7, 0, 9, 4, 3, 0, 9, 2, 1, 2, 1, 1, 3, 5, 9, 9, 9, 7, 1, 4, 9, 3, 5, 7, 1, 4, 4, 7, 4, 3, 9, 1, 9, 1, 3, 7, 3, 1, 4, 7, 2, 5, 6, 5, 6, 1, 8, 9, 4, 7, 1, 1, 8, 9, 6, 4, 6, 6, 0, 6, 2, 3, 3, 4, 3, 5, 6, 8, 8, 4, 3, 2, 0, 1, 0, 9, 3, 4, 2, 3, 0, 8, 5, 8, 1, 7, 8, 0, 4, 7, 7, 7, 1, 0, 4, 3, 4, 1, 6, 2, 4, 4, 6, 0, 7, 2, 2, 3, 9, 1, 1, 2, 2, 9, 3, 8, 0, 5, 2, 6, 2, 1, 1, 8, 7, 8, 2, 3, 8, 7, 1, 6, 3, 7, 0, 5, 0, 6, 7, 4, 2, 2, 1, 7, 8, 4, 3, 9, 8, 8, 0, 2, 3, 4, 1, 3, 6, 3, 8, 7, 9, 2, 6, 3, 6, 9, 2, 2, 5, 9, 8, 7, 2, 3, 6, 9, 1, 9, 6, 4, 5, 6, 5, 0, 7, 3, 9, 4, 1, 6, 9, 1, 6, 9, 3, 5, 2, 2, 7, 9, 7, 2, 9, 0, 2, 8, 2, 1, 9, 1, 2, 5, 0, 9, 0, 5, 6, 8, 9, 5, 8, 5, 1, 9, 4, 1, 6, 4, 4, 6, 2, 7, 3, 8, 2, 4, 5, 1, 6, 4, 7, 1, 2, 3, 2, 3, 5, 2, 5, 3, 2, 1, 5, 8, 0, 4, 9, 2, 9, 6, 8, 8, 9, 9, 5, 8, 0, 6, 0, 0, 6, 6, 2, 6, 2, 0, 7, 1, 2, 8, 2, 9, 1, 6, 4, 3, 9, 0, 9, 5, 4, 3, 1, 0, 2, 5, 6, 2, 4, 4, 3, 4, 9, 7, 6, 6, 8, 4, 3, 3, 3, 8, 4, 1, 8, 2, 5, 5, 2, 4, 0, 0, 4, 1, 5, 7, 7, 3, 3, 6, 2, 6, 5, 1, 7, 3, 1, 7, 7, 4, 8, 7, 3, 3, 3, 1, 6, 1, 5, 5, 9, 3, 0, 5, 2, 0, 8, 0, 0, 2, 5, 5, 8, 5, 4, 7, 8, 6, 1, 5, 3, 7, 7, 7, 3, 1, 4, 3, 8, 4, 0, 7, 0, 6, 0, 9, 8, 1, 5, 8, 3, 6, 8, 7, 4, 1, 4, 4, 0, 2, 0, 4, 5, 5, 8, 6, 8, 9, 6, 6, 5, 1, 5, 7, 7, 5, 2, 3, 2, 3, 8, 6, 4, 8, 5, 1, 2, 7, 5, 5, 0, 4, 6, 6, 8, 4, 4, 6, 5, 5, 5, 9, 4, 6, 1, 3, 0, 2, 9, 5, 2, 3, 3, 2, 5, 1, 3, 6, 3, 4, 6, 4, 6, 3, 0, 0, 5, 5, 0, 7, 9, 1, 3, 1, 4, 8, 7, 5, 8, 0, 0, 0, 0, 6, 9, 7, 8, 4, 9, 5, 7, 4, 0, 7, 6, 8, 1, 4, 5, 3, 0, 8, 7, 8, 1, 3, 4, 1, 5, 2, 3, 0, 7, 1, 0, 3, 8, 5, 0, 3, 1, 5, 4, 5, 3, 8, 1, 6, 6, 1, 4, 7, 3, 7, 8, 6, 0, 5, 6, 6, 9, 5, 5, 2, 2, 6, 1, 5, 6, 0, 3, 2, 6, 6, 1, 5, 9, 5, 4, 6, 1, 1, 7, 2, 0, 5, 8, 1, 0, 4, 8, 6, 1, 9, 5, 1, 7, 6, 6, 7, 6, 7, 3, 8, 1, 1, 6, 4, 8, 1, 4, 4, 1, 4, 1, 1, 7, 9, 6, 3, 8, 6, 5, 6, 2, 5, 9, 6, 3, 1, 6, 6, 3, 0, 7, 4, 4, 6, 1, 1, 5, 5, 7, 1, 6, 9, 2, 7, 7, 5, 1, 9, 3, 9, 3, 9, 4, 9, 8, 3, 7, 1, 8, 6, 9, 5, 3, 6, 8, 8, 7, 9, 2, 8, 3, 4, 0, 8, 4, 6, 5, 0, 6, 7, 8, 9, 7, 4, 2, 7, 2, 8, 0, 0, 4, 2, 9, 0, 1, 9, 9, 7, 1, 7, 0, 7, 0, 3, 1, 2, 8, 1, 4, 4, 0, 7, 0, 9, 8, 1, 8, 8, 1, 2, 5, 5, 1, 0, 2, 8, 0, 3, 7, 0, 5, 3, 7, 7, 0, 5, 5, 2, 5, 2, 2, 7, 2, 7, 5, 6, 7, 6, 2, 4, 0, 1, 8, 0, 6, 9, 4, 6, 6, 2, 4, 4, 0, 1, 7, 9, 8, 2, 3, 3, 1, 4, 5, 2, 2, 7, 4, 1, 7, 9, 8, 9, 6, 8, 7, 8, 7, 0, 4, 4, 5, 2, 5, 0, 3, 6, 9, 4, 1, 0, 1, 2, 8, 1, 6, 0, 1, 2, 4, 3, 3, 2, 0, 6, 9, 2, 1, 3, 2, 2, 8, 0, 6, 1, 1, 2, 7, 2, 8, 3, 1, 9, 5, 5, 1, 8, 5, 0, 5, 7, 7, 5, 4, 5, 7, 3, 5, 7, 8, 0, 8, 1, 4, 0, 9, 1, 7, 9, 1, 6, 7, 1, 3, 5, 4, 6, 4, 0, 3, 5, 1, 4, 2, 1, 4, 0, 1, 1, 7, 5, 7, 1, 3, 3, 0, 4, 9, 4, 6, 8, 2, 9, 5, 1, 9, 5, 0, 4, 2, 3, 4, 3, 6, 7, 2, 5, 5, 8, 0, 1, 4, 7, 3, 6, 6, 5, 1, 9, 3, 0, 3, 8, 9, 7, 1, 3, 0, 5, 7, 4, 0, 4, 9, 9, 8, 2, 8, 3, 1, 5, 8, 3, 7, 5, 0, 3, 5, 4, 4, 2, 5, 9, 6, 6, 0, 2, 4, 1, 9, 8, 5, 0, 3, 8, 3, 0, 1, 1, 2, 9, 6, 1, 1, 0, 7, 2, 8, 4, 7, 2, 1, 4, 1, 8, 6, 7, 7, 6, 3, 2, 4, 1, 4, 5, 8, 3, 5, 4, 8, 4, 6, 6, 1, 7, 5, 5, 1, 3, 2, 2, 7, 0, 0, 2, 9, 1, 3, 3, 3, 3, 9, 3, 4, 1, 2, 6, 8, 1, 9, 5, 4, 7, 9, 0, 7, 2, 9, 9, 1, 4, 0, 6, 7, 8, 7, 4, 7, 6, 4, 4, 4, 6, 3, 1, 9, 3, 6, 6, 3, 2, 9, 2, 8, 2, 4, 0, 6, 0, 7, 5, 5, 0, 1, 6, 5, 2, 3, 0, 3, 0, 0, 8, 4, 5, 0, 5, 3, 0, 2, 3, 1, 2, 4, 3, 0, 2, 0, 7, 9, 3, 3, 9, 6, 5, 9, 8, 1, 8, 0, 6, 5, 1, 4, 5, 1, 7, 5, 7, 6, 2, 1, 1, 0, 5, 0, 4, 1, 9, 5, 3, 4, 8, 3, 8, 8, 3, 7, 8, 2, 2, 9, 8, 3, 0, 6, 7, 6, 2, 8, 6, 8, 1, 5, 7, 2, 1, 2, 3, 9, 4, 1, 9, 2, 8, 4, 6, 7, 8, 4, 9, 8, 4, 3, 3, 2, 0, 2, 9, 6, 1, 5, 0, 8, 5, 2, 7, 5, 8, 1, 5, 1, 1, 0, 5, 4, 2, 0, 0, 4, 0, 2, 7, 7, 5, 2, 6, 4, 6, 3, 9, 5, 4, 0, 5, 6, 3, 7, 3, 1, 6, 2, 4, 4, 4, 0, 5, 1, 8, 0, 3, 4, 5, 0, 2, 2, 0, 1, 1, 6, 1, 4, 3, 1, 5, 9, 9, 2, 5, 0, 0, 2, 4, 7, 8, 2, 8, 4, 4, 4, 4, 8, 0, 5, 8, 5, 4, 9, 4, 4, 9, 2, 9, 8, 3, 0, 9, 8, 7, 6, 2, 4, 2, 6, 3, 2, 7, 1, 1, 0, 2, 9, 9, 0, 4, 7, 7, 0, 5, 4, 4, 1, 3, 6, 6, 8, 1, 2, 8, 3, 3, 2, 9, 7, 1, 4, 4, 6, 9, 0, 2, 4, 4, 5, 7, 8, 9, 4, 2, 4, 1, 7, 8, 2, 8, 0, 1, 2, 9, 9, 7, 0, 1, 2, 0, 9, 4, 2, 1, 4, 5, 0, 8, 6, 1, 9, 5, 1, 6, 2, 1, 8, 0, 5, 1, 4, 9, 6, 6, 5, 1, 1, 7, 9, 4, 2, 7, 3, 4, 6, 0, 6, 3, 0, 6, 3, 0, 1, 3, 2, 6, 3, 2, 0, 5, 7, 1, 3, 9, 0, 2, 0, 5, 8, 9, 6, 6, 5, 2, 4, 7, 2, 0, 7, 9, 1, 3, 9, 1, 8, 6, 4, 9, 7, 6, 0, 0, 4, 5, 4, 9, 8, 3, 5, 1, 7, 7, 1, 4, 1, 6, 3, 9, 7, 6, 6, 1, 9, 4, 0, 0, 4, 4, 8, 3, 1, 7, 5, 7, 3, 7, 4, 1, 0, 3, 2, 2, 3, 2, 2, 6, 0, 9, 9, 2, 3, 1, 8, 6, 4, 2, 2, 1, 7, 3, 1, 4, 5, 0, 6, 8, 1, 7, 8, 3, 7, 6, 7, 7, 3, 7, 2, 4, 5, 7, 7, 9, 0, 9, 1, 8, 1, 8, 4, 4, 1, 9, 9, 6, 1, 7, 5, 3, 5, 3, 7, 8, 0, 0, 1, 0, 3, 6, 6, 1, 9, 4, 0, 1, 0, 2, 0, 6, 7, 7, 5, 3, 1, 8, 9, 9, 0, 4, 6, 2, 5, 0, 6, 5, 6, 8, 3, 4, 1, 1, 4, 6, 8, 7, 1, 8, 6, 8, 1, 2, 3, 3, 2, 3, 3, 6, 8, 2, 7, 6, 8, 8, 0, 9, 3, 7, 7, 5, 3, 1, 2, 3, 1, 4, 3, 6, 4, 8, 3, 1, 3, 6, 9, 6, 9, 0, 3, 9, 0, 7, 7, 3, 0, 0, 9, 3, 5, 7, 9, 8, 6, 0, 7, 7, 2, 8, 7, 9, 1, 2, 3, 6, 0, 7, 8, 1, 0, 3, 6, 9, 9, 5, 0, 3, 0, 1, 1, 5, 2, 5, 9, 5, 4, 0, 5, 5, 1, 2, 7, 6, 5, 3, 0, 5, 6, 9, 0, 7, 8, 1, 7, 1, 8, 5, 2, 7, 9, 7, 5, 2, 1, 2, 5, 4, 9, 2, 1, 3, 1, 8, 5, 6, 2, 7, 3, 9, 9, 4, 3, 6, 3, 1, 1, 7, 5, 3, 5, 2, 9, 9, 7, 9, 3, 9, 1, 1, 1, 8, 1, 6, 2, 6, 6, 6, 8, 2, 9, 7, 0, 3, 5, 7, 8, 7, 8, 8, 9, 3, 7, 1, 8, 5, 4, 7, 5, 3, 0, 5, 9, 7, 0, 7, 7, 4, 4, 5, 8, 9, 2, 9, 7, 3, 1, 4, 4, 9, 6, 4, 2, 0, 2, 6, 2, 2, 8, 4, 1, 6, 1, 2, 2, 1, 3, 1, 2, 4, 6, 4, 3, 5, 5, 5, 1, 0, 1, 1, 9, 1, 7, 2, 6, 9, 6, 5, 2, 5, 2, 8, 9, 3, 2, 8, 9, 7, 3, 5, 6, 8, 9, 8, 3, 7, 0, 4, 5, 1, 0, 1, 6, 4, 2, 1, 9, 7, 0, 9, 3, 1, 5, 3, 5, 0, 8, 2, 6, 5, 7, 9, 0, 2, 0, 8, 4, 0, 9, 4, 6, 0, 7, 5, 0, 1, 9, 6, 1, 1, 2, 7, 0, 3, 3, 8, 9, 4, 8, 4, 5, 4, 9, 9, 8, 6, 9, 8, 3, 0, 9, 6, 7, 8, 3, 5, 8, 1, 2, 7, 8, 7, 1, 6, 8, 3, 1, 6, 8, 7, 6, 9, 1, 5, 9, 0, 7, 4, 3, 3, 3, 4, 6, 9, 3, 0, 5, 2, 0, 6, 1, 6, 7, 9, 0, 4, 5, 4, 3, 1, 9, 4, 8, 7, 2, 8, 2, 6, 7, 9, 7, 0, 4, 6, 3, 7, 5, 9, 4, 2, 2, 9, 6, 7, 0, 5, 0, 0, 3, 3, 5, 3, 7, 6, 2, 2, 4, 9, 0, 5, 3, 1, 8, 5, 9, 9, 7, 1, 4, 3, 6, 7, 8, 1, 6, 4, 1, 4, 9, 7, 1, 3, 0, 8, 7, 8, 7, 1, 6, 9, 4, 8, 2, 7, 6, 9, 3, 0, 8, 4, 1, 6, 8, 1, 9, 4, 3, 8, 4, 0, 9, 4, 4, 7, 3, 2, 2, 8, 0, 4, 3, 7, 4, 4, 6, 5, 3, 0, 5, 5, 1, 4, 6, 5, 5, 9, 3, 5, 1, 3, 8, 0, 9, 2, 3, 7, 9, 2, 4, 3, 1, 0, 7, 7, 3, 6, 5, 4, 8, 8, 2, 0, 3, 7, 7, 0, 8, 3, 8, 2, 3, 0, 9, 5, 7, 2, 0, 1, 0, 3, 9, 2, 4, 4, 1, 4, 3, 2, 9, 1, 1, 9, 0, 2, 7, 4, 7, 8, 6, 7, 7, 7, 6, 7, 9, 4, 7, 1, 1, 8, 1, 1, 1, 1, 6, 3, 1, 1, 5, 6, 1, 3, 8, 1, 0, 9, 3, 9, 7, 5, 0, 5, 9, 6, 3, 0, 7, 2, 2, 4, 2, 0, 6, 7, 7, 0, 4, 7, 3, 5, 8, 7, 4, 0, 7, 4, 2, 4, 2, 9, 0, 6, 0, 4, 4, 2, 8, 0, 9, 9, 6, 1, 6, 6, 7, 4, 1, 3, 8, 0, 9, 4, 4, 9, 0, 0, 8, 1, 1, 0, 2, 5, 2, 0, 9, 2, 3, 6, 2, 0, 5, 7, 2, 9, 4, 1, 6, 1, 4, 1, 6, 4, 2, 1, 5, 9, 6, 0, 4, 4, 1, 3, 3, 3, 0, 4, 1, 5, 6, 1, 2, 0, 7, 8, 6, 4, 1, 2, 8, 4, 4, 8, 2, 1, 1, 9, 5, 1, 4, 0, 2, 7, 1, 4, 0, 9, 4, 4, 4, 5, 1, 7, 4, 6, 4, 5, 8, 7, 1, 4, 7, 9, 7, 8, 0, 8, 6, 9, 3, 3, 1, 2, 8, 1, 1, 9, 5, 8, 8, 6, 0, 7, 6, 4, 6, 3, 2, 6, 0, 9, 1, 6, 5, 2, 7, 3, 4, 3, 1, 0, 6, 4, 7, 6, 4, 0, 5, 0, 9, 7, 8, 3, 6, 4, 4, 9, 7, 7, 4, 2, 2, 1, 1, 5, 3, 5, 4, 7, 9, 3, 4, 8, 7, 7, 1, 1, 9, 9, 4, 4, 3, 0, 3, 7, 8, 1, 6, 4, 0, 6, 2, 9, 0, 6, 3, 6, 6, 6, 5, 1, 0, 9, 3, 6, 3, 0, 0, 7, 2, 0, 3, 2, 5, 7, 9, 6, 9, 8, 4, 4, 8, 9, 8, 8, 9, 1, 5, 7, 1, 6, 7, 0, 2, 8, 2, 2, 5, 5, 2, 6, 1, 1, 4, 0, 9, 4, 3, 7, 9, 3, 0, 2, 9, 6, 3, 3, 3, 2, 3, 4, 6, 7, 9, 3, 6, 7, 2, 3, 3, 1, 2, 4, 5, 9, 9, 4, 1, 9, 7, 6, 8, 2, 8, 0, 6, 2, 9, 6, 7, 1, 2, 7, 8, 6, 0, 8, 5, 1, 7, 7, 3, 5, 3, 7, 4, 4, 0, 4, 1, 9, 1, 5, 2, 1, 6, 6, 0, 9, 6, 6, 0, 2, 1, 7, 9, 5, 8, 8, 7, 2, 3, 0, 2, 1, 9, 9, 9, 1, 3, 3, 6, 9, 5, 3, 7, 4, 1, 9, 1, 7, 5, 4, 2, 5, 0, 6, 4, 6, 4, 7, 9, 6, 7, 8, 0, 2, 3, 7, 8, 7, 2, 3, 4, 4, 4, 6, 8, 6, 6, 1, 2, 8, 1, 7, 6, 7, 1, 8, 7, 6, 2, 9, 7, 8, 8, 4, 6, 8, 0, 1, 7, 3, 2, 0, 8, 8, 3, 5, 4, 1, 8, 6, 4, 1, 0, 1, 1, 0, 2, 4, 3, 6, 4, 3, 8, 6, 2, 6, 9, 8, 4, 6, 1, 6, 2, 3, 7, 9, 9, 1, 3, 8, 2, 8, 4, 9, 5, 8, 8, 4, 2, 6, 1, 5, 5, 3, 6, 7, 0, 3, 4, 2, 6, 3, 6, 1, 3, 7, 7, 2, 7, 3, 3, 3, 9, 1, 2, 1, 5, 1, 1, 6, 0, 6, 9, 6, 9, 6, 6, 5, 1, 0, 0, 7, 6, 9, 5, 1, 7, 6, 9, 7, 4, 8, 2, 3, 5, 8, 6, 2, 2, 1, 0, 8, 9, 2, 4, 4, 0, 0, 9, 6, 8, 0, 3, 9, 3, 9, 7, 9, 7, 3, 7, 8, 8, 2, 3, 8, 2, 1, 2, 7, 2, 1, 2, 7, 1, 4, 0, 5, 3, 5, 5, 3, 3, 8, 6, 9, 9, 0, 2, 5, 7, 4, 6, 8, 6, 2, 8, 1, 7, 8, 8, 4, 9, 7, 0, 3, 8, 7, 4, 8, 2, 8, 7, 7, 5, 7, 8, 0, 7, 5, 1, 5, 9, 9, 0, 4, 9, 9, 4, 7, 9, 0, 1, 4, 3, 5, 3, 0, 9, 4, 4, 8, 6, 1, 2, 1, 1, 9, 2, 7, 7, 0, 1, 8, 1, 6, 9, 8, 3, 4, 0, 3, 1, 0, 5, 3, 9, 8, 1, 7, 8, 8, 6, 8, 1, 1, 7, 1, 4, 5, 0, 8, 5, 6, 0, 2, 7, 1, 6, 8, 0, 1, 2, 9, 0, 5, 4, 5, 1, 2, 1, 1, 2, 7, 3, 3, 6, 5, 2, 8, 5, 9, 8, 4, 3, 5, 3, 4, 4, 6, 6, 3, 5, 4, 6, 2, 1, 2, 7, 9, 0, 3, 4, 9, 6, 8, 6, 9, 3, 8, 2, 8, 4, 1, 1, 7, 3, 8, 1, 2, 3, 3, 9, 4, 7, 2, 4, 0, 1, 4, 3, 6, 2, 4, 1, 5, 9, 7, 1, 7, 6, 6, 1, 6, 7, 4, 8, 2, 1, 9, 9, 6, 2, 5, 5, 3, 9, 0, 6, 2, 5, 6, 0, 3, 4, 3, 6, 7, 6, 0, 3, 5, 5, 8, 4, 0, 6, 9, 5, 6, 0, 1, 7, 0, 7, 5, 6, 4, 3, 4, 4, 6, 2, 2, 4, 7, 7, 5, 2, 5, 7, 4, 9, 2, 4, 2, 1, 3, 9, 4, 0, 1, 2, 9, 7, 7, 9, 3, 4, 5, 5, 1, 5, 5, 6, 1, 2, 8, 8, 4, 6, 9, 9, 6, 1, 0, 5, 4, 0, 3, 1, 1, 5, 5, 3, 1, 2, 4, 6, 9, 2, 4, 1, 7, 9, 8, 4, 1, 1, 4, 3, 6, 2, 2, 1, 6, 7, 7, 1, 7, 3, 0, 1, 1, 5, 3, 1, 1, 3, 2, 7, 1, 2, 1, 8, 8, 0, 7, 5, 5, 4, 0, 8, 7, 7, 2, 4, 5, 8, 2, 0, 7, 4, 1, 1, 1, 1, 5, 4, 2, 1, 0, 2, 4, 7, 0, 2, 8, 0, 2, 1, 9, 7, 3, 3, 4, 4, 1, 1, 4, 2, 3, 1, 6, 9, 8, 5, 9, 8, 6, 7, 8, 1, 6, 3, 7, 6, 1, 7, 3, 3, 5, 7, 7, 6, 0, 8, 1, 7, 2, 3, 3, 2, 1, 3, 9, 4, 3, 1, 7, 7, 7, 2, 3, 4, 8, 0, 9, 4, 1, 1, 7, 2, 6, 6, 4, 1, 0, 4, 2, 1, 3, 7, 4, 0, 2, 8, 5, 8, 9, 4, 7, 5, 6, 8, 2, 4, 7, 0, 1, 7, 3, 3, 6, 9, 9, 5, 3, 1, 7, 0, 8, 1, 4, 1, 1, 1, 8, 7, 4, 7, 9, 6, 9, 6, 2, 4, 4, 2, 1, 8, 7, 5, 4, 6, 2, 1, 5, 7, 1, 3, 0, 0, 5, 8, 9, 7, 2, 0, 5, 9, 2, 2, 4, 2, 4, 3, 0, 1, 8, 5, 1, 3, 2, 1, 3, 2, 4, 0, 4, 1, 8, 3, 7, 9, 5, 8, 8, 6, 4, 3, 7, 4, 9, 6, 8, 8, 6, 6, 5, 7, 9, 9, 4, 2, 3, 6, 2, 0, 0, 6, 6, 9, 1, 4, 4, 7, 3, 7, 3, 2, 7, 8, 4, 5, 6, 2, 0, 3, 9, 2, 0, 0, 7, 8, 8, 3, 5, 8, 6, 3, 7, 5, 0, 2, 7, 8, 6, 1, 5, 5, 4, 4, 3, 4, 5, 3, 2, 8, 2, 1, 5, 7, 1, 7, 4, 9, 3, 1, 7, 3, 3, 6, 8, 9, 5, 8, 2, 8, 8, 8, 7, 2, 9, 7, 4, 1, 7, 8, 2, 0, 3, 1, 3, 6, 9, 6, 4, 9, 6, 7, 8, 3, 1, 6, 9, 9, 4, 9, 6, 8, 5, 8, 1, 9, 8, 9, 3, 1, 8, 0, 5, 2, 7, 1, 0, 5, 2, 4, 0, 3, 8, 9, 6, 6, 2, 8, 6, 7, 0, 0, 3, 3, 6, 5, 1, 1, 7, 9, 3, 1, 5, 8, 3, 2, 6, 8, 3, 8, 7, 4, 2, 9, 7, 3, 9, 8, 2, 3, 5, 1, 0, 9, 9, 2, 3, 7, 7, 9, 7, 8, 6, 0, 5, 4, 3, 7, 4, 1, 3, 4, 3, 7, 0, 0, 5, 6, 4, 5, 1, 4, 9, 8, 8, 7, 9, 2, 9, 8, 2, 1, 8, 2, 3, 5, 5, 3, 2, 0, 9, 8, 6, 1, 2, 0, 1, 1, 5, 6, 8, 4, 3, 3, 9, 0, 0, 3, 2, 4, 8, 9, 8, 4, 1, 9, 0, 9, 9, 2, 9, 4, 4, 7, 9, 9, 1, 2, 0, 5, 3, 9, 6, 7, 2, 5, 4, 4, 0, 1, 6, 9, 4, 0, 1, 9, 6, 0, 2, 1, 9, 5, 7, 8, 2, 7, 9, 2, 8, 7, 5, 6, 4, 9, 8, 7, 0, 3, 1, 6, 8, 6, 3, 2, 6, 8, 5, 5, 5, 2, 8, 3, 6, 3, 6, 9, 0, 5, 2, 0, 5, 8, 7, 4, 4, 7, 0, 2, 5, 4, 0, 8, 1, 0, 6, 2, 5, 0, 9, 0, 8, 5, 4, 2, 5, 3, 8, 7, 0, 9, 1, 4, 1, 5, 2, 2, 4, 2, 9, 8, 7, 1, 8, 3, 4, 7, 1, 9, 0, 9, 8, 7, 9, 4, 1, 9, 7, 2, 0, 5, 2, 4, 5, 8, 5, 4, 2, 5, 5, 5, 7, 1, 5, 3, 8, 8, 0, 9, 4, 0, 1, 6, 8, 3, 6, 2, 3, 4, 4, 2, 3, 6, 2, 1, 6, 8, 5, 9, 1, 7, 9, 0, 7, 9, 4, 2, 6, 0, 6, 6, 1, 7, 2, 8, 0, 6, 0, 1, 9, 9, 3, 7, 0, 2, 4, 6, 2, 1, 2, 1, 7, 6, 9, 0, 0, 1, 4, 8, 7, 3, 8, 6, 9, 3, 8, 3, 7, 9, 6, 0, 1, 7, 1, 1, 4, 1, 6, 6, 3, 1, 8, 1, 9, 6, 2, 1, 5, 1, 2, 7, 9, 0, 5, 1, 3, 6, 6, 1, 4, 9, 4, 9, 5, 2, 6, 6, 3, 4, 3, 4, 7, 0, 7, 0, 8, 2, 0, 0, 7, 7, 1, 0, 5, 6, 2, 3, 7, 1, 7, 6, 8, 3, 2, 0, 1, 0, 8, 2, 6, 0, 0, 5, 4, 0, 3, 6, 6, 4, 2, 7, 1, 2, 9, 5, 8, 7, 4, 4, 2, 8, 9, 8, 3, 3, 7, 3, 2, 0, 4, 9, 0, 3, 7, 6, 2, 0, 0, 7, 2, 1, 7, 1, 5, 8, 2, 0, 5, 7, 8, 8, 7, 5, 1, 9, 6, 3, 2, 0, 6, 8, 7, 0, 3, 9, 9, 0, 9, 5, 7, 6, 2, 2, 5, 3, 8, 5, 7, 1, 1, 5, 4, 6, 0, 2, 3, 2, 0, 7, 1, 1, 1, 7, 9, 0, 8, 9, 0, 8, 1, 7, 3, 2, 7, 1, 9, 3, 3, 7, 9, 4, 2, 7, 3, 7, 2, 5, 9, 0, 2, 6, 0, 3, 8, 8, 7, 0, 2, 9, 4, 0, 1, 9, 6, 7, 2, 3, 7, 6, 9, 9, 0, 3, 6, 4, 4, 2, 3, 5, 4, 6, 3, 0, 7, 0, 2, 7, 7, 7, 0, 0, 1, 9, 0, 6, 9, 7, 8, 1, 3, 1, 1, 2, 3, 9, 0, 0, 5, 2, 2, 3, 5, 9, 4, 9, 1, 2, 5, 1, 1, 5, 2, 8, 1, 5, 1, 8, 5, 3, 6, 7, 9, 1, 8, 8, 2, 1, 8, 8, 0, 9, 0, 2, 3, 3, 6, 0, 0, 0, 8, 0, 6, 3, 3, 7, 2, 5, 6, 2, 8, 5, 8, 0, 2, 7, 4, 0, 1, 3, 1, 8, 0, 8, 9, 5, 3, 0, 3, 7, 6, 6, 8, 3, 2, 6, 7, 7, 3, 1, 8, 7, 6, 3, 2, 6, 4, 9, 5, 8, 2, 7, 3, 2, 4, 8, 4, 9, 4, 1, 1, 6, 8, 9, 5, 1, 7, 3, 5, 0, 1, 3, 4, 5, 6, 2, 7, 9, 9, 9, 6, 7, 0, 1, 6, 8, 4, 3, 5, 4, 1, 6, 4, 5, 1, 2, 4, 9, 2, 4, 7, 0, 2, 1, 8, 1, 7, 7, 5, 3, 2, 8, 7, 5, 1, 4, 8, 9, 1, 7, 9, 7, 0, 4, 0, 2, 8, 2, 9, 4, 3, 0, 3, 8, 9, 1, 3, 5, 9, 2, 9, 1, 8, 1, 8, 0, 4, 8, 0, 9, 1, 0, 5, 9, 7, 7, 5, 8, 4, 7, 9, 7, 9, 6, 9, 5, 8, 4, 0, 0, 5, 9, 6, 6, 1, 6, 0, 2, 1, 8, 5, 7, 4, 4, 1, 4, 6, 2, 8, 0, 5, 5, 6, 1, 1, 3, 1, 7, 0, 3, 3, 5, 8, 7, 2, 3, 3, 7, 3, 9, 9, 8, 6, 6, 0, 5, 5, 4, 3, 0, 6, 1, 1, 3, 2, 6, 1, 3, 3, 7, 3, 8, 0, 0, 0, 1, 5, 2, 8, 7, 1, 0, 4, 3, 2, 3, 9, 5, 4, 4, 9, 2, 7, 9, 3, 9, 2, 1, 0, 6, 4, 1, 9, 4, 0, 9, 5, 0, 8, 9, 9, 4, 3, 1, 5, 5, 0, 6, 6, 6, 5, 6, 4, 4, 0, 4, 8, 5, 9, 4, 6, 4, 5, 8, 5, 7, 4, 1, 1, 2, 8, 3, 1, 0, 3, 5, 3, 7, 7, 1, 7, 9, 7, 3, 5, 9, 6, 2, 3, 2, 2, 8, 6, 5, 0, 7, 7, 3, 9, 8, 5, 0, 5, 9, 0, 6, 3, 3, 5, 9, 2, 6, 1, 7, 1, 8, 8, 1, 8, 0, 3, 5, 0, 1, 8, 3, 3, 3, 9, 8, 4, 1, 1, 3, 5, 1, 7, 4, 1, 5, 9, 9, 0, 7, 7, 6, 4, 1, 6, 2, 7, 8, 2, 1, 9, 4, 2, 9, 5, 3, 4, 7, 4, 7, 3, 9, 7, 1, 6, 5, 7, 8, 0, 1, 9, 6, 2, 6, 1, 0, 2, 4, 9, 6, 1, 1, 2, 8, 2, 6, 4, 7, 7, 1, 6, 8, 2, 4, 2, 7, 8, 6, 6, 4, 4, 5, 5, 2, 5, 7, 6, 7, 9, 9, 2, 0, 8, 9, 4, 5, 3, 8, 1, 3, 0, 4, 5, 1, 7, 0, 6, 8, 5, 9, 1, 5, 9, 7, 8, 0, 4, 5, 6, 6, 0, 6, 5, 1, 2, 6, 0, 2, 2, 9, 8, 1, 6, 2, 1, 9, 4, 8, 4, 7, 9, 9, 7, 1, 6, 7, 9, 9, 2, 4, 4, 3, 5, 9, 8, 6, 3, 6, 7, 2, 4, 6, 5, 4, 1, 9, 2, 6, 5, 2, 8, 5, 8, 9, 6, 0, 6, 9, 2, 3, 7, 6, 4, 2, 7, 7, 3, 5, 6, 6, 5, 9, 4, 5, 4, 0, 5, 5, 1, 8, 1, 2, 1, 1, 2, 3, 6, 8, 2, 1, 2, 3, 9, 2, 1, 4, 8, 6, 8, 8, 6, 0, 9, 7, 6, 2, 4, 3, 2, 9, 7, 6, 4, 6, 8, 1, 8, 5, 7, 1, 1, 3, 2, 9, 8, 8, 0, 5, 7, 3, 1, 8, 9, 3, 7, 0, 3, 7, 1, 1, 8, 3, 0, 4, 9, 6, 1, 8, 9, 0, 2, 7, 6, 9, 0, 8, 3, 3, 1, 9, 7, 6, 6, 3, 0, 2, 8, 2, 6, 5, 9, 7, 1, 7, 1, 5, 5, 1, 6, 8, 9, 2, 9, 7, 8, 1, 7, 5, 1, 4, 5, 2, 5, 1, 9, 0, 7, 1, 7, 3, 0, 6, 0, 6, 8, 5, 4, 1, 1, 1, 0, 7, 3, 3, 7, 4, 6, 7, 3, 1, 6, 5, 8, 7, 7, 4, 9, 1, 3, 4, 9, 1, 4, 1, 8, 2, 3, 6, 7, 1, 3, 4, 1, 0, 0, 8, 9, 6, 3, 0, 5, 5, 4, 0, 6, 4, 2, 0, 2, 8, 9, 1, 9, 7, 3, 2, 9, 3, 7, 4, 8, 8, 2, 5, 7, 8, 6, 0, 1, 5, 3, 9, 5, 0, 6, 7, 3, 8, 5, 5, 9, 8, 8, 5, 5, 1, 3, 7, 5, 2, 9, 5, 4, 6, 7, 3, 2, 0, 9, 5, 0, 2, 4, 0, 1, 1, 0, 8, 5, 3, 6, 9, 6, 1, 1, 7, 3, 0, 6, 7, 5, 0, 1, 1, 1, 5, 4, 5, 2, 4, 2, 8, 9, 1, 3, 5, 1, 7, 6, 5, 1, 1, 9, 4, 0, 7, 2, 5, 9, 2, 9, 2, 1, 5, 2, 0, 4, 3, 9, 8, 7, 0, 4, 9, 8, 2, 0, 7, 0, 1, 7, 4, 9, 7, 0, 3, 4, 0, 6, 4, 3, 7, 3, 7, 4, 9, 9, 7, 7, 1, 3, 6, 5, 8, 1, 0, 8, 9, 0, 1, 0, 8, 7, 5, 4, 4, 1, 8, 2, 7, 1, 2, 0, 2, 0, 6, 8, 7, 1, 3, 3, 1, 3, 8, 0, 5, 8, 1, 1, 8, 9, 1, 1, 9, 2, 2, 3, 4, 0, 1, 5, 6, 3, 3, 3, 7, 7, 1, 0, 5, 8, 7, 3, 9, 1, 9, 2, 3, 8, 9, 6, 5, 8, 2, 6, 2, 9, 2, 2, 5, 2, 9, 5, 1, 9, 5, 8, 5, 7, 1, 8, 4, 1, 4, 3, 1, 1, 8, 8, 4, 2, 0, 1, 8, 7, 2, 7, 8, 3, 1, 7, 1, 2, 4, 0, 1, 6, 5, 0, 2, 9, 1, 5, 9, 7, 5, 3, 9, 7, 2, 2, 2, 6, 1, 1, 3, 9, 0, 0, 7, 6, 0, 6, 4, 2, 3, 5, 3, 6, 6, 1, 1, 2, 6, 1, 6, 7, 2, 0, 1, 8, 9, 1, 7, 8, 7, 3, 7, 0, 0, 1, 5, 5, 8, 4, 4, 4, 4, 9, 9, 2, 0, 3, 1, 7, 1, 3, 4, 7, 2, 4, 3, 3, 5, 3, 8, 0, 8, 9, 3, 1, 9, 0, 8, 6, 6, 5, 9, 0, 2, 1, 4, 9, 8, 5, 7, 1, 8, 5, 1, 0, 4, 2, 4, 7, 3, 1, 9, 5, 0, 9, 9, 1, 2, 4, 1, 6, 9, 6, 2, 6, 4, 3, 9, 9, 8, 2, 7, 6, 6, 6, 0, 7, 4, 8, 4, 3, 9, 0, 0, 4, 7, 1, 5, 3, 0, 1, 6, 6, 7, 1, 2, 0, 9, 2, 4, 1, 5, 4, 7, 1, 6, 1, 7, 2, 1, 5, 2, 7, 1, 3, 2, 1, 1, 8, 4, 9, 5, 4, 0, 4, 6, 2, 0, 9, 6, 9, 4, 5, 3, 2, 5, 9, 8, 7, 5, 0, 0, 8, 3, 0, 0, 7, 3, 1, 3, 9, 5, 3, 3, 7, 8, 9, 0, 8, 2, 1, 0, 7, 1, 7, 6, 3, 0, 6, 4, 3, 7, 6, 7, 4, 2, 0, 9, 2, 2, 6, 2, 8, 6, 4, 5, 2, 3, 6, 9, 8, 5, 5, 2, 4, 2, 1, 5, 3, 8, 6, 9, 2, 6, 1, 4, 6, 5, 1, 1, 7, 3, 8, 3, 8, 8, 1, 9, 8, 1, 6, 3, 4, 2, 2, 8, 5, 3, 4, 3, 2, 7, 0, 3, 9, 5, 4, 7, 4, 8, 0, 7, 9, 3, 1, 8, 4, 5, 0, 5, 7, 0, 4, 5, 3, 2, 0, 5, 1, 3, 6, 9, 6, 5, 9, 7, 1, 5, 6, 5, 2, 5, 0, 6, 2, 2, 9, 9, 1, 6, 3, 3, 3, 7, 2, 9, 8, 5, 0, 1, 6, 6, 0, 1, 1, 8, 7, 4, 4, 9, 7, 0, 8, 8, 6, 7, 1, 4, 3, 6, 8, 8, 1, 1, 6, 9, 8, 1, 1, 1, 6, 1, 6, 9, 3, 5, 0, 5, 7, 7, 5, 7, 5, 5, 2, 0, 0, 1, 3, 4, 8, 8, 8, 7, 7, 2, 8, 6, 4, 7, 4, 8, 0, 6, 6, 9, 5, 1, 0, 6, 1, 6, 7, 1, 3, 2, 4, 0, 7, 7, 3, 4, 4, 3, 2, 5, 0, 4, 5, 5, 2, 8, 5, 6, 4, 4, 8, 6, 0, 9, 4, 1, 7, 3, 1, 7, 9, 9, 9, 2, 8, 0, 5, 1, 4, 3, 2, 4, 3, 1, 5, 8, 1, 4, 4, 1, 7, 7, 5, 6, 3, 2, 9, 3, 9, 1, 9, 4, 5, 1, 3, 9, 9, 4, 3, 2, 8, 1, 8, 6, 4, 1, 9, 0, 2, 0, 9, 0, 5, 1, 5, 0, 8, 0, 9, 5, 8, 1, 8, 7, 1, 7, 6, 6, 4, 0, 8, 6, 5, 7, 9, 2, 2, 5, 1, 4, 3, 3, 6, 9, 1, 0, 7, 2, 5, 4, 7, 5, 1, 9, 9, 3, 4, 3, 3, 8, 8, 7, 0, 8, 3, 7, 2, 1, 8, 6, 1, 2, 7, 9, 1, 0, 6, 5, 0, 2, 3, 9, 1, 7, 0, 8, 6, 2, 4, 9, 5, 7, 2, 7, 2, 3, 8, 2, 1, 7, 5, 1, 4, 5, 1, 8, 1, 7, 4, 4, 1, 3, 7, 0, 5, 2, 9, 7, 6, 9, 1, 1, 5, 1, 8, 4, 2, 5, 5, 8, 7, 2, 4, 0, 7, 9, 8, 6, 3, 8, 7, 4, 8, 2, 6, 4, 2, 2, 8, 8, 3, 8, 9, 1, 4, 0, 2, 1, 0, 0, 0, 9, 2, 3, 8, 3, 1, 4, 3, 0, 2, 8, 6, 0, 2, 7, 4, 5, 6, 2, 8, 4, 3, 0, 0, 0, 7, 7, 2, 4, 8, 6, 4, 2, 1, 2, 0, 6, 7, 4, 3, 5, 2, 0, 0, 4, 4, 9, 8, 5, 1, 4, 1, 2, 1, 5, 4, 9, 9, 5, 1, 8, 1, 5, 7, 4, 5, 6, 7, 6, 3, 8, 3, 4, 2, 3, 6, 3, 6, 5, 3, 4, 2, 4, 0, 1, 9, 1, 7, 7, 2, 7, 2, 4, 1, 0, 4, 6, 2, 5, 6, 0, 3, 1, 4, 1, 2, 1, 5, 4, 7, 4, 3, 0, 3, 7, 0, 2, 8, 6, 1, 8, 4, 0, 9, 0, 4, 1, 5, 3, 9, 4, 6, 5, 0, 5, 0, 1, 4, 8, 1, 0, 5, 8, 9, 6, 5, 4, 5, 5, 8, 3, 1, 9, 9, 2, 0, 3, 9, 3, 4, 3, 0, 6, 6, 5, 9, 3, 9, 2, 5, 9, 6, 3, 6, 9, 8, 2, 6, 8, 4, 1, 1, 3, 5, 8, 0, 4, 5, 4, 0, 2, 6, 6, 2, 1, 2, 3, 1, 1, 0, 5, 4, 4, 0, 6, 7, 1, 7, 2, 3, 6, 4, 8, 1, 8, 3, 9, 0, 2, 9, 5, 1, 3, 8, 0, 3, 7, 8, 0, 2, 9, 9, 9, 1, 0, 1, 5, 5, 4, 2, 4, 5, 3, 8, 6, 7, 9, 8, 2, 5, 1, 1, 2, 5, 0, 6, 9, 8, 5, 7, 8, 8, 9, 9, 2, 1, 3, 9, 2, 3, 4, 6, 1, 0, 9, 4, 1, 2, 3, 7, 9, 7, 6, 7, 6, 5, 4, 9, 6, 6, 9, 0, 4, 7, 7, 8, 9, 3, 0, 3, 2, 2, 4, 3, 0, 7, 9, 4, 1, 0, 8, 3, 3, 5, 2, 1, 2, 2, 2, 7, 1, 8, 3, 5, 5, 7, 6, 2, 2, 0, 1, 7, 5, 3, 7, 0, 1, 1, 9, 4, 8, 1, 1, 4, 3, 7, 2, 7, 3, 4, 7, 1, 0, 5, 6, 9, 7, 9, 0, 5, 9, 3, 4, 4, 5, 9, 9, 9, 4, 5, 2, 7, 3, 0, 3, 3, 8, 1, 4, 8, 1, 5, 0, 1, 6, 8, 0, 7, 7, 3, 6, 1, 0, 6, 3, 9, 3, 4, 7, 5, 6, 4, 2, 2, 2, 5, 3, 7, 8, 0, 0, 6, 1, 6, 4, 4, 0, 4, 0, 3, 5, 1, 7, 1, 4, 1, 8, 4, 9, 8, 0, 3, 5, 7, 4, 4, 6, 6, 8, 6, 9, 3, 8, 5, 6, 1, 9, 9, 3, 7, 7, 2, 7, 2, 2, 0, 6, 7, 0, 1, 5, 6, 2, 6, 7, 5, 5, 7, 6, 9, 7, 9, 4, 1, 3, 2, 6, 1, 5, 9, 9, 7, 8, 7, 0, 5, 4, 5, 7, 6, 5, 6, 0, 4, 7, 5, 1, 2, 1, 1, 9, 4, 8, 3, 5, 1, 7, 4, 4, 2, 9, 9, 5, 1, 7, 5, 9, 6, 2, 1, 4, 1, 5, 3, 9, 7, 7, 4, 3, 2, 6, 9, 1, 3, 5, 7, 0, 3, 9, 3, 5, 9, 1, 6, 5, 7, 2, 0, 0, 5, 2, 2, 8, 4, 4, 4, 4, 2, 4, 5, 9, 3, 9, 6, 7, 4, 0, 3, 4, 8, 7, 6, 1, 8, 2, 6, 0, 3, 0, 3, 5, 3, 4, 2, 8, 8, 0, 2, 8, 3, 9, 2, 9, 7, 8, 2, 6, 1, 2, 4, 1, 3, 4, 3, 2, 0, 8, 8, 4, 6, 8, 0, 7, 0, 5, 1, 2, 2, 0, 7, 6, 4, 1, 8, 7, 8, 2, 4, 6, 0, 2, 3, 5, 0, 5, 7, 4, 1, 7, 8, 9, 9, 1, 5, 0, 2, 0, 3, 3, 6, 4, 9, 4, 8, 6, 5, 2, 9, 0, 2, 1, 9, 8, 2, 5, 4, 7, 4, 8, 3, 4, 3, 2, 6, 4, 1, 3, 0, 2, 3, 2, 7, 2, 2, 6, 6, 0, 1, 4, 6, 1, 0, 2, 7, 6, 6, 1, 1, 9, 5, 6, 7, 6, 7, 5, 0, 3, 9, 9, 2, 6, 6, 9, 7, 9, 3, 2, 7, 4, 1, 4, 8, 7, 8, 4, 5, 8, 5, 6, 0, 8, 9, 3, 2, 6, 4, 6, 6, 5, 1, 8, 6, 0, 3, 7, 1, 1, 3, 6, 2, 4, 5, 0, 3, 9, 9, 6, 3, 7, 4, 3, 9, 1, 7, 2, 5, 6, 4, 6, 6, 3, 9, 4, 1, 8, 2, 3, 6, 0, 7, 7, 7, 3, 5, 0, 1, 4, 6, 0, 6, 8, 5, 5, 1, 9, 2, 5, 3, 3, 3, 7, 1, 0, 2, 2, 3, 2, 9, 3, 1, 8, 0, 5, 3, 8, 5, 0, 1, 7, 8, 1, 0, 1, 2, 6, 8, 2, 7, 4, 7, 2, 0, 8, 7, 9, 6, 1, 6, 7, 7, 3, 5, 3, 9, 0, 3, 2, 9, 4, 9, 2, 6, 1, 7, 4, 9, 0, 9, 7, 1, 9, 2, 7, 4, 6, 3, 3, 9, 7, 8, 1, 1, 0, 2, 9, 2, 5, 5, 5, 6, 5, 0, 9, 5, 5, 0, 0, 1, 7, 0, 1, 6, 7, 6, 2, 2, 9, 0, 0, 5, 3, 4, 6, 4, 2, 0, 7, 1, 2, 6, 2, 2, 6, 7, 5, 0, 2, 8, 4, 0, 8, 2, 6, 5, 9, 7, 8, 9, 5, 3, 9, 1, 1, 2, 5, 9, 4, 2, 5, 0, 1, 4, 0, 3, 6, 6, 0, 7, 8, 9, 7, 5, 3, 8, 7, 9, 1, 1, 6, 3, 3, 7, 0, 1, 1, 7, 8, 5, 7, 6, 5, 5, 9, 8, 0, 5, 1, 5, 6, 0, 4, 8, 2, 6, 7, 9, 5, 8, 6, 9, 7, 1, 8, 8, 4, 7, 2, 3, 7, 9, 0, 0, 1, 9, 5, 2, 8, 9, 1, 4, 5, 7, 8, 5, 5, 6, 0, 6, 8, 4, 2, 2, 0, 8, 8, 7, 7, 3, 7, 2, 7, 1, 4, 6, 8, 4, 9, 5, 3, 1, 8, 6, 4, 5, 1, 6, 6, 4, 3, 3, 0, 8, 0, 3, 1, 6, 2, 6, 1, 6, 7, 6, 0, 6, 4, 8, 4, 6, 7, 4, 8, 8, 7, 4, 3, 1, 0, 8, 4, 0, 1, 8, 9, 6, 0, 6, 9, 9, 1, 9, 4, 2, 0, 9, 9, 1, 2, 4, 6, 5, 8, 1, 7, 5, 7, 2, 5, 8, 0, 0, 6, 5, 9, 3, 5, 4, 0, 3, 4, 3, 6, 7, 0, 0, 5, 8, 4, 6, 2, 2, 2, 1, 4, 6, 1, 6, 4, 4, 6, 6, 4, 0, 0, 4, 6, 4, 9, 9, 3, 5, 3, 1, 2, 1, 5, 1, 8, 4, 5, 3, 1, 9, 8, 2, 0, 2, 9, 2, 8, 3, 7, 6, 9, 6, 1, 3, 0, 1, 3, 7, 7, 9, 6, 6, 4, 5, 5, 6, 8, 3, 8, 3, 5, 7, 6, 3, 7, 7, 3, 4, 5, 1, 2, 8, 8, 8, 1, 5, 6, 5, 2, 5, 3, 1, 5, 6, 1, 4, 3, 0, 0, 3, 7, 2, 9, 0, 3, 2, 9, 3, 0, 6, 3, 2, 9, 6, 1, 8, 5, 7, 0, 5, 4, 1, 8, 8, 2, 9, 8, 0, 1, 4, 8, 7, 6, 3, 8, 4, 5, 0, 6, 5, 0, 5, 9, 0, 7, 4, 8, 6, 5, 9, 7, 9, 9, 1, 1, 1, 2, 0, 7, 5, 0, 2, 0, 8, 7, 1, 9, 8, 5, 2, 6, 1, 6, 9, 2, 3, 9, 8, 8, 9, 0, 2, 9, 4, 8, 5, 1, 0, 9, 0, 1, 7, 9, 4, 0, 1, 3, 9, 8, 7, 4, 8, 0, 1, 5, 8, 8, 1, 6, 9, 7, 0, 1, 7, 5, 5, 4, 6, 1, 8, 4, 9, 3, 9, 6, 9, 0, 0, 1, 2, 9, 3, 3, 2, 1, 1, 2, 9, 3, 1, 8, 5, 2, 3, 2, 5, 4, 8, 0, 5, 3, 8, 9, 3, 5, 8, 8, 6, 6, 0, 8, 9, 8, 0, 4, 1, 0, 1, 3, 1, 8, 6, 3, 1, 8, 0, 5, 3, 6, 9, 3, 1, 6, 1, 1, 6, 4, 3, 8, 6, 9, 4, 2, 8, 6, 7, 2, 7, 7, 6, 8, 3, 2, 0, 7, 0, 7, 5, 0, 9, 9, 6, 4, 5, 6, 1, 2, 0, 3, 9, 7, 6, 0, 3, 4, 1, 7, 7, 7, 1, 5, 0, 6, 0, 6, 5, 9, 7, 8, 2, 5, 1, 1, 0, 3, 8, 8, 9, 1, 2, 6, 6, 6, 9, 5, 3, 8, 6, 1, 3, 8, 6, 4, 3, 4, 9, 5, 0, 1, 0, 9, 2, 2, 1, 7, 5, 4, 1, 6, 0, 3, 8, 9, 9, 7, 8, 2, 5, 8, 5, 5, 2, 1, 8, 4, 1, 6, 9, 3, 9, 9, 1, 8, 7, 4, 1, 2, 2, 5, 6, 5, 8, 7, 3, 6, 1, 2, 6, 8, 1, 8, 6, 7, 4, 1, 9, 3, 4, 0, 9, 1, 1, 0, 1, 8, 1, 3, 9, 0, 2, 8, 5, 9, 0, 9, 8, 7, 7, 1, 9, 9, 0, 3, 4, 9, 6, 3, 0, 2, 4, 4, 7, 1, 4, 1, 9, 3, 8, 2, 0, 4, 7, 3, 2, 6, 7, 1, 5, 1, 1, 2, 4, 0, 0, 4, 8, 8, 5, 2, 5, 8, 5, 4, 0, 3, 2, 4, 8, 2, 0, 2, 7, 5, 1, 6, 2, 9, 1, 0, 3, 2, 6, 1, 1, 6, 0, 2, 9, 0, 0, 0, 8, 2, 4, 3, 2, 8, 1, 6, 7, 4, 6, 4, 3, 2, 0, 9, 8, 6, 4, 3, 0, 2, 0, 3, 0, 3, 2, 2, 1, 8, 4, 7, 7, 2, 7, 3, 1, 3, 7, 5, 3, 7, 2, 2, 2, 0, 7, 9, 1, 2, 0, 5, 6, 2, 3, 6, 2, 4, 9, 4, 5, 8, 9, 3, 7, 4, 2, 9, 4, 8, 6, 7, 0, 3, 8, 9, 1, 3, 1, 6, 5, 0, 6, 0, 1, 9, 6, 4, 0, 8, 8, 7, 4, 0, 9, 9, 6, 8, 0, 2, 4, 8, 4, 4, 1, 7, 1, 1, 9, 0, 2, 7, 6, 8, 0, 2, 0, 6, 0, 6, 9, 0, 3, 7, 7, 7, 9, 5, 0, 3, 8, 9, 8, 0, 1, 4, 6, 7, 9, 7, 7, 9, 7, 6, 2, 8, 2, 1, 4, 9, 7, 5, 8, 1, 2, 1, 1, 7, 1, 9, 3, 0, 1, 9, 9, 6, 0, 1, 8, 5, 0, 7, 4, 6, 6, 2, 9, 2, 1, 3, 9, 1, 9, 3, 8, 9, 3, 4, 1, 1, 8, 9, 9, 7, 5, 4, 1, 6, 0, 8, 2, 6, 0, 3, 0, 6, 8, 7, 2, 0, 3, 9, 7, 8, 4, 6, 4, 0, 5, 8, 2, 3, 3, 5, 1, 2, 1, 3, 8, 7, 2, 8, 2, 8, 0, 4, 4, 4, 2, 1, 6, 1, 4, 4, 1, 1, 6, 5, 7, 1, 5, 4, 1, 5, 9, 4, 3, 3, 3, 4, 0, 7, 4, 1, 3, 8, 1, 1, 6, 5, 7, 3, 9, 5, 4, 5, 6, 4, 3, 5, 7, 3, 9, 3, 8, 0, 8, 9, 6, 8, 5, 7, 9, 0, 9, 7, 2, 9, 1, 3, 8, 1, 4, 7, 3, 8, 1, 5, 7, 5, 0, 2, 7, 3, 9, 0, 1, 3, 2, 2, 2, 4, 0, 0, 4, 9, 5, 9, 1, 7, 0, 1, 4, 5, 8, 3, 0, 4, 0, 9, 6, 9, 0, 2, 0, 7, 3, 5, 6, 8, 2, 9, 1, 6, 1, 5, 1, 9, 1, 9, 5, 8, 9, 9, 6, 3, 8, 7, 9, 0, 3, 9, 3, 7, 1, 8, 7, 9, 3, 3, 9, 9, 0, 2, 3, 9, 4, 7, 6, 4, 3, 5, 5, 9, 7, 4, 4, 1, 5, 1, 0, 3, 9, 9, 1, 6, 5, 6, 4, 8, 3, 3, 3, 7, 9, 7, 5, 1, 2, 2, 0, 9, 9, 1, 5, 5, 7, 9, 4, 2, 1, 2, 8, 4, 0, 2, 8, 3, 2, 8, 8, 3, 4, 4, 1, 8, 1, 2, 0, 4, 4, 6, 9, 6, 1, 9, 0, 3, 5, 5, 5, 2, 8, 2, 8, 1, 2, 8, 9, 4, 4, 0, 2, 8, 0, 3, 4, 2, 7, 7, 0, 7, 6, 8, 9, 9, 0, 0, 9, 2, 3, 1, 9, 2, 9, 2, 0, 6, 9, 3, 7, 9, 7, 5, 2, 5, 8, 2, 1, 1, 2, 1, 4, 7, 4, 8, 7, 4, 9, 4, 0, 3, 2, 0, 2, 6, 1, 0, 8, 5, 5, 2, 2, 2, 1, 3, 5, 8, 3, 3, 6, 7, 3, 6, 4, 3, 8, 6, 2, 7, 9, 8, 2, 7, 3, 9, 7, 8, 1, 9, 8, 3, 6, 4, 2, 2, 6, 2, 8, 6, 1, 7, 8, 4, 6, 6, 9, 3, 4, 1, 0, 4, 3, 8, 2, 5, 0, 6, 1, 1, 9, 2, 7, 1, 5, 7, 3, 9, 9, 1, 3, 3, 7, 7, 2, 1, 3, 3, 3, 3, 9, 4, 2, 1, 4, 6, 7, 4, 6, 2, 6, 4, 1, 9, 7, 1, 6, 6, 3, 8, 4, 5, 0, 7, 3, 9, 8, 4, 6, 9, 0, 2, 9, 8, 1, 7, 2, 5, 3, 3, 7, 9, 3, 4, 5, 9, 9, 2, 8, 8, 6, 1, 1, 8, 2, 2, 9, 6, 9, 8, 5, 1, 8, 1, 8, 0, 6, 0, 3, 9, 3, 3, 6, 9, 3, 2, 0, 8, 3, 0, 1, 9, 6, 0, 8, 0, 1, 5, 7, 1, 3, 8, 5, 8, 0, 6, 2, 9, 6, 8, 2, 0, 7, 1, 2, 3, 1, 2, 4, 3, 8, 7, 3, 5, 0, 9, 4, 7, 2, 2, 9, 5, 9, 6, 8, 2, 2, 2, 1, 1, 2, 2, 8, 8, 5, 3, 9, 9, 0, 3, 1, 5, 3, 3, 0, 7, 8, 4, 5, 6, 0, 2, 7, 7, 6, 1, 3, 1, 2, 1, 4, 0, 4, 7, 0, 3, 7, 9, 8, 9, 4, 3, 1, 8, 8, 1, 5, 1, 0, 6, 6, 2, 5, 6, 1, 7, 1, 7, 0, 3, 3, 7, 9, 2, 0, 5, 5, 0, 1, 1, 1, 7, 7, 3, 3, 6, 4, 6, 9, 6, 5, 5, 1, 3, 5, 6, 7, 2, 1, 7, 5, 7, 4, 6, 7, 8, 1, 6, 3, 1, 5, 5, 9, 9, 9, 4, 6, 6, 1, 7, 8, 4, 4, 1, 3, 2, 9, 6, 8, 5, 9, 0, 2, 2, 7, 1, 3, 0, 6, 2, 6, 7, 9, 9, 3, 3, 4, 2, 1, 6, 5, 4, 0, 2, 4, 5, 2, 8, 6, 7, 5, 1, 4, 9, 5, 9, 4, 1, 5, 8, 1, 3, 5, 2, 7, 5, 2, 7, 1, 3, 4, 6, 3, 4, 4, 0, 9, 6, 4, 0, 8, 5, 9, 0, 3, 3, 3, 6, 8, 9, 3, 5, 9, 7, 6, 7, 2, 7, 7, 7, 3, 4, 5, 9, 6, 0, 2, 1, 5, 7, 9, 9, 0, 2, 0, 0, 2, 3, 6, 0, 2, 3, 2, 9, 1, 9, 2, 5, 4, 0, 9, 2, 4, 3, 1, 0, 2, 7, 6, 2, 3, 3, 7, 5, 3, 4, 0, 3, 9, 8, 7, 5, 1, 3, 5, 7, 2, 3, 3, 5, 7, 1, 7, 7, 5, 1, 5, 2, 5, 9, 8, 1, 8, 6, 7, 7, 2, 8, 3, 1, 7, 5, 9, 2, 6, 7, 3, 5, 4, 0, 7, 2, 4, 8, 2, 5, 1, 9, 8, 5, 1, 6, 2, 4, 9, 2, 6, 8, 4, 7, 1, 4, 4, 4, 6, 9, 4, 4, 2, 6, 3, 2, 7, 7, 2, 7, 1, 1, 7, 4, 0, 6, 2, 3, 9, 9, 9, 2, 7, 1, 6, 4, 1, 6, 7, 4, 6, 8, 7, 5, 4, 9, 2, 1, 2, 6, 6, 2, 7, 9, 3, 3, 7, 4, 8, 5, 7, 4, 5, 6, 8, 1, 3, 5, 6, 6, 2, 8, 2, 6, 8, 5, 3, 0, 0, 9, 8, 0, 1, 2, 4, 5, 3, 0, 9, 2, 7, 6, 1, 9, 7, 5, 8, 2, 0, 6, 3, 5, 5, 7, 0, 0, 4, 1, 6, 5, 1, 1, 5, 3, 4, 0, 3, 3, 1, 2, 8, 2, 7, 8, 9, 9, 7, 9, 1, 8, 8, 4, 4, 8, 7, 8, 5, 5, 8, 4, 8, 0, 3, 6, 8, 2, 4, 6, 2, 1, 1, 0, 7, 1, 5, 9, 3, 0, 5, 1, 7, 6, 1, 5, 2, 1, 5, 3, 7, 0, 8, 2, 4, 2, 5, 0, 3, 5, 9, 1, 3, 9, 5, 0, 0, 3, 6, 9, 0, 4, 9, 4, 1, 6, 2, 8, 1, 1, 4, 3, 8, 0, 7, 2, 6, 8, 5, 0, 5, 5, 6, 8, 4, 1, 2, 0, 3, 9, 6, 7, 8, 8, 9, 7, 8, 9, 6, 1, 3, 3, 4, 8, 3, 0, 1, 9, 1, 3, 0, 8, 6, 5, 4, 2, 7, 8, 3, 1, 9, 7, 8, 2, 1, 8, 0, 4, 0, 3, 5, 2, 9, 0, 1, 9, 2, 5, 2, 0, 4, 8, 3, 4, 0, 0, 6, 6, 7, 2, 7, 3, 3, 7, 9, 8, 3, 8, 8, 4, 6, 1, 8, 7, 2, 9, 6, 6, 4, 3, 8, 1, 4, 2, 1, 7, 5, 4, 9, 9, 2, 4, 5, 9, 4, 7, 1, 6, 6, 6, 2, 8, 4, 1, 5, 3, 3, 8, 3, 1, 2, 5, 3, 3, 6, 1, 7, 9, 7, 3, 0, 2, 5, 7, 8, 4, 7, 3, 7, 6, 6, 8, 3, 1, 4, 2, 2, 4, 9, 5, 1, 6, 6, 6, 7, 3, 8, 9, 0, 3, 4, 5, 0, 1, 6, 2, 1, 0, 9, 3, 8, 5, 5, 8, 5, 7, 0, 5, 7, 9, 6, 5, 6, 2, 2, 3, 2, 8, 5, 2, 9, 4, 3, 3, 8, 4, 4, 6, 6, 0, 4, 2, 5, 5, 1, 3, 9, 6, 2, 4, 5, 8, 1, 2, 7, 3, 6, 4, 2, 2, 4, 0, 1, 6, 6, 1, 7, 7, 2, 6, 5, 7, 4, 2, 8, 4, 9, 9, 3, 6, 1, 8, 1, 3, 8, 9, 3, 4, 8, 9, 9, 8, 3, 3, 4, 6, 9, 2, 6, 3, 3, 4, 4, 1, 1, 9, 5, 5, 1, 2, 1, 0, 0, 2, 7, 1, 1, 3, 8, 5, 4, 2, 6, 7, 8, 5, 9, 9, 6, 8, 2, 3, 6, 6, 2, 9, 0, 3, 6, 9, 5, 7, 1, 1, 7, 8, 2, 9, 7, 7, 9, 9, 5, 6, 8, 9, 1, 5, 3, 1, 8, 0, 7, 8, 0, 5, 9, 2, 8, 6, 2, 0, 0, 7, 0, 0, 5, 3, 1, 7, 1, 1, 3, 1, 7, 5, 5, 8, 3, 2, 3, 2, 9, 4, 6, 3, 7, 1, 5, 7, 8, 4, 8, 3, 0, 3, 4, 8, 0, 2, 8, 7, 4, 6, 3, 4, 9, 3, 6, 1, 7, 5, 9, 4, 6, 9, 2, 1, 7, 5, 7, 6, 4, 3, 6, 6, 9, 6, 5, 1, 5, 2, 6, 5, 0, 4, 1, 4, 2, 7, 8, 9, 8, 8, 0, 6, 2, 4, 9, 9, 9, 3, 3, 5, 3, 1, 0, 2, 7, 4, 1, 1, 8, 2, 7, 7, 2, 5, 0, 6, 8, 1, 5, 8, 4, 4, 8, 5, 3, 2, 1, 5, 7, 4, 4, 9, 2, 5, 8, 5, 3, 7, 7, 3, 3, 5, 7, 0, 7, 9, 4, 2, 6, 1, 9, 1, 9, 9, 7, 2, 2, 9, 7, 8, 0, 9, 4, 6, 7, 3, 5, 7, 7, 5, 9, 9, 0, 7, 8, 0, 6, 5, 5, 6, 8, 5, 4, 8, 5, 2, 8, 6, 8, 6, 7, 7, 9, 4, 4, 4, 1, 0, 6, 4, 6, 7, 5, 1, 6, 1, 7, 3, 7, 2, 6, 2, 4, 8, 8, 3, 2, 7, 6, 6, 9, 9, 1, 7, 2, 2, 6, 0, 3, 3, 6, 6, 1, 6, 1, 2, 8, 0, 0, 4, 3, 3, 7, 9, 3, 3, 5, 9, 8, 1, 8, 5, 8, 6, 2, 0, 6, 8, 0, 0, 2, 5, 5, 1, 1, 1, 8, 2, 4, 2, 8, 7, 9, 2, 9, 5, 2, 8, 2, 6, 5, 5, 8, 5, 5, 0, 0, 3, 2, 7, 7, 7, 8, 2, 1, 8, 1, 4, 4, 2, 7, 6, 8, 4, 7, 2, 7, 7, 5, 5, 8, 5, 5, 9, 3, 9, 7, 6, 0, 4, 5, 3, 6, 2, 4, 8, 3, 4, 5, 0, 9, 9, 0, 3, 5, 1, 1, 1, 9, 4, 8, 6, 8, 9, 2, 5, 2, 5, 9, 7, 0, 0, 2, 8, 1, 0, 4, 3, 8, 2, 5, 0, 7, 3, 6, 7, 7, 5, 3, 3, 2, 8, 6, 2, 4, 5, 6, 0, 6, 2, 1, 4, 7, 4, 0, 3, 1, 3, 5, 3, 7, 4, 0, 2, 4, 0, 2, 4, 2, 4, 3, 5, 3, 7, 6, 2, 6, 0, 2, 7, 2, 6, 4, 3, 2, 8, 2, 7, 4, 2, 5, 6, 0, 3, 0, 3, 5, 1, 5, 2, 8, 4, 5, 8, 8, 1, 5, 8, 4, 1, 7, 0, 4, 4, 1, 8, 7, 7, 4, 8, 3, 6, 3, 4, 2, 2, 8, 3, 1, 4, 3, 1, 4, 5, 4, 0, 8, 2, 8, 8, 3, 2, 8, 4, 9, 6, 3, 3, 3, 7, 1, 9, 6, 6, 7, 5, 9, 0, 2, 1, 4, 2, 4, 5, 1, 5, 6, 2, 7, 6, 2, 6, 9, 8, 4, 7, 4, 1, 4, 6, 2, 4, 3, 8, 3, 9, 7, 6, 3, 9, 1, 6, 3, 9, 0, 9, 6, 4, 2, 5, 6, 3, 5, 2, 0, 5, 7, 3, 9, 5, 5, 0, 0, 4, 3, 1, 9, 1, 1, 1, 4, 8, 6, 4, 4, 3, 0, 8, 8, 1, 4, 2, 4, 0, 1, 0, 3, 9, 0, 8, 8, 7, 0, 8, 8, 8, 6, 8, 5, 6, 6, 5, 9, 4, 6, 4, 2, 1, 8, 5, 2, 7, 0, 1, 0, 0, 9, 3, 2, 1, 6, 5, 7, 7, 5, 5, 2, 8, 3, 3, 2, 5, 8, 3, 5, 9, 9, 6, 4, 6, 8, 0, 4, 3, 6, 7, 5, 3, 2, 7, 7, 5, 6, 2, 3, 3, 6, 4, 6, 1, 3, 1, 7, 2, 2, 6, 6, 4, 4, 8, 6, 7, 5, 8, 5, 2, 8, 9, 8, 0, 9, 2, 9, 3, 2, 4, 0, 6, 6, 2, 4, 7, 8, 1, 3, 8, 1, 2, 7, 1, 8, 7, 9, 9, 4, 3, 4, 3, 7, 1, 2, 6, 8, 5, 1, 2, 1, 1, 0, 5, 6, 5, 2, 6, 2, 2, 3, 6, 9, 7, 4, 9, 0, 1, 1, 1, 1, 3, 5, 5, 1, 2, 3, 1, 2, 6, 1, 4, 0, 8, 0, 2, 1, 4, 4, 5, 7, 0, 8, 7, 8, 1, 3, 7, 2, 2, 2, 4, 2, 9, 3, 9, 2, 8, 3, 2, 5, 9, 4, 3, 7, 1, 0, 4, 4, 2, 9, 2, 0, 0, 5, 0, 1, 6, 0, 2, 7, 5, 0, 7, 4, 9, 9, 3, 6, 2, 4, 1, 3, 2, 3, 0, 0, 6, 5, 8, 7, 0, 6, 2, 0, 4, 9, 1, 5, 3, 5, 8, 9, 6, 7, 1, 5, 0, 1, 0, 0, 6, 4, 7, 9, 4, 9, 3, 8, 8, 9, 6, 7, 0, 1, 1, 3, 8, 7, 7, 4, 2, 1, 5, 7, 1, 7, 8, 2, 8, 0, 8, 3, 1, 0, 1, 3, 5, 6, 6, 6, 6, 1, 0, 9, 3, 7, 0, 5, 9, 6, 6, 2, 2, 5, 6, 1, 7, 5, 1, 7, 8, 1, 0, 4, 2, 3, 0, 2, 1, 3, 8, 3, 5, 7, 2, 8, 2, 9, 0, 2, 4, 5, 6, 7, 3, 8, 5, 0, 3, 3, 8, 1, 9, 4, 8, 9, 3, 9, 6, 1, 1, 6, 6, 4, 4, 5, 5, 2, 4, 2, 5, 9, 6, 8, 8, 5, 9, 5, 3, 0, 9, 2, 6, 3, 9, 3, 9, 6, 8, 9, 5, 3, 7, 2, 7, 7, 7, 4, 6, 7, 4, 6, 1, 8, 7, 9, 5, 8, 1, 2, 9, 3, 1, 8, 5, 1, 4, 1, 1, 8, 5, 8, 2, 2, 8, 2, 7, 5, 3, 6, 8, 8, 9, 6, 6, 1, 9, 9, 0, 0, 2, 3, 4, 7, 5, 5, 6, 9, 9, 2, 3, 9, 7, 3, 8, 6, 0, 0, 0, 7, 8, 6, 3, 6, 6, 6, 0, 7, 7, 3, 8, 1, 9, 6, 7, 9, 0, 7, 0, 1, 6, 4, 2, 4, 8, 5, 3, 8, 5, 8, 2, 8, 3, 2, 4, 7, 4, 2, 6, 3, 7, 5, 2, 0, 3, 4, 5, 2, 8, 7, 1, 4, 8, 8, 9, 1, 5, 2, 6, 7, 7, 4, 6, 5, 4, 6, 0, 0, 7, 9, 5, 8, 3, 6, 3, 8, 8, 3, 6, 1, 7, 9, 9, 1, 8, 8, 1, 4, 1, 9, 5, 9, 1, 9, 8, 2, 6, 4, 8, 2, 1, 7, 9, 8, 1, 6, 9, 5, 6, 1, 1, 2, 1, 2, 7, 0, 7, 9, 4, 4, 2, 6, 3, 1, 9, 3, 6, 5, 5, 5, 7, 6, 5, 0, 7, 8, 3, 5, 4, 3, 4, 3, 7, 5, 6, 2, 6, 0, 2, 9, 1, 1, 1, 2, 2, 3, 9, 8, 8, 9, 6, 9, 5, 5, 5, 2, 0, 7, 7, 4, 7, 9, 3, 2, 3, 5, 1, 9, 5, 6, 9, 6, 3, 1, 4, 8, 2, 8, 9, 6, 6, 8, 3, 3, 4, 2, 2, 8, 0, 1, 8, 0, 7, 1, 9, 3, 7, 1, 0, 4, 3, 6, 7, 8, 3, 2, 7, 7, 6, 5, 4, 7, 6, 8, 8, 6, 1, 1, 2, 4, 6, 1, 3, 1, 8, 1, 9, 4, 3, 4, 3, 5, 4, 3, 7, 9, 7, 4, 0, 8, 2, 5, 8, 9, 0, 7, 1, 7, 4, 3, 6, 8, 5, 3, 9, 2, 7, 4, 0, 8, 9, 3, 7, 7, 5, 0, 2, 5, 2, 2, 8, 2, 0, 5, 4, 8, 3, 2, 4, 3, 0, 1, 2, 1, 1, 8, 1, 2, 4, 7, 3, 6, 2, 4, 9, 3, 7, 3, 6, 1, 5, 2, 5, 1, 5, 6, 8, 2, 2, 2, 1, 5, 6, 3, 9, 1, 7, 8, 0, 6, 7, 4, 6, 0, 8, 8, 6, 1, 6, 4, 7, 6, 7, 3, 4, 8, 7, 4, 4, 6, 6, 9, 3, 7, 9, 3, 8, 2, 5, 4, 5, 4, 0, 0, 9, 7, 7, 5, 7, 4, 5, 4, 7, 9, 7, 1, 8, 9, 9, 5, 7, 1, 2, 0, 6, 9, 6, 5, 9, 0, 4, 8, 0, 5, 9, 3, 3, 8, 7, 0, 7, 2, 5, 4, 3, 5, 7, 0, 3, 4, 8, 1, 0, 0, 9, 9, 6, 4, 4, 5, 1, 0, 0, 9, 9, 7, 4, 7, 2, 1, 8, 4, 2, 4, 5, 6, 6, 2, 1, 1, 4, 2, 1, 8, 7, 1, 9, 8, 3, 3, 3, 0, 0, 5, 1, 2, 9, 4, 0, 0, 8, 7, 6, 6, 1, 9, 7, 2, 8, 7, 8, 2, 9, 1, 5, 2, 8, 8, 9, 9, 3, 8, 8, 3, 3, 6, 8, 3, 2, 5, 1, 4, 9, 6, 4, 8, 4, 3, 1, 8, 1, 3, 4, 5, 6, 5, 1, 9, 2, 6, 5, 1, 4, 7, 5, 0, 0, 6, 1, 0, 7, 7, 3, 8, 7, 4, 7, 7, 0, 0, 8, 1, 3, 7, 2, 1, 4, 7, 7, 1, 1, 8, 2, 9, 0, 0, 3, 1, 7, 6, 6, 3, 6, 1, 4, 8, 9, 4, 9, 3, 6, 2, 4, 8, 8, 2, 8, 9, 3, 8, 3, 7, 0, 0, 4, 0, 7, 7, 4, 8, 9, 2, 8, 3, 3, 1, 8, 5, 1, 1, 5, 1, 9, 8, 3, 1, 4, 7, 1, 4, 7, 3, 5, 1, 6, 4, 5, 3, 8, 2, 8, 8, 0, 5, 6, 0, 6, 0, 0, 3, 6, 2, 2, 6, 8, 1, 7, 1, 5, 3, 4, 6, 2, 7, 6, 8, 1, 2, 4, 2, 2, 3, 5, 6, 7, 5, 9, 4, 4, 6, 2, 7, 8, 5, 1, 7, 1, 6, 2, 1, 1, 2, 2, 8, 4, 0, 7, 9, 2, 7, 6, 7, 1, 2, 2, 3, 5, 2, 4, 6, 9, 4, 9, 8, 0, 4, 3, 9, 3, 4, 1, 4, 7, 5, 8, 6, 9, 9, 9, 9, 4, 1, 4, 8, 3, 5, 2, 6, 0, 2, 9, 2, 0, 8, 9, 8, 9, 9, 6, 3, 6, 2, 1, 5, 6, 0, 0, 2, 8, 4, 7, 6, 7, 5, 2, 6, 2, 0, 5, 1, 8, 9, 9, 3, 0, 6, 8, 3, 4, 5, 3, 2, 4, 6, 7, 4, 2, 2, 8, 9, 9, 0, 6, 0, 2, 1, 8, 4, 1, 7, 2, 3, 2, 1, 9, 6, 0, 3, 8, 3, 3, 9, 2, 0, 7, 7, 2, 0, 8, 6, 1, 1, 1, 6, 1, 2, 4, 8, 2, 0, 1, 8, 3, 5, 0, 2, 1, 8, 8, 1, 8, 7, 8, 9, 7, 9, 9, 4, 3, 5, 3, 7, 0, 0, 7, 1, 7, 0, 4, 0, 5, 0, 0, 5, 7, 6, 3, 2, 4, 8, 2, 3, 7, 2, 8, 1, 9, 1, 4, 9, 0, 7, 6, 8, 2, 1, 9, 1, 7, 0, 5, 5, 3, 6, 2, 6, 5, 0, 6, 4, 0, 1, 6, 1, 2, 6, 4, 6, 4, 9, 2, 9, 5, 9, 8, 5, 6, 0, 0, 1, 4, 9, 1, 3, 4, 2, 6, 4, 5, 1, 9, 5, 9, 6, 4, 1, 5, 2, 3, 7, 2, 3, 3, 3, 1, 6, 3, 1, 9, 2, 2, 1, 6, 2, 9, 2, 0, 0, 7, 4, 5, 4, 4, 5, 5, 6, 1, 3, 1, 8, 4, 6, 4, 1, 2, 9, 9, 6, 6, 9, 7, 6, 4, 6, 3, 9, 5, 0, 0, 6, 2, 1, 7, 6, 4, 8, 3, 4, 1, 4, 6, 1, 9, 1, 8, 0, 6, 3, 1, 2, 0, 2, 8, 6, 2, 4, 4, 7, 7, 8, 8, 3, 7, 6, 3, 8, 5, 5, 2, 7, 4, 6, 7, 3, 3, 7, 1, 3, 8, 3, 9, 0, 0, 6, 8, 3, 8, 9, 2, 1, 6, 3, 6, 9, 3, 1, 9, 7, 4, 8, 7, 9, 4, 8, 0, 3, 8, 7, 1, 3, 0, 5, 4, 4, 2, 4, 9, 5, 4, 9, 9, 3, 9, 7, 6, 6, 4, 5, 2, 4, 7, 7, 4, 9, 5, 7, 8, 5, 7, 2, 7, 4, 3, 0, 4, 7, 5, 8, 5, 1, 0, 0, 4, 7, 7, 0, 7, 2, 8, 8, 0, 1, 9, 5, 9, 8, 5, 4, 7, 4, 9, 8, 7, 1, 3, 6, 4, 0, 3, 7, 7, 2, 0, 2, 4, 7, 2, 2, 1, 4, 4, 6, 8, 6, 3, 0, 3, 8, 4, 6, 7, 6, 2, 1, 8, 4, 5, 2, 1, 0, 5, 7, 4, 0, 9, 9, 1, 7, 2, 1, 5, 5, 1, 8, 9, 5, 5, 3, 6, 8, 9, 5, 6, 6, 1, 7, 5, 4, 3, 8, 6, 9, 2, 1, 1, 4, 9, 5, 8, 5, 0, 6, 0, 0, 4, 2, 3, 6, 7, 4, 1, 6, 4, 1, 5, 0, 8, 6, 1, 5, 2, 2, 5, 7, 4, 6, 9, 6, 1, 9, 0, 8, 9, 4, 4, 7, 1, 3, 3, 4, 8, 9, 5, 4, 5, 6, 4, 9, 4, 7, 0, 1, 2, 0, 1, 8, 0, 6, 6, 1, 7, 3, 7, 9, 0, 9, 6, 9, 7, 3, 0, 2, 1, 7, 7, 0, 2, 1, 1, 6, 6, 7, 0, 2, 1, 8, 5, 5, 4, 3, 6, 1, 4, 0, 2, 4, 0, 1, 3, 4, 1, 0, 8, 2, 7, 4, 3, 3, 3, 1, 4, 2, 0, 6, 0, 4, 7, 9, 3, 7, 9, 9, 5, 7, 1, 3, 4, 5, 1, 7, 2, 7, 3, 9, 3, 7, 1, 4, 9, 3, 1, 5, 3, 8, 4, 1, 0, 9, 7, 3, 2, 3, 7, 7, 1, 7, 9, 6, 4, 7, 2, 2, 5, 6, 4, 0, 4, 8, 1, 5, 3, 9, 0, 1, 2, 2, 5, 8, 3, 4, 0, 2, 4, 2, 3, 1, 0, 8, 4, 9, 4, 0, 9, 2, 8, 5, 0, 4, 9, 1, 0, 2, 1, 7, 3, 1, 6, 4, 7, 8, 7, 8, 5, 2, 4, 7, 7, 2, 2, 8, 4, 1, 7, 5, 3, 8, 1, 6, 5, 1, 4, 8, 1, 2, 6, 1, 8, 2, 5, 9, 2, 2, 4, 0, 2, 0, 2, 9, 9, 4, 4, 7, 7, 5, 8, 9, 1, 5, 0, 6, 5, 1, 0, 0, 4, 4, 9, 2, 5, 6, 2, 9, 1, 9, 1, 8, 3, 0, 6, 4, 9, 2, 8, 4, 5, 1, 2, 2, 1, 2, 0, 6, 0, 7, 8, 8, 8, 7, 2, 2, 6, 4, 8, 7, 0, 0, 4, 9, 5, 1, 5, 3, 2, 4, 2, 2, 9, 8, 8, 2, 0, 0, 9, 2, 3, 9, 5, 0, 8, 3, 2, 8, 2, 4, 6, 3, 2, 6, 5, 0, 7, 5, 2, 0, 2, 9, 4, 5, 0, 0, 9, 4, 9, 4, 7, 9, 5, 4, 2, 1, 6, 1, 5, 7, 4, 1, 1, 5, 1, 3, 4, 9, 0, 9, 0, 4, 9, 3, 2, 3, 0, 4, 7, 5, 1, 5, 6, 1, 7, 2, 3, 6, 1, 4, 0, 3, 5, 3, 1, 2, 9, 5, 9, 1, 9, 7, 0, 6, 7, 1, 8, 8, 7, 2, 1, 5, 6, 0, 3, 6, 0, 1, 3, 4, 4, 9, 7, 0, 4, 4, 1, 2, 0, 3, 8, 6, 8, 1, 4, 0, 7, 2, 8, 8, 8, 8, 1, 9, 4, 0, 6, 0, 5, 3, 7, 3, 8, 3, 7, 1, 6, 2, 9, 0, 5, 0, 4, 7, 7, 8, 4, 0, 6, 3, 5, 2, 6, 0, 0, 9, 7, 9, 2, 4, 5, 0, 6, 4, 1, 2, 9, 8, 9, 7, 8, 8, 9, 1, 7, 7, 6, 7, 3, 3, 2, 4, 3, 5, 8, 6, 2, 5, 7, 4, 7, 3, 4, 1, 2, 8, 1, 4, 8, 2, 2, 5, 7, 8, 2, 6, 7, 4, 0, 3, 2, 1, 4, 3, 5, 9, 0, 7, 1, 1, 3, 9, 8, 9, 1, 7, 9, 3, 3, 0, 6, 6, 6, 2, 2, 9, 5, 2, 4, 6, 5, 3, 4, 8, 5, 1, 7, 5, 6, 8, 5, 9, 6, 8, 1, 0, 5, 8, 2, 8, 9, 2, 9, 6, 0, 5, 3, 6, 3, 8, 2, 0, 9, 9, 0, 3, 2, 4, 7, 8, 2, 7, 5, 5, 2, 6, 0, 9, 7, 6, 2, 1, 8, 4, 4, 7, 7, 8, 9, 6, 5, 8, 9, 9, 9, 4, 0, 3, 2, 6, 3, 7, 4, 9, 5, 4, 4, 1, 9, 2, 0, 6, 8, 5, 9, 7, 4, 7, 9, 5, 3, 1, 0, 2, 3, 4, 4, 2, 6, 8, 0, 5, 8, 1, 7, 5, 5, 1, 6, 1, 6, 1, 6, 4, 3, 9, 4, 6, 3, 1, 1, 6, 9, 9, 7, 2, 3, 5, 5, 5, 6, 0, 6, 1, 7, 2, 8, 0, 8, 3, 1, 3, 9, 2, 7, 0, 8, 0, 0, 3, 0, 6, 5, 1, 8, 6, 2, 9, 7, 5, 6, 4, 3, 6, 2, 1, 7, 3, 5, 9, 4, 3, 6, 8, 1, 1, 5, 8, 3, 4, 2, 2, 1, 1, 4, 2, 8, 1, 8, 9, 0, 8, 1, 8, 1, 9, 9, 0, 0, 4, 7, 1, 0, 8, 1, 3, 9, 9, 7, 1, 2, 9, 2, 6, 1, 8, 8, 6, 1, 9, 3, 8, 2, 5, 3, 1, 9, 0, 0, 7, 9, 5, 8, 5, 6, 3, 2, 2, 4, 4, 9, 5, 8, 8, 5, 1, 9, 6, 7, 0, 4, 4, 5, 2, 9, 2, 1, 0, 9, 7, 7, 7, 6, 0, 1, 9, 4, 0, 8, 4, 1, 2, 9, 3, 1, 0, 3, 6, 5, 7, 6, 6, 8, 1, 8, 1, 7, 3, 3, 6, 1, 2, 3, 0, 1, 2, 9, 1, 4, 1, 9, 2, 1, 7, 5, 7, 6, 3, 2, 4, 8, 7, 8, 0, 2, 1, 6, 5, 4, 0, 0, 9, 1, 7, 1, 1, 4, 8, 7, 9, 2, 9, 1, 6, 4, 1, 2, 2, 1, 1, 7, 3, 1, 4, 7, 9, 8, 0, 0, 4, 1, 1, 3, 8, 5, 0, 1, 4, 6, 6, 7, 8, 9, 7, 5, 2, 6, 1, 1, 3, 6, 8, 0, 2, 5, 7, 8, 5, 0, 4, 4, 4, 3, 1, 2, 9, 1, 3, 7, 6, 9, 1, 9, 3, 7, 1, 7, 1, 8, 3, 6, 0, 1, 5, 6, 6, 2, 3, 9, 7, 6, 6, 9, 7, 6, 6, 2, 4, 1, 8, 1, 2, 3, 7, 9, 5, 9, 4, 1, 0, 3, 1, 2, 7, 9, 0, 2, 4, 1, 8, 5, 4, 5, 0, 0, 2, 7, 0, 8, 9, 4, 6, 3, 4, 0, 6, 7, 1, 7, 8, 3, 1, 6, 3, 5, 9, 9, 1, 6, 1, 1, 6, 0, 9, 2, 4, 7, 9, 2, 8, 3, 0, 6, 6, 1, 6, 9, 9, 2, 7, 8, 5, 7, 5, 0, 9, 4, 1, 8, 8, 1, 1, 4, 7, 8, 6, 8, 2, 9, 8, 1, 5, 3, 2, 7, 5, 1, 0, 1, 0, 3, 3, 1, 5, 8, 8, 9, 3, 1, 3, 8, 6, 5, 1, 6, 9, 3, 8, 7, 9, 0, 5, 5, 4, 9, 5, 4, 8, 9, 8, 4, 4, 9, 1, 0, 9, 6, 7, 0, 6, 1, 5, 0, 6, 8, 2, 0, 1, 5, 6, 4, 8, 2, 5, 3, 3, 8, 1, 2, 3, 2, 0, 5, 2, 5, 1, 1, 8, 3, 9, 3, 4, 7, 3, 4, 7, 6, 7, 9, 7, 7, 1, 5, 9, 2, 8, 6, 7, 3, 1, 5, 4, 4, 0, 9, 7, 1, 6, 3, 0, 2, 7, 2, 7, 1, 3, 9, 4, 2, 1, 6, 8, 5, 8, 0, 5, 2, 1, 7, 3, 9, 8, 0, 9, 2, 9, 9, 6, 6, 3, 2, 6, 9, 5, 5, 4, 1, 1, 4, 6, 0, 7, 5, 8, 0, 0, 3, 9, 8, 1, 0, 9, 2, 5, 2, 0, 2, 8, 8, 0, 7, 3, 7, 5, 1, 1, 5, 7, 7, 7, 3, 4, 1, 0, 6, 9, 9, 6, 9, 1, 5, 4, 5, 8, 9, 9, 1, 1, 7, 9, 1, 7, 7, 6, 5, 8, 2, 4, 1, 3, 0, 8, 5, 2, 7, 1, 4, 0, 8, 5, 8, 5, 1, 3, 4, 5, 5, 2, 1, 3, 5, 2, 2, 9, 4, 4, 9, 5, 9, 1, 3, 2, 9, 6, 2, 2, 0, 7, 3, 7, 3, 2, 9, 4, 2, 2, 9, 2, 2, 8, 1, 0, 0, 9, 0, 6, 2, 4, 1, 0, 4, 7, 1, 1, 2, 9, 0, 8, 2, 9, 5, 0, 2, 3, 0, 7, 2, 0, 6, 0, 1, 1, 1, 7, 6, 1, 7, 7, 3, 8, 5, 0, 9, 1, 6, 8, 3, 4, 9, 5, 2, 6, 5, 0, 5, 3, 7, 3, 3, 4, 4, 7, 2, 1, 9, 3, 4, 5, 2, 7, 4, 3, 5, 7, 4, 1, 8, 4, 3, 7, 6, 2, 3, 6, 9, 1, 4, 3, 9, 9, 1, 7, 5, 6, 8, 4, 1, 5, 5, 2, 2, 2, 8, 4, 0, 7, 6, 4, 3, 2, 3, 1, 7, 6, 7, 6, 8, 9, 0, 2, 3, 6, 9, 6, 9, 8, 5, 9, 8, 9, 7, 1, 5, 9, 3, 2, 7, 6, 7, 8, 1, 6, 1, 8, 9, 7, 2, 1, 1, 0, 5, 8, 5, 9, 1, 4, 9, 2, 1, 7, 6, 6, 2, 4, 2, 3, 5, 5, 2, 4, 0, 2, 7, 3, 7, 8, 2, 0, 7, 2, 7, 2, 9, 1, 2, 0, 2, 4, 3, 0, 6, 2, 8, 0, 3, 7, 6, 1, 9, 0, 3, 1, 4, 5, 7, 9, 3, 1, 9, 5, 0, 4, 7, 2, 2, 1, 9, 5, 7, 2, 6, 2, 6, 7, 7, 8, 0, 5, 2, 7, 0, 2, 0, 2, 0, 2, 4, 2, 5, 9, 0, 5, 2, 7, 5, 1, 4, 2, 5, 6, 1, 9, 8, 8, 9, 4, 5, 5, 0, 8, 6, 6, 6, 5, 0, 0, 6, 9, 5, 4, 4, 1, 2, 2, 2, 1, 7, 7, 5, 0, 0, 1, 6, 5, 4, 2, 0, 2, 5, 7, 8, 5, 2, 4, 4, 9, 4, 4, 6, 6, 4, 0, 3, 9, 1, 3, 2, 4, 0, 0, 1, 1, 7, 6, 2, 5, 1, 2, 7, 5, 1, 8, 0, 1, 5, 7, 8, 5, 9, 1, 2, 7, 7, 0, 0, 1, 7, 3, 0, 3, 1, 4, 1, 3, 8, 3, 7, 3, 9, 1, 7, 7, 1, 2, 6, 5, 8, 0, 3, 2, 0, 6, 5, 4, 6, 7, 0, 3, 4, 6, 3, 5, 2, 7, 7, 3, 5, 4, 9, 0, 3, 1, 5, 3, 1, 2, 0, 2, 4, 8, 9, 4, 2, 9, 2, 5, 9, 5, 3, 4, 2, 6, 6, 5, 2, 9, 9, 7, 7, 7, 7, 4, 4, 8, 8, 7, 6, 1, 4, 4, 9, 0, 9, 6, 7, 2, 9, 4, 1, 9, 6, 7, 3, 7, 6, 2, 5, 9, 9, 9, 2, 2, 5, 5, 3, 0, 3, 6, 1, 8, 4, 6, 2, 7, 2, 7, 9, 9, 3, 4, 7, 1, 7, 6, 6, 1, 5, 0, 1, 3, 0, 1, 3, 2, 6, 5, 3, 4, 3, 9, 9, 3, 3, 0, 7, 5, 9, 6, 6, 4, 6, 5, 7, 3, 6, 1, 8, 8, 6, 7, 9, 1, 6, 0, 4, 2, 3, 5, 8, 9, 1, 9, 2, 8, 8, 7, 9, 1, 5, 7, 1, 8, 8, 1, 6, 7, 6, 0, 7, 6, 3, 1, 0, 7, 9, 5, 7, 8, 1, 0, 9, 9, 4, 0, 0, 7, 7, 4, 4, 7, 1, 5, 7, 1, 3, 3, 0, 0, 9, 1, 7, 0, 2, 0, 8, 5, 0, 2, 7, 9, 2, 4, 4, 9, 8, 0, 0, 4, 3, 6, 1, 9, 4, 8, 9, 6, 8, 9, 4, 9, 8, 8, 9, 2, 3, 8, 6, 5, 4, 5, 0, 1, 9, 0, 5, 8, 1, 1, 5, 4, 8, 2, 5, 9, 5, 1, 1, 8, 8, 0, 8, 4, 8, 9, 3, 2, 0, 2, 8, 9, 0, 6, 0, 1, 9, 9, 9, 4, 1, 4, 9, 1, 6, 5, 1, 1, 3, 1, 7, 4, 6, 3, 9, 5, 7, 7, 5, 4, 8, 5, 5, 2, 4, 8, 8, 3, 1, 1, 3, 2, 9, 0, 4, 9, 4, 9, 0, 5, 3, 1, 4, 2, 0, 4, 1, 0, 7, 1, 9, 4, 8, 1, 4, 7, 8, 8, 1, 5, 4, 3, 0, 8, 9, 5, 9, 5, 0, 9, 5, 1, 7, 8, 8, 7, 2, 1, 4, 9, 6, 3, 8, 8, 7, 9, 7, 6, 3, 3, 5, 3, 2, 0, 1, 8, 1, 1, 9, 1, 3, 0, 6, 9, 0, 0, 6, 9, 0, 1, 7, 3, 2, 6, 7, 7, 7, 7, 2, 2, 8, 1, 0, 9, 0, 2, 0, 7, 3, 7, 4, 5, 7, 5, 1, 1, 6, 7, 6, 7, 2, 6, 1, 0, 8, 2, 9, 8, 4, 5, 2, 6, 2, 1, 5, 3, 1, 1, 6, 3, 8, 2, 6, 7, 6, 0, 9, 8, 2, 9, 6, 0, 5, 8, 0, 1, 0, 8, 7, 2, 9, 6, 9, 0, 2, 4, 1, 2, 0, 1, 4, 7, 6, 6, 9, 1, 7, 0, 7, 1, 1, 8, 8, 5, 2, 9, 1, 2, 0, 0, 7, 5, 9, 0, 3, 2, 6, 7, 5, 3, 2, 1, 9, 4, 6, 5, 9, 1, 8, 8, 8, 1, 8, 8, 3, 4, 1, 5, 6, 2, 1, 8, 6, 4, 6, 3, 6, 8, 1, 5, 0, 5, 0, 0, 9, 8, 1, 9, 0, 1, 8, 4, 2, 5, 9, 3, 1, 4, 2, 3, 4, 5, 0, 0, 3, 0, 6, 6, 1, 9, 1, 4, 9, 8, 2, 0, 4, 1, 5, 6, 4, 9, 4, 1, 0, 4, 1, 7, 0, 7, 3, 6, 7, 9, 6, 2, 6, 8, 5, 0, 2, 3, 1, 0, 0, 2, 5, 5, 1, 3, 1, 9, 1, 6, 9, 9, 9, 3, 2, 0, 7, 3, 1, 6, 2, 3, 2, 5, 1, 6, 7, 9, 3, 9, 5, 5, 8, 4, 3, 9, 4, 0, 3, 7, 8, 5, 8, 1, 5, 0, 7, 9, 0, 4, 0, 0, 4, 8, 5, 1, 8, 7, 0, 0, 7, 4, 3, 8, 6, 9, 6, 7, 7, 1, 6, 8, 3, 4, 7, 6, 3, 0, 7, 9, 6, 5, 3, 9, 2, 3, 0, 1, 2, 8, 9, 8, 3, 9, 3, 3, 8, 9, 5, 7, 9, 2, 9, 7, 5, 2, 4, 8, 5, 7, 4, 5, 9, 4, 7, 5, 6, 0, 3, 6, 5, 0, 4, 2, 3, 9, 2, 7, 0, 7, 4, 2, 9, 3, 2, 0, 6, 2, 4, 0, 1, 4, 0, 6, 7, 0, 0, 5, 5, 2, 1, 3, 7, 1, 2, 6, 3, 8, 7, 0, 3, 9, 5, 4, 4, 9, 2, 8, 0, 0, 9, 7, 3, 3, 5, 8, 2, 7, 8, 9, 5, 1, 1, 3, 6, 1, 2, 3, 5, 4, 2, 1, 3, 7, 3, 7, 5, 6, 9, 7, 4, 9, 0, 8, 8, 6, 7, 1, 5, 7, 4, 9, 0, 9, 3, 6, 1, 9, 2, 4, 3, 3, 9, 7, 3, 6, 0, 0, 1, 3, 0, 5, 2, 8, 9, 7, 5, 2, 5, 8, 0, 9, 7, 6, 7, 6, 2, 3, 3, 7, 7, 3, 2, 0, 3, 4, 6, 8, 2, 3, 1, 1, 6, 9, 1, 1, 8, 1, 8, 3, 0, 6, 3, 2, 4, 3, 9, 2, 0, 9, 3, 9, 5, 2, 7, 5, 8, 0, 3, 1, 4, 1, 0, 1, 9, 5, 9, 2, 2, 2, 1, 5, 9, 2, 2, 6, 8, 3, 9, 1, 9, 1, 0, 3, 2, 9, 7, 4, 1, 2, 2, 6, 1, 1, 9, 1, 5, 2, 1, 3, 0, 5, 6, 8, 3, 6, 2, 7, 9, 0, 8, 8, 7, 4, 6, 9, 8, 3, 7, 5, 2, 7, 6, 6, 7, 7, 2, 6, 2, 0, 8, 9, 8, 6, 7, 3, 5, 2, 8, 8, 8, 0, 6, 6, 0, 0, 0, 1, 0, 6, 3, 4, 2, 0, 6, 2, 0, 9, 8, 1, 6, 2, 5, 1, 9, 8, 8, 9, 0, 8, 1, 2, 4, 8, 5, 1, 5, 2, 6, 1, 4, 2, 6, 7, 5, 5, 4, 2, 7, 5, 5, 2, 9, 3, 1, 9, 3, 6, 1, 7, 1, 3, 4, 6, 7, 9, 7, 1, 3, 0, 1, 8, 5, 2, 1, 1, 9, 4, 9, 7, 4, 1, 5, 3, 0, 1, 0, 6, 7, 3, 7, 5, 0, 7, 7, 7, 7, 1, 4, 9, 6, 9, 9, 5, 7, 1, 3, 8, 9, 4, 1, 6, 7, 3, 4, 4, 8, 3, 2, 7, 4, 9, 1, 9, 0, 4, 8, 6, 3, 5, 3, 7, 1, 5, 7, 9, 7, 0, 3, 1, 7, 2, 7, 0, 1, 5, 2, 6, 7, 5, 7, 9, 6, 7, 2, 8, 2, 3, 6, 6, 5, 9, 7, 8, 2, 4, 9, 5, 4, 4, 9, 6, 7, 1, 8, 6, 0, 3, 2, 7, 5, 9, 5, 2, 3, 5, 3, 7, 9, 7, 9, 2, 2, 8, 5, 2, 7, 5, 0, 1, 1, 8, 0, 8, 5, 6, 3, 0, 8, 4, 9, 6, 4, 1, 0, 9, 3, 8, 4, 2, 8, 1, 1, 6, 5, 1, 2, 7, 8, 6, 2, 8, 7, 8, 9, 7, 7, 0, 2, 3, 0, 8, 9, 8, 4, 4, 8, 9, 7, 7, 9, 1, 3, 3, 3, 8, 0, 6, 2, 7, 7, 2, 5, 2, 9, 8, 0, 3, 3, 4, 4, 3, 2, 5, 2, 0, 9, 7, 2, 6, 1, 0, 4, 5, 3, 2, 7, 4, 4, 4, 6, 4, 7, 9, 2, 1, 8, 8, 3, 5, 2, 9, 1, 2, 7, 1, 4, 4, 6, 5, 7, 2, 6, 4, 3, 1, 6, 9, 0, 9, 8, 1, 1, 0, 0, 9, 6, 1, 2, 4, 0, 7, 3, 2, 1, 0, 3, 2, 3, 9, 7, 4, 0, 7, 5, 5, 4, 1, 4, 8, 7, 2, 0, 3, 1, 0, 6, 1, 1, 7, 7, 6, 8, 0, 5, 5, 9, 2, 2, 5, 9, 8, 5, 2, 9, 8, 6, 7, 1, 0, 9, 8, 5, 1, 9, 1, 3, 1, 8, 2, 5, 3, 4, 7, 3, 4, 2, 7, 0, 5, 6, 8, 3, 3, 4, 8, 3, 1, 3, 7, 1, 7, 1, 1, 9, 4, 1, 3, 6, 1, 2, 1, 5, 2, 7, 2, 6, 1, 8, 9, 4, 7, 1, 6, 6, 7, 4, 0, 2, 3, 3, 1, 7, 6, 0, 7, 8, 7, 1, 2, 3, 2, 6, 7, 2, 9, 8, 7, 6, 1, 6, 0, 3, 5, 4, 4, 9, 4, 7, 1, 5, 9, 9, 2, 6, 9, 1, 1, 9, 9, 6, 2, 2, 9, 2, 7, 2, 7, 8, 8, 6, 3, 6, 7, 6, 2, 1, 9, 8, 1, 2, 0, 2, 5, 9, 5, 9, 5, 1, 5, 1, 7, 3, 8, 4, 8, 5, 6, 9, 7, 7, 3, 1, 1, 8, 9, 1, 0, 3, 8, 4, 0, 0, 7, 4, 5, 3, 7, 9, 2, 1, 2, 2, 3, 4, 4, 7, 1, 7, 3, 3, 7, 7, 2, 9, 2, 4, 2, 0, 4, 8, 8, 2, 1, 3, 9, 5, 2, 0, 2, 9, 0, 9, 6, 5, 9, 1, 1, 9, 5, 0, 4, 5, 9, 6, 2, 0, 9, 6, 8, 9, 8, 2, 9, 3, 8, 0, 6, 0, 9, 9, 9, 7, 3, 4, 7, 8, 1, 4, 6, 7, 2, 0, 3, 1, 8, 4, 3, 2, 9, 6, 6, 7, 6, 4, 9, 4, 9, 8, 1, 3, 7, 7, 1, 4, 6, 9, 0, 7, 0, 3, 4, 0, 2, 0, 2, 7, 2, 8, 0, 9, 1, 4, 2, 0, 5, 1, 0, 6, 3, 5, 7, 3, 6, 6, 5, 1, 0, 3, 6, 4, 4, 4, 7, 9, 5, 3, 7, 7, 1, 4, 0, 4, 9, 6, 3, 9, 6, 6, 0, 9, 9, 4, 1, 9, 2, 8, 4, 5, 1, 5, 8, 1, 5, 6, 2, 2, 3, 6, 9, 4, 1, 2, 1, 6, 6, 5, 3, 0, 1, 7, 1, 4, 1, 4, 0, 7, 7, 8, 1, 4, 7, 7, 7, 3, 2, 5, 7, 6, 0, 3, 4, 7, 7, 9, 4, 2, 5, 2, 6, 7, 6, 0, 7, 4, 9, 0, 2, 9, 3, 2, 4, 8, 2, 1, 0, 7, 3, 3, 2, 1, 4, 0, 2, 9, 8, 6, 8, 1, 3, 1, 9, 1, 3, 9, 2, 6, 6, 2, 1, 7, 9, 6, 4, 6, 4, 0, 4, 6, 0, 5, 2, 7, 1, 3, 7, 3, 2, 4, 2, 6, 8, 8, 3, 4, 5, 3, 1, 6, 4, 5, 0, 6, 5, 1, 7, 8, 5, 1, 1, 2, 4, 8, 1, 9, 6, 9, 1, 9, 2, 4, 3, 8, 0, 8, 1, 9, 6, 9, 7, 9, 8, 2, 3, 2, 5, 5, 9, 1, 4, 8, 9, 4, 7, 9, 6, 3, 9, 7, 8, 2, 8, 1, 7, 1, 0, 4, 8, 8, 1, 9, 7, 0, 8, 4, 0, 5, 8, 6, 2, 7, 7, 5, 5, 6, 1, 4, 8, 0, 0, 3, 6, 1, 6, 0, 7, 2, 9, 1, 6, 9, 7, 5, 4, 3, 8, 4, 2, 2, 8, 6, 2, 8, 5, 2, 5, 4, 4, 1, 0, 2, 2, 0, 6, 1, 3, 4, 9, 0, 8, 0, 8, 1, 4, 4, 7, 9, 1, 7, 9, 8, 8, 7, 9, 8, 1, 3, 7, 4, 5, 3, 0, 5, 7, 4, 3, 1, 3, 0, 9, 8, 9, 6, 8, 1, 0, 6, 0, 1, 1, 0, 3, 4, 2, 2, 1, 9, 1, 2, 6, 4, 2, 1, 0, 7, 8, 1, 1, 4, 8, 4, 3, 7, 1, 7, 9, 9, 0, 1, 9, 1, 8, 0, 1, 4, 7, 4, 0, 9, 9, 3, 8, 1, 1, 2, 6, 7, 7, 0, 4, 5, 2, 1, 3, 1, 2, 1, 3, 9, 0, 2, 1, 4, 0, 8, 6, 0, 8, 2, 0, 0, 5, 9, 4, 6, 1, 1, 4, 5, 5, 9, 8, 7, 4, 3, 5, 2, 0, 3, 8, 8, 2, 0, 2, 4, 7, 2, 4, 2, 7, 3, 3, 7, 2, 8, 0, 5, 8, 7, 9, 7, 0, 9, 4, 2, 0, 7, 6, 3, 5, 1, 7, 7, 8, 2, 4, 0, 2, 3, 9, 3, 2, 9, 1, 5, 9, 8, 5, 9, 7, 6, 1, 7, 6, 3, 0, 4, 3, 8, 4, 7, 3, 6, 1, 3, 0, 5, 1, 6, 3, 9, 0, 1, 2, 0, 6, 7, 2, 0, 1, 4, 2, 6, 7, 6, 4, 0, 3, 7, 4, 2, 1, 1, 2, 9, 0, 0, 7, 3, 3, 2, 1, 7, 9, 0, 5, 1, 2, 6, 7, 4, 2, 2, 6, 1, 1, 4, 4, 1, 4, 3, 4, 8, 1, 7, 5, 7, 0, 8, 6, 1, 3, 0, 7, 3, 7, 1, 1, 7, 6, 9, 4, 3, 6, 0, 6, 2, 9, 2, 6, 1, 9, 1, 7, 0, 7, 3, 5, 3, 0, 7, 9, 8, 2, 6, 3, 9, 1, 4, 1, 2, 6, 6, 4, 1, 7, 1, 4, 8, 0, 9, 8, 9, 7, 4, 1, 5, 0, 2, 1, 8, 7, 3, 2, 6, 4, 8, 3, 1, 6, 9, 8, 2, 7, 0, 1, 9, 3, 7, 7, 7, 9, 9, 5, 2, 3, 5, 6, 0, 2, 9, 3, 7, 2, 1, 3, 2, 6, 7, 2, 0, 1, 8, 2, 3, 1, 9, 3, 6, 8, 8, 1, 1, 3, 1, 7, 9, 4, 1, 8, 1, 6, 6, 4, 1, 2, 6, 9, 3, 3, 1, 0, 5, 2, 8, 3, 5, 2, 4, 8, 6, 1, 1, 5, 5, 8, 7, 4, 7, 2, 0, 9, 7, 8, 1, 9, 9, 2, 1, 2, 1, 6, 4, 3, 1, 6, 9, 2, 2, 0, 1, 1, 0, 4, 6, 4, 8, 0, 9, 1, 4, 0, 2, 8, 6, 7, 2, 7, 3, 1, 8, 5, 2, 4, 8, 0, 4, 1, 6, 9, 8, 2, 6, 2, 4, 7, 9, 4, 7, 6, 8, 0, 2, 4, 8, 3, 1, 0, 8, 9, 5, 4, 0, 3, 8, 3, 4, 4, 6, 8, 6, 4, 0, 2, 6, 9, 8, 0, 3, 4, 3, 0, 8, 9, 1, 7, 1, 3, 0, 8, 4, 7, 0, 2, 6, 1, 3, 6, 0, 4, 6, 6, 7, 6, 2, 0, 9, 9, 0, 2, 8, 9, 3, 6, 1, 6, 2, 3, 7, 5, 8, 8, 3, 3, 0, 9, 6, 2, 7, 0, 9, 9, 1, 8, 6, 6, 1, 4, 8, 8, 4, 8, 9, 7, 1, 4, 2, 7, 9, 8, 8, 0, 1, 0, 0, 2, 4, 4, 9, 1, 0, 1, 6, 2, 5, 6, 3, 7, 6, 8, 0, 4, 7, 2, 0, 1, 5, 4, 7, 2, 7, 7, 8, 2, 3, 4, 9, 8, 0, 6, 6, 9, 4, 5, 2, 4, 6, 8, 1, 6, 9, 6, 5, 6, 2, 7, 6, 9, 6, 7, 5, 6, 8, 3, 7, 7, 5, 4, 4, 6, 1, 6, 0, 1, 8, 3, 1, 1, 7, 9, 3, 6, 8, 5, 2, 9, 1, 4, 8, 4, 5, 9, 6, 6, 5, 1, 3, 3, 1, 4, 2, 1, 5, 5, 0, 7, 3, 9, 2, 8, 8, 9, 8, 6, 7, 4, 0, 0, 7, 2, 3, 4, 3, 8, 1, 3, 9, 1, 0, 9, 5, 8, 0, 7, 1, 4, 7, 8, 7, 8, 3, 5, 0, 4, 4, 5, 3, 4, 9, 7, 1, 3, 5, 2, 5, 7, 0, 1, 2, 7, 3, 5, 8, 1, 1, 7, 0, 1, 6, 5, 1, 7, 5, 1, 5, 7, 5, 0, 9, 5, 7, 4, 2, 7, 3, 1, 8, 6, 3, 6, 3, 1, 6, 9, 7, 6, 2, 3, 1, 7, 9, 9, 5, 2, 2, 4, 0, 7, 6, 6, 1, 1, 1, 8, 7, 1, 7, 2, 7, 9, 2, 2, 4, 0, 0, 1, 2, 4, 9, 2, 7, 4, 2, 9, 8, 2, 4, 3, 4, 8, 8, 3, 4, 3, 3, 7, 6, 8, 5, 2, 9, 9, 1, 1, 9, 3, 0, 6, 4, 3, 8, 5, 0, 3, 9, 1, 1, 6, 4, 2, 9, 2, 3, 6, 4, 1, 9, 0, 3, 8, 5, 1, 5, 9, 3, 8, 1, 5, 0, 8, 3, 8, 9, 0, 9, 0, 9, 0, 0, 5, 4, 3, 1, 7, 7, 4, 0, 2, 6, 2, 4, 0, 1, 3, 0, 7, 8, 9, 9, 7, 1, 5, 2, 4, 8, 7, 1, 1, 6, 2, 3, 2, 8, 8, 9, 5, 9, 4, 4, 6, 6, 9, 7, 9, 5, 0, 6, 3, 0, 1, 5, 4, 8, 9, 9, 9, 4, 5, 3, 7, 3, 9, 7, 5, 0, 2, 4, 2, 9, 0, 8, 4, 7, 2, 2, 1, 7, 6, 3, 6, 9, 7, 2, 3, 4, 6, 6, 4, 5, 8, 1, 4, 4, 1, 3, 0, 6, 7, 6, 1, 1, 2, 6, 9, 8, 4, 4, 1, 0, 7, 5, 1, 9, 3, 1, 3, 3, 0, 8, 7, 2, 6, 2, 7, 8, 0, 1, 2, 4, 8, 2, 7, 0, 0, 3, 4, 7, 2, 9, 3, 8, 3, 3, 7, 9, 3, 3, 2, 5, 0, 1, 3, 5, 2, 8, 9, 9, 9, 2, 4, 1, 4, 1, 4, 6, 0, 5, 4, 9, 1, 6, 4, 9, 0, 1, 4, 9, 9, 3, 9, 9, 4, 4, 5, 6, 0, 0, 7, 7, 0, 6, 8, 1, 8, 8, 1, 4, 7, 4, 2, 4, 1, 5, 4, 7, 6, 9, 4, 2, 3, 9, 7, 1, 0, 5, 5, 1, 3, 7, 4, 1, 5, 8, 5, 6, 5, 0, 0, 3, 3, 9, 0, 5, 4, 6, 7, 4, 6, 9, 5, 4, 7, 8, 8, 0, 5, 2, 4, 6, 0, 0, 6, 5, 0, 6, 1, 5, 7, 7, 2, 7, 0, 3, 0, 3, 5, 3, 8, 7, 6, 0, 9, 3, 5, 0, 2, 7, 6, 6, 4, 7, 8, 7, 1, 1, 2, 9, 6, 1, 0, 2, 2, 8, 1, 3, 5, 2, 5, 9, 8, 8, 6, 6, 5, 0, 1, 4, 9, 5, 2, 7, 2, 5, 4, 1, 8, 9, 4, 0, 7, 2, 1, 0, 1, 5, 6, 8, 0, 3, 5, 7, 5, 5, 8, 7, 2, 3, 6, 1, 1, 9, 5, 3, 1, 3, 3, 6, 8, 3, 5, 0, 7, 1, 5, 8, 5, 6, 6, 1, 3, 2, 9, 1, 1, 9, 8, 5, 9, 5, 5, 1, 7, 1, 1, 6, 5, 7, 2, 3, 2, 5, 7, 3, 9, 2, 3, 5, 1, 6, 8, 7, 7, 0, 3, 6, 7, 1, 9, 6, 3, 7, 0, 6, 9, 1, 2, 1, 1, 2, 9, 8, 3, 2, 0, 2, 3, 7, 6, 9, 6, 6, 6, 4, 6, 1, 0, 2, 3, 0, 4, 7, 6, 8, 8, 7, 2, 6, 3, 1, 2, 4, 7, 0, 0, 1, 0, 0, 0, 3, 8, 1, 8, 0, 1, 9, 3, 0, 9, 5, 5, 5, 5, 1, 3, 8, 7, 3, 2, 0, 6, 6, 6, 7, 4, 1, 7, 5, 2, 1, 4, 7, 2, 4, 0, 8, 4, 4, 5, 1, 5, 8, 8, 7, 7, 9, 1, 5, 4, 6, 7, 2, 7, 1, 5, 9, 9, 7, 8, 2, 1, 8, 6, 6, 1, 4, 1, 0, 0, 8, 1, 2, 8, 9, 7, 2, 9, 2, 7, 0, 8, 0, 0, 0, 7, 3, 5, 4, 1, 4, 0, 2, 0, 0, 2, 2, 8, 3, 5, 6, 8, 7, 2, 4, 3, 9, 6, 4, 9, 5, 6, 1, 2, 3, 1, 1, 2, 2, 7, 2, 7, 0, 6, 9, 0, 1, 0, 8, 8, 6, 4, 2, 0, 9, 9, 6, 1, 6, 7, 9, 0, 1, 3, 1, 2, 7, 8, 9, 2, 9, 1, 0, 7, 6, 5, 0, 5, 3, 5, 5, 8, 7, 3, 3, 2, 3, 3, 6, 6, 3, 1, 1, 4, 6, 8, 5, 3, 9, 5, 4, 1, 6, 7, 0, 2, 0, 8, 1, 7, 5, 2, 8, 3, 3, 1, 1, 2, 2, 0, 8, 1, 6, 8, 3, 0, 3, 0, 4, 2, 4, 8, 1, 8, 2, 3, 6, 5, 8, 3, 8, 0, 1, 9, 8, 0, 8, 0, 5, 6, 1, 4, 8, 7, 1, 3, 4, 0, 2, 6, 3, 0, 3, 8, 4, 5, 8, 1, 2, 0, 8, 9, 2, 3, 3, 7, 5, 5, 3, 1, 6, 0, 5, 9, 5, 1, 5, 5, 6, 9, 7, 0, 1, 1, 6, 8, 5, 9, 0, 6, 5, 0, 8, 2, 1, 3, 0, 5, 6, 5, 6, 1, 8, 0, 0, 5, 9, 7, 9, 5, 2, 2, 9, 4, 8, 8, 3, 4, 7, 4, 8, 5, 3, 7, 7, 1, 6, 7, 2, 0, 1, 2, 2, 3, 5, 6, 1, 7, 7, 9, 3, 4, 2, 8, 0, 6, 8, 9, 1, 7, 8, 7, 8, 7, 1, 0, 9, 6, 3, 7, 5, 7, 2, 5, 5, 6, 9, 4, 8, 5, 7, 6, 6, 2, 6, 4, 1, 4, 2, 6, 2, 1, 6, 6, 1, 5, 8, 0, 2, 8, 6, 4, 6, 3, 1, 1, 6, 6, 9, 3, 9, 2, 6, 5, 1, 5, 7, 5, 3, 9, 6, 6, 8, 1, 5, 3, 6, 0, 6, 2, 4, 6, 2, 2, 3, 4, 6, 5, 7, 5, 3, 0, 5, 1, 3, 1, 8, 8, 9, 8, 6, 1, 9, 2, 3, 8, 8, 7, 1, 4, 1, 0, 0, 5, 0, 7, 9, 9, 2, 1, 6, 4, 4, 9, 1, 3, 2, 4, 0, 4, 5, 0, 4, 1, 6, 8, 4, 1, 5, 9, 1, 7, 5, 8, 2, 3, 5, 9, 8, 9, 2, 4, 6, 1, 9, 9, 0, 1, 4, 1, 7, 1, 5, 1, 1, 4, 5, 0, 7, 3, 5, 2, 0, 1, 7, 1, 6, 8, 6, 7, 7, 3, 8, 8, 7, 7, 1, 3, 2, 0, 5, 0, 4, 7, 8, 6, 4, 7, 8, 1, 4, 1, 7, 1, 4, 0, 5, 3, 6, 5, 0, 6, 8, 2, 1, 9, 8, 2, 0, 5, 7, 0, 7, 6, 1, 6, 6, 1, 2, 1, 0, 1, 3, 0, 5, 8, 2, 7, 6, 2, 1, 4, 0, 6, 1, 3, 1, 6, 1, 9, 6, 2, 8, 0, 2, 0, 0, 6, 3, 4, 8, 4, 0, 0, 1, 4, 0, 2, 8, 4, 0, 5, 6, 6, 8, 1, 2, 4, 4, 7, 2, 1, 5, 2, 6, 6, 3, 8, 8, 1, 3, 1, 5, 5, 2, 1, 9, 9, 9, 5, 3, 7, 9, 7, 8, 2, 3, 4, 8, 8, 4, 0, 7, 2, 1, 4, 4, 7, 2, 9, 7, 4, 5, 5, 4, 0, 2, 2, 5, 4, 5, 3, 7, 6, 1, 2, 8, 2, 0, 8, 9, 9, 6, 5, 4, 9, 6, 5, 1, 6, 2, 7, 8, 7, 6, 4, 1, 6, 3, 9, 2, 6, 1, 8, 3, 4, 0, 6, 9, 5, 4, 5, 6, 3, 3, 2, 0, 4, 2, 9, 4, 1, 3, 4, 7, 4, 5, 9, 4, 7, 7, 8, 6, 4, 9, 0, 0, 0, 7, 7, 0, 7, 0, 6, 0, 0, 0, 1, 5, 4, 6, 8, 6, 5, 2, 9, 1, 3, 1, 0, 2, 6, 5, 4, 2, 1, 9, 6, 7, 7, 8, 3, 8, 4, 4, 9, 3, 0, 7, 1, 1, 0, 5, 6, 9, 1, 0, 3, 2, 1, 7, 9, 9, 5, 1, 7, 5, 7, 7, 2, 7, 6, 6, 5, 3, 8, 1, 1, 1, 3, 4, 6, 6, 1, 5, 7, 4, 6, 8, 1, 7, 1, 5, 9, 0, 6, 3, 1, 2, 8, 3, 9, 8, 3, 9, 7, 2, 8, 4, 3, 9, 1, 1, 3, 1, 7, 5, 0, 2, 4, 5, 8, 4, 2, 8, 2, 5, 3, 3, 5, 7, 6, 8, 8, 5, 8, 1, 9, 9, 8, 7, 1, 9, 7, 6, 6, 6, 2, 1, 7, 3, 1, 5, 1, 6, 2, 0, 2, 0, 0, 2, 3, 9, 9, 0, 8, 6, 5, 8, 5, 0, 2, 7, 6, 4, 2, 1, 3, 4, 4, 5, 3, 8, 0, 1, 2, 0, 1, 8, 7, 0, 4, 3, 2, 2, 2, 3, 0, 3, 9, 3, 0, 3, 4, 9, 8, 7, 8, 4, 7, 9, 7, 6, 9, 6, 4, 7, 6, 1, 1, 6, 2, 7, 9, 5, 3, 1, 9, 0, 2, 9, 9, 7, 6, 7, 3, 7, 1, 4, 7, 7, 6, 1, 0, 5, 8, 7, 5, 4, 0, 8, 9, 2, 0, 0, 9, 0, 8, 2, 6, 2, 4, 7, 5, 3, 8, 0, 1, 4, 7, 4, 4, 5, 6, 9, 4, 9, 6, 3, 4, 9, 1, 1, 9, 1, 5, 4, 1, 8, 3, 2, 6, 3, 4, 6, 0, 6, 4, 4, 3, 3, 4, 4, 2, 8, 4, 0, 6, 8, 3, 7, 9, 6, 5, 4, 9, 3, 2, 5, 1, 3, 0, 9, 3, 0, 6, 2, 1, 6, 6, 2, 6, 5, 8, 7, 2, 4, 1, 9, 9, 7, 0, 6, 8, 3, 9, 0, 4, 4, 9, 8, 0, 0, 6, 7, 1, 1, 4, 9, 9, 8, 4, 8, 1, 0, 2, 5, 7, 4, 7, 6, 3, 7, 8, 2, 1, 3, 6, 8, 9, 6, 4, 5, 1, 2, 3, 1, 7, 6, 7, 9, 5, 3, 2, 4, 8, 3, 2, 8, 8, 0, 2, 7, 4, 6, 3, 3, 2, 3, 3, 0, 9, 4, 8, 6, 6, 6, 3, 8, 7, 1, 4, 0, 8, 5, 1, 0, 7, 1, 4, 2, 5, 4, 3, 6, 2, 2, 6, 5, 5, 2, 1, 3, 1, 7, 9, 4, 6, 9, 8, 0, 9, 2, 0, 3, 5, 9, 5, 9, 0, 2, 9, 4, 9, 8, 4, 8, 9, 3, 4, 0, 5, 1, 9, 1, 5, 2, 1, 2, 3, 9, 6, 8, 4, 6, 6, 0, 9, 1, 8, 7, 7, 4, 6, 8, 2, 1, 8, 3, 1, 2, 6, 2, 1, 0, 0, 6, 2, 5, 4, 6, 2, 8, 9, 8, 8, 7, 0, 2, 2, 7, 1, 1, 1, 6, 9, 2, 7, 8, 0, 5, 2, 0, 6, 2, 3, 8, 4, 0, 7, 1, 4, 6, 4, 0, 7, 3, 8, 7, 8, 6, 7, 1, 0, 3, 0, 9, 2, 0, 2, 8, 0, 5, 0, 3, 6, 1, 4, 9, 1, 5, 2, 3, 0, 7, 2, 9, 2, 6, 7, 9, 4, 3, 7, 3, 0, 4, 9, 6, 9, 9, 4, 5, 3, 3, 4, 1, 8, 8, 1, 4, 8, 7, 4, 3, 5, 4, 8, 6, 4, 3, 4, 8, 5, 6, 8, 9, 5, 4, 8, 7, 9, 2, 0, 0, 5, 3, 9, 8, 9, 3, 2, 7, 1, 0, 7, 1, 1, 7, 7, 0, 0, 5, 1, 8, 7, 7, 4, 2, 4, 7, 5, 0, 8, 9, 7, 9, 5, 0, 7, 0, 7, 7, 8, 3, 3, 4, 5, 1, 6, 9, 7, 1, 2, 2, 9, 6, 6, 1, 4, 2, 0, 5, 3, 1, 6, 3, 6, 3, 7, 7, 2, 7, 6, 9, 8, 3, 1, 1, 6, 4, 3, 6, 1, 4, 8, 4, 1, 6, 1, 9, 7, 7, 7, 1, 3, 9, 3, 7, 4, 6, 7, 7, 3, 7, 6, 2, 8, 8, 9, 3, 3, 4, 3, 6, 1, 9, 0, 7, 3, 5, 1, 5, 9, 0, 4, 2, 1, 6, 6, 3, 9, 0, 8, 6, 9, 9, 7, 8, 1, 8, 0, 9, 7, 1, 9, 2, 5, 1, 3, 0, 2, 7, 6, 2, 3, 9, 7, 2, 7, 0, 7, 7, 6, 0, 6, 8, 4, 7, 5, 3, 2, 3, 2, 2, 3, 4, 4, 4, 7, 4, 0, 7, 3, 6, 2, 3, 2, 5, 3, 9, 8, 6, 7, 8, 0, 6, 7, 2, 0, 2, 7, 4, 2, 8, 5, 3, 4, 5, 7, 1, 2, 5, 3, 8, 0, 0, 2, 4, 1, 7, 8, 8, 3, 1, 5, 2, 6, 0, 3, 5, 8, 0, 5, 8, 1, 5, 4, 3, 6, 4, 8, 0, 5, 4, 0, 6, 0, 5, 9, 3, 3, 0, 1, 7, 2, 2, 2, 8, 9, 0, 8, 0, 9, 8, 2, 9, 4, 3, 2, 9, 2, 9, 4, 1, 7, 2, 1, 3, 3, 7, 1, 1, 7, 7, 3, 9, 3, 3, 8, 3, 5, 1, 4, 6, 9, 4, 0, 3, 6, 3, 6, 6, 2, 9, 9, 9, 7, 8, 6, 6, 0, 5, 1, 3, 1, 4, 6, 2, 0, 2, 2, 2, 8, 8, 2, 0, 1, 0, 1, 2, 6, 9, 4, 9, 9, 4, 7, 8, 9, 7, 9, 6, 3, 9, 5, 0, 8, 7, 0, 6, 8, 1, 5, 7, 5, 4, 7, 8, 8, 3, 3, 2, 3, 6, 3, 8, 5, 5, 2, 5, 2, 4, 2, 9, 7, 9, 9, 2, 6, 9, 6, 0, 0, 9, 0, 8, 2, 1, 7, 6, 2, 0, 1, 6, 2, 3, 8, 9, 1, 2, 5, 8, 2, 0, 7, 7, 1, 1, 0, 8, 6, 7, 4, 4, 7, 1, 2, 0, 3, 4, 2, 7, 7, 1, 3, 4, 1, 3, 6, 3, 6, 0, 9, 5, 2, 8, 5, 1, 3, 6, 4, 6, 2, 0, 2, 7, 1, 9, 8, 2, 4, 6, 6, 3, 6, 8, 2, 9, 6, 1, 8, 7, 3, 6, 6, 3, 7, 0, 2, 1, 3, 9, 9, 4, 3, 9, 2, 7, 2, 3, 2, 0, 3, 3, 9, 0, 4, 0, 6, 9, 5, 3, 4, 4, 5, 0, 1, 5, 0, 4, 2, 3, 4, 0, 1, 0, 5, 8, 4, 0, 3, 5, 8, 6, 9, 4, 4, 7, 4, 3, 5, 0, 9, 2, 3, 6, 9, 8, 2, 5, 8, 7, 0, 2, 2, 5, 6, 7, 2, 2, 1, 1, 8, 5, 7, 2, 2, 3, 3, 7, 9, 5, 5, 4, 4, 1, 5, 8, 9, 0, 8, 8, 2, 3, 6, 2, 9, 8, 0, 2, 0, 5, 4, 8, 7, 4, 6, 6, 2, 9, 2, 2, 6, 2, 4, 0, 7, 6, 2, 1, 2, 6, 4, 4, 5, 2, 6, 9, 9, 6, 2, 4, 9, 8, 2, 4, 9, 6, 0, 1, 1, 0, 9, 8, 6, 4, 3, 8, 4, 7, 6, 1, 9, 1, 4, 3, 0, 4, 8, 0, 9, 0, 0, 3, 2, 7, 1, 4, 2, 8, 4, 7, 8, 4, 3, 1, 0, 3, 2, 4, 4, 2, 7, 9, 4, 1, 4, 2, 3, 9, 9, 2, 9, 1, 6, 6, 9, 6, 1, 4, 0, 9, 9, 3, 9, 6, 8, 9, 0, 7, 0, 0, 2, 8, 9, 1, 1, 3, 7, 0, 6, 7, 7, 0, 0, 6, 0, 3, 9, 5, 6, 6, 1, 2, 6, 3, 9, 1, 7, 8, 0, 4, 3, 8, 0, 1, 0, 7, 3, 0, 6, 2, 8, 2, 8, 4, 9, 6, 3, 4, 3, 1, 7, 1, 3, 2, 6, 2, 5, 5, 2, 0, 6, 8, 5, 7, 0, 8, 9, 4, 0, 2, 1, 5, 1, 6, 8, 1, 0, 2, 5, 2, 9, 8, 5, 3, 6, 3, 7, 2, 1, 8, 3, 5, 3, 4, 8, 0, 3, 5, 0, 2, 6, 0, 2, 6, 3, 3, 6, 2, 8, 1, 7, 6, 8, 1, 2, 3, 5, 4, 0, 0, 1, 8, 2, 0, 7, 9, 9, 2, 0, 4, 9, 0, 6, 0, 3, 1, 8, 2, 2, 6, 2, 7, 6, 0, 0, 5, 1, 6, 3, 7, 8, 1, 5, 5, 2, 0, 6, 3, 5, 4, 3, 7, 7, 1, 5, 8, 1, 8, 3, 3, 6, 8, 5, 0, 7, 8, 6, 2, 5, 1, 5, 0, 9, 8, 0, 2, 5, 8, 2, 0, 0, 4, 2, 2, 8, 5, 1, 3, 5, 8, 1, 0, 6, 8, 3, 1, 6, 0, 0, 2, 1, 8, 2, 6, 9, 6, 3, 7, 4, 3, 7, 2, 1, 9, 9, 0, 0, 3, 6, 2, 6, 9, 2, 1, 4, 3, 0, 3, 1, 8, 7, 8, 7, 1, 3, 5, 1, 1, 4, 2, 3, 4, 9, 2, 0, 1, 5, 3, 1, 4, 0, 6, 0, 7, 1, 7, 1, 2, 7, 4, 0, 9, 6, 2, 6, 3, 2, 6, 7, 5, 1, 0, 4, 3, 3, 0, 1, 4, 3, 1, 3, 5, 5, 7, 6, 9, 6, 7, 5, 6, 9, 8, 5, 1, 3, 0, 6, 7, 8, 7, 6, 7, 4, 7, 6, 3, 7, 3, 6, 1, 8, 2, 7, 8, 7, 9, 4, 1, 8, 8, 7, 3, 8, 8, 5, 0, 2, 7, 8, 9, 9, 7, 7, 2, 3, 1, 4, 8, 5, 9, 0, 4, 6, 1, 5, 3, 8, 3, 0, 1, 8, 1, 4, 6, 8, 7, 2, 8, 0, 5, 3, 4, 6, 3, 0, 2, 4, 4, 9, 1, 5, 1, 0, 7, 4, 4, 1, 2, 4, 5, 5, 9, 9, 2, 2, 2, 4, 4, 9, 6, 2, 5, 2, 2, 0, 2, 7, 9, 5, 0, 7, 0, 8, 0, 1, 7, 8, 2, 9, 4, 0, 8, 9, 4, 9, 3, 5, 0, 3, 3, 8, 0, 7, 0, 6, 7, 2, 0, 3, 6, 2, 1, 8, 6, 0, 1, 3, 8, 0, 3, 6, 3, 8, 1, 1, 2, 6, 8, 8, 9, 4, 9, 5, 7, 9, 6, 6, 4, 9, 0, 4, 0, 1, 3, 0, 0, 5, 4, 7, 2, 1, 6, 7, 2, 2, 1, 8, 1, 8, 9, 6, 2, 9, 9, 7, 4, 0, 9, 6, 8, 7, 4, 9, 7, 9, 5, 4, 7, 0, 4, 6, 4, 4, 4, 9, 7, 7, 0, 0, 0, 5, 6, 5, 2, 1, 3, 7, 8, 0, 1, 3, 8, 4, 3, 1, 2, 8, 4, 4, 5, 1, 4, 0, 3, 8, 8, 7, 1, 1, 6, 8, 2, 8, 6, 3, 9, 5, 9, 9, 2, 3, 1, 2, 0, 8, 3, 5, 8, 5, 2, 2, 3, 0, 1, 1, 4, 8, 2, 7, 6, 0, 6, 5, 8, 4, 3, 3, 3, 2, 9, 5, 7, 4, 7, 2, 5, 9, 5, 4, 9, 8, 4, 3, 2, 3, 6, 9, 2, 6, 3, 4, 4, 6, 1, 9, 0, 0, 6, 2, 9, 0, 8, 7, 8, 0, 8, 6, 2, 5, 5, 8, 5, 4, 2, 6, 0, 9, 8, 5, 9, 6, 1, 9, 3, 7, 1, 3, 7, 4, 1, 1, 7, 6, 9, 5, 8, 0, 2, 5, 3, 8, 0, 1, 4, 8, 6, 6, 9, 5, 8, 0, 7, 3, 4, 9, 2, 9, 9, 3, 1, 0, 8, 5, 3, 2, 4, 5, 2, 1, 3, 2, 8, 4, 9, 7, 9, 5, 7, 0, 7, 7, 8, 8, 8, 7, 1, 2, 0, 0, 0, 7, 6, 6, 8, 6, 1, 3, 0, 2, 6, 3, 6, 8, 0, 6, 6, 8, 0, 2, 7, 7, 0, 2, 4, 3, 5, 5, 1, 9, 5, 4, 4, 2, 0, 1, 7, 6, 6, 7, 0, 6, 4, 9, 8, 8, 9, 3, 3, 1, 0, 4, 4, 7, 0, 5, 7, 6, 7, 8, 1, 3, 4, 6, 7, 0, 4, 3, 2, 5, 3, 7, 3, 7, 1, 9, 1, 3, 4, 0, 1, 7, 4, 2, 4, 3, 5, 4, 0, 7, 2, 2, 6, 9, 3, 3, 9, 9, 8, 1, 2, 1, 7, 8, 3, 1, 7, 2, 6, 4, 3, 6, 1, 7, 0, 0, 1, 8, 7, 4, 9, 9, 7, 0, 5, 1, 5, 8, 6, 8, 5, 6, 2, 6, 1, 1, 9, 6, 4, 3, 6, 8, 8, 5, 3, 9, 7, 2, 7, 1, 5, 9, 1, 3, 9, 5, 0, 4, 6, 3, 5, 3, 3, 6, 1, 5, 2, 3, 2, 2, 6, 2, 0, 1, 2, 7, 8, 5, 6, 2, 8, 4, 6, 8, 8, 8, 2, 9, 8, 7, 8, 6, 7, 3, 7, 7, 4, 0, 1, 3, 9, 2, 0, 0, 5, 4, 7, 8, 6, 8, 7, 8, 4, 3, 3, 1, 3, 1, 5, 6, 0, 3, 5, 0, 8, 7, 7, 8, 6, 3, 6, 9, 5, 9, 2, 1, 2, 3, 5, 2, 2, 2, 1, 3, 3, 5, 8, 7, 9, 3, 4, 2, 7, 1, 7, 8, 2, 2, 3, 9, 5, 5, 7, 3, 3, 9, 0, 8, 5, 6, 6, 9, 8, 6, 5, 9, 2, 0, 7, 9, 7, 7, 1, 2, 0, 3, 2, 8, 0, 3, 3, 6, 3, 0, 5, 2, 6, 6, 7, 8, 0, 1, 8, 7, 1, 2, 9, 2, 5, 7, 6, 3, 6, 7, 0, 4, 5, 1, 9, 4, 6, 2, 5, 8, 4, 0, 4, 5, 3, 1, 5, 1, 5, 1, 2, 1, 0, 9, 6, 7, 5, 9, 9, 3, 4, 4, 7, 5, 6, 3, 9, 0, 4, 4, 0, 8, 5, 8, 1, 5, 5, 5, 7, 8, 5, 0, 7, 0, 4, 4, 8, 5, 6, 4, 2, 8, 2, 6, 8, 1, 2, 3, 8, 9, 1, 3, 9, 9, 6, 7, 1, 2, 7, 7, 3, 3, 1, 1, 9, 7, 2, 1, 8, 1, 2, 7, 8, 4, 0, 4, 3, 1, 8, 4, 3, 3, 2, 9, 0, 7, 7, 1, 9, 0, 4, 2, 2, 8, 9, 4, 3, 9, 4, 2, 3, 6, 0, 5, 3, 3, 0, 1, 2, 5, 0, 7, 5, 7, 2, 7, 8, 7, 4, 9, 1, 5, 0, 8, 2, 9, 2, 1, 0, 1, 2, 6, 9, 2, 8, 3, 5, 3, 5, 9, 1, 4, 7, 1, 8, 1, 8, 8, 9, 4, 6, 1, 9, 9, 3, 4, 1, 2, 4, 3, 5, 9, 0, 7, 2, 8, 2, 9, 9, 9, 9, 0, 7, 8, 2, 3, 3, 1, 9, 9, 8, 8, 3, 5, 1, 2, 1, 7, 2, 0, 7, 3, 8, 1, 7, 0, 6, 4, 0, 8, 1, 8, 7, 2, 4, 7, 3, 2, 9, 6, 7, 5, 9, 7, 4, 5, 2, 7, 6, 7, 1, 3, 7, 0, 3, 1, 4, 7, 5, 2, 0, 4, 4, 9, 7, 4, 9, 0, 9, 0, 2, 1, 6, 6, 3, 6, 4, 9, 2, 2, 3, 1, 1, 0, 7, 1, 2, 7, 9, 0, 4, 0, 6, 7, 1, 0, 9, 7, 5, 0, 8, 4, 8, 9, 0, 5, 0, 3, 6, 5, 0, 8, 2, 7, 6, 0, 8, 5, 5, 2, 6, 9, 4, 2, 0, 9, 3, 8, 1, 0, 6, 7, 2, 7, 0, 3, 1, 9, 2, 1, 9, 7, 3, 0, 6, 4, 2, 2, 5, 3, 7, 8, 8, 5, 7, 4, 2, 7, 4, 4, 0, 5, 3, 9, 9, 2, 8, 8, 8, 0, 3, 1, 1, 1, 0, 9, 0, 4, 1, 7, 4, 7, 6, 1, 1, 4, 3, 7, 1, 5, 6, 9, 5, 8, 9, 3, 2, 9, 1, 5, 3, 9, 6, 3, 6, 7, 9, 1, 7, 3, 2, 5, 2, 9, 7, 2, 6, 2, 8, 6, 5, 7, 7, 3, 5, 8, 0, 0, 4, 2, 2, 5, 1, 9, 5, 9, 6, 5, 0, 8, 3, 3, 7, 6, 1, 8, 3, 8, 8, 0, 8, 4, 0, 7, 8, 6, 1, 4, 6, 5, 0, 4, 9, 7, 1, 9, 6, 6, 6, 5, 4, 8, 8, 7, 2, 4, 3, 7, 5, 0, 0, 0, 8, 0, 7, 7, 0, 2, 6, 9, 3, 9, 3, 7, 2, 9, 7, 3, 9, 5, 9, 9, 0, 7, 5, 8, 4, 5, 8, 7, 8, 9, 1, 6, 2, 7, 7, 4, 7, 0, 6, 5, 9, 2, 2, 5, 0, 1, 2, 9, 1, 3, 4, 0, 6, 4, 9, 5, 3, 0, 2, 0, 1, 4, 9, 8, 0, 5, 7, 4, 4, 7, 0, 2, 4, 2, 1, 5, 3, 3, 0, 1, 0, 4, 7, 6, 5, 0, 5, 6, 1, 0, 0, 0, 7, 0, 3, 7, 7, 3, 7, 7, 8, 4, 4, 8, 3, 3, 0, 6, 4, 1, 0, 0, 2, 2, 2, 1, 1, 7, 3, 7, 6, 8, 6, 3, 4, 6, 4, 4, 3, 3, 4, 2, 3, 1, 3, 1, 5, 1, 2, 4, 0, 3, 6, 2, 8, 1, 2, 9, 0, 6, 1, 2, 4, 1, 3, 9, 7, 6, 0, 4, 5, 8, 3, 7, 2, 3, 4, 4, 8, 4, 6, 2, 1, 7, 7, 5, 8, 1, 2, 8, 3, 5, 1, 6, 9, 0, 9, 4, 7, 1, 0, 7, 0, 9, 3, 7, 5, 6, 9, 9, 4, 6, 5, 8, 9, 7, 9, 7, 5, 7, 1, 2, 6, 7, 8, 0, 7, 7, 5, 9, 7, 1, 2, 6, 0, 2, 6, 6, 1, 0, 0, 0, 4, 9, 8, 4, 6, 8, 0, 2, 8, 4, 9, 7, 4, 1, 1, 7, 4, 1, 5, 7, 6, 2, 2, 3, 0, 7, 4, 0, 7, 2, 6, 0, 3, 6, 1, 2, 3, 3, 8, 7, 0, 5, 6, 2, 3, 6, 1, 4, 4, 0, 9, 8, 4, 8, 7, 4, 8, 4, 3, 9, 7, 8, 7, 8, 3, 6, 7, 3, 0, 1, 2, 3, 8, 2, 0, 8, 0, 5, 4, 2, 2, 8, 4, 0, 7, 3, 2, 2, 9, 4, 5, 1, 0, 5, 9, 6, 1, 5, 0, 7, 6, 4, 2, 5, 3, 7, 9, 3, 9, 1, 8, 1, 6, 8, 3, 4, 9, 2, 9, 1, 9, 4, 4, 6, 2, 6, 0, 5, 7, 0, 8, 7, 8, 9, 9, 0, 7, 7, 4, 2, 6, 0, 2, 6, 9, 5, 2, 1, 1, 1, 0, 1, 0, 8, 0, 6, 6, 4, 2, 8, 1, 9, 3, 9, 7, 8, 8, 4, 6, 2, 1, 7, 6, 8, 0, 7, 7, 5, 7, 2, 4, 9, 3, 6, 7, 6, 5, 9, 2, 9, 4, 4, 1, 0, 1, 4, 5, 4, 4, 6, 8, 5, 2, 3, 5, 2, 8, 5, 5, 3, 0, 1, 3, 3, 3, 9, 0, 3, 0, 3, 0, 3, 2, 9, 7, 5, 4, 9, 2, 4, 0, 1, 0, 6, 3, 0, 2, 8, 1, 3, 5, 5, 8, 9, 2, 7, 1, 6, 4, 6, 7, 2, 0, 4, 9, 6, 1, 8, 0, 4, 9, 5, 1, 6, 1, 1, 0, 9, 5, 9, 7, 9, 1, 6, 0, 0, 1, 7, 5, 8, 9, 7, 9, 9, 4, 6, 7, 7, 3, 6, 8, 0, 2, 0, 9, 1, 6, 6, 9, 6, 1, 8, 8, 1, 2, 8, 6, 1, 4, 7, 5, 2, 6, 0, 1, 7, 7, 5, 7, 3, 1, 6, 1, 0, 7, 5, 4, 2, 7, 3, 7, 3, 6, 4, 9, 5, 5, 1, 4, 6, 3, 9, 7, 8, 1, 8, 5, 9, 0, 5, 8, 5, 2, 5, 4, 1, 5, 4, 7, 5, 8, 3, 2, 1, 9, 2, 2, 5, 6, 1, 4, 8, 1, 1, 8, 1, 4, 7, 8, 3, 6, 8, 1, 5, 3, 9, 2, 4, 2, 5, 0, 4, 2, 1, 8, 4, 5, 4, 1, 6, 5, 5, 8, 2, 2, 7, 0, 7, 3, 8, 2, 8, 8, 4, 7, 4, 6, 7, 4, 4, 1, 5, 7, 9, 2, 6, 1, 0, 7, 1, 0, 9, 3, 7, 6, 7, 2, 2, 6, 7, 4, 3, 1, 7, 0, 5, 6, 7, 6, 6, 9, 7, 3, 4, 6, 0, 0, 6, 4, 2, 1, 4, 6, 3, 0, 9, 9, 6, 4, 7, 6, 0, 2, 4, 0, 1, 1, 0, 9, 9, 1, 1, 9, 2, 2, 4, 1, 0, 8, 3, 1, 3, 7, 2, 9, 8, 3, 0, 7, 9, 9, 2, 4, 1, 6, 9, 4, 6, 3, 6, 1, 3, 2, 3, 7, 5, 4, 3, 4, 2, 0, 7, 1, 6, 8, 1, 8, 1, 3, 0, 1, 0, 4, 8, 4, 5, 5, 2, 1, 8, 3, 8, 7, 8, 4, 2, 3, 6, 4, 5, 3, 2, 8, 0, 2, 7, 3, 7, 8, 5, 7, 6, 6, 3, 8, 8, 7, 1, 9, 6, 0, 5, 0, 3, 7, 9, 7, 8, 5, 5, 2, 1, 8, 7, 3, 7, 3, 5, 0, 0, 9, 6, 7, 6, 6, 2, 4, 9, 8, 6, 6, 2, 5, 8, 7, 5, 6, 2, 7, 1, 7, 8, 5, 3, 1, 3, 8, 9, 6, 4, 9, 1, 8, 0, 8, 6, 2, 8, 9, 2, 1, 7, 6, 3, 1, 7, 7, 0, 8, 3, 9, 7, 2, 9, 5, 1, 0, 7, 6, 7, 8, 4, 5, 3, 0, 8, 2, 8, 0, 5, 0, 5, 0, 1, 9, 2, 3, 7, 3, 9, 9, 3, 8, 2, 0, 2, 9, 3, 3, 2, 6, 6, 8, 7, 7, 0, 9, 1, 7, 3, 3, 7, 5, 5, 0, 4, 9, 8, 2, 3, 4, 3, 3, 4, 2, 4, 3, 9, 1, 4, 0, 2, 7, 5, 3, 1, 6, 1, 8, 4, 8, 7, 5, 2, 5, 1, 7, 4, 8, 0, 5, 7, 4, 8, 2, 5, 9, 3, 4, 5, 6, 7, 5, 9, 8, 3, 7, 7, 3, 2, 8, 8, 2, 0, 1, 2, 0, 4, 1, 0, 0, 1, 4, 3, 1, 9, 4, 4, 5, 4, 5, 8, 0, 5, 0, 0, 9, 3, 2, 5, 9, 7, 4, 8, 7, 8, 0, 9, 4, 3, 3, 0, 7, 6, 6, 8, 8, 2, 1, 4, 9, 6, 4, 7, 5, 0, 4, 2, 9, 2, 8, 6, 6, 8, 3, 2, 0, 9, 1, 5, 3, 1, 0, 4, 9, 5, 9, 6, 3, 6, 9, 6, 7, 2, 7, 3, 0, 3, 3, 1, 8, 7, 2, 8, 7, 1, 0, 0, 6, 2, 0, 1, 0, 5, 9, 2, 5, 9, 2, 4, 0, 4, 0, 8, 4, 3, 1, 6, 4, 4, 1, 0, 9, 8, 8, 1, 1, 9, 8, 6, 4, 1, 8, 8, 1, 5, 1, 6, 3, 3, 5, 5, 4, 1, 2, 3, 6, 8, 8, 6, 1, 3, 4, 7, 9, 1, 5, 7, 3, 0, 6, 3, 4, 8, 2, 8, 6, 7, 5, 8, 8, 3, 2, 1, 6, 9, 8, 9, 0, 9, 1, 5, 9, 4, 6, 2, 2, 2, 5, 1, 9, 4, 0, 1, 1, 3, 4, 0, 6, 9, 8, 6, 7, 2, 4, 0, 6, 8, 0, 2, 5, 1, 5, 4, 4, 7, 1, 1, 0, 7, 7, 0, 9, 9, 2, 3, 5, 9, 1, 9, 6, 7, 9, 9, 2, 8, 2, 6, 0, 5, 1, 3, 1, 7, 2, 3, 9, 9, 1, 9, 3, 4, 0, 3, 3, 5, 0, 4, 8, 0, 3, 6, 0, 1, 9, 3, 1, 8, 0, 4, 5, 2, 2, 1, 6, 7, 6, 3, 9, 7, 9, 7, 3, 9, 2]\n"
          ]
        }
      ]
    },
    {
      "cell_type": "code",
      "source": [
        "result = pd.Series(probabilities, name='Label')\n",
        "submission = pd.concat([pd.Series(range(1,28001),name='ImageId'),result], axis=1)\n",
        "submission"
      ],
      "metadata": {
        "colab": {
          "base_uri": "https://localhost:8080/",
          "height": 423
        },
        "id": "F_NFhDr741UG",
        "outputId": "8e25eab8-7b2c-4acb-c4fb-bc0de2685797"
      },
      "execution_count": null,
      "outputs": [
        {
          "output_type": "execute_result",
          "data": {
            "text/plain": [
              "       ImageId  Label\n",
              "0            1      2\n",
              "1            2      0\n",
              "2            3      9\n",
              "3            4      9\n",
              "4            5      3\n",
              "...        ...    ...\n",
              "27995    27996      9\n",
              "27996    27997      7\n",
              "27997    27998      3\n",
              "27998    27999      9\n",
              "27999    28000      2\n",
              "\n",
              "[28000 rows x 2 columns]"
            ],
            "text/html": [
              "\n",
              "  <div id=\"df-dd7f5116-9afe-4437-8a8d-62b8885cea84\">\n",
              "    <div class=\"colab-df-container\">\n",
              "      <div>\n",
              "<style scoped>\n",
              "    .dataframe tbody tr th:only-of-type {\n",
              "        vertical-align: middle;\n",
              "    }\n",
              "\n",
              "    .dataframe tbody tr th {\n",
              "        vertical-align: top;\n",
              "    }\n",
              "\n",
              "    .dataframe thead th {\n",
              "        text-align: right;\n",
              "    }\n",
              "</style>\n",
              "<table border=\"1\" class=\"dataframe\">\n",
              "  <thead>\n",
              "    <tr style=\"text-align: right;\">\n",
              "      <th></th>\n",
              "      <th>ImageId</th>\n",
              "      <th>Label</th>\n",
              "    </tr>\n",
              "  </thead>\n",
              "  <tbody>\n",
              "    <tr>\n",
              "      <th>0</th>\n",
              "      <td>1</td>\n",
              "      <td>2</td>\n",
              "    </tr>\n",
              "    <tr>\n",
              "      <th>1</th>\n",
              "      <td>2</td>\n",
              "      <td>0</td>\n",
              "    </tr>\n",
              "    <tr>\n",
              "      <th>2</th>\n",
              "      <td>3</td>\n",
              "      <td>9</td>\n",
              "    </tr>\n",
              "    <tr>\n",
              "      <th>3</th>\n",
              "      <td>4</td>\n",
              "      <td>9</td>\n",
              "    </tr>\n",
              "    <tr>\n",
              "      <th>4</th>\n",
              "      <td>5</td>\n",
              "      <td>3</td>\n",
              "    </tr>\n",
              "    <tr>\n",
              "      <th>...</th>\n",
              "      <td>...</td>\n",
              "      <td>...</td>\n",
              "    </tr>\n",
              "    <tr>\n",
              "      <th>27995</th>\n",
              "      <td>27996</td>\n",
              "      <td>9</td>\n",
              "    </tr>\n",
              "    <tr>\n",
              "      <th>27996</th>\n",
              "      <td>27997</td>\n",
              "      <td>7</td>\n",
              "    </tr>\n",
              "    <tr>\n",
              "      <th>27997</th>\n",
              "      <td>27998</td>\n",
              "      <td>3</td>\n",
              "    </tr>\n",
              "    <tr>\n",
              "      <th>27998</th>\n",
              "      <td>27999</td>\n",
              "      <td>9</td>\n",
              "    </tr>\n",
              "    <tr>\n",
              "      <th>27999</th>\n",
              "      <td>28000</td>\n",
              "      <td>2</td>\n",
              "    </tr>\n",
              "  </tbody>\n",
              "</table>\n",
              "<p>28000 rows × 2 columns</p>\n",
              "</div>\n",
              "      <button class=\"colab-df-convert\" onclick=\"convertToInteractive('df-dd7f5116-9afe-4437-8a8d-62b8885cea84')\"\n",
              "              title=\"Convert this dataframe to an interactive table.\"\n",
              "              style=\"display:none;\">\n",
              "        \n",
              "  <svg xmlns=\"http://www.w3.org/2000/svg\" height=\"24px\"viewBox=\"0 0 24 24\"\n",
              "       width=\"24px\">\n",
              "    <path d=\"M0 0h24v24H0V0z\" fill=\"none\"/>\n",
              "    <path d=\"M18.56 5.44l.94 2.06.94-2.06 2.06-.94-2.06-.94-.94-2.06-.94 2.06-2.06.94zm-11 1L8.5 8.5l.94-2.06 2.06-.94-2.06-.94L8.5 2.5l-.94 2.06-2.06.94zm10 10l.94 2.06.94-2.06 2.06-.94-2.06-.94-.94-2.06-.94 2.06-2.06.94z\"/><path d=\"M17.41 7.96l-1.37-1.37c-.4-.4-.92-.59-1.43-.59-.52 0-1.04.2-1.43.59L10.3 9.45l-7.72 7.72c-.78.78-.78 2.05 0 2.83L4 21.41c.39.39.9.59 1.41.59.51 0 1.02-.2 1.41-.59l7.78-7.78 2.81-2.81c.8-.78.8-2.07 0-2.86zM5.41 20L4 18.59l7.72-7.72 1.47 1.35L5.41 20z\"/>\n",
              "  </svg>\n",
              "      </button>\n",
              "      \n",
              "  <style>\n",
              "    .colab-df-container {\n",
              "      display:flex;\n",
              "      flex-wrap:wrap;\n",
              "      gap: 12px;\n",
              "    }\n",
              "\n",
              "    .colab-df-convert {\n",
              "      background-color: #E8F0FE;\n",
              "      border: none;\n",
              "      border-radius: 50%;\n",
              "      cursor: pointer;\n",
              "      display: none;\n",
              "      fill: #1967D2;\n",
              "      height: 32px;\n",
              "      padding: 0 0 0 0;\n",
              "      width: 32px;\n",
              "    }\n",
              "\n",
              "    .colab-df-convert:hover {\n",
              "      background-color: #E2EBFA;\n",
              "      box-shadow: 0px 1px 2px rgba(60, 64, 67, 0.3), 0px 1px 3px 1px rgba(60, 64, 67, 0.15);\n",
              "      fill: #174EA6;\n",
              "    }\n",
              "\n",
              "    [theme=dark] .colab-df-convert {\n",
              "      background-color: #3B4455;\n",
              "      fill: #D2E3FC;\n",
              "    }\n",
              "\n",
              "    [theme=dark] .colab-df-convert:hover {\n",
              "      background-color: #434B5C;\n",
              "      box-shadow: 0px 1px 3px 1px rgba(0, 0, 0, 0.15);\n",
              "      filter: drop-shadow(0px 1px 2px rgba(0, 0, 0, 0.3));\n",
              "      fill: #FFFFFF;\n",
              "    }\n",
              "  </style>\n",
              "\n",
              "      <script>\n",
              "        const buttonEl =\n",
              "          document.querySelector('#df-dd7f5116-9afe-4437-8a8d-62b8885cea84 button.colab-df-convert');\n",
              "        buttonEl.style.display =\n",
              "          google.colab.kernel.accessAllowed ? 'block' : 'none';\n",
              "\n",
              "        async function convertToInteractive(key) {\n",
              "          const element = document.querySelector('#df-dd7f5116-9afe-4437-8a8d-62b8885cea84');\n",
              "          const dataTable =\n",
              "            await google.colab.kernel.invokeFunction('convertToInteractive',\n",
              "                                                     [key], {});\n",
              "          if (!dataTable) return;\n",
              "\n",
              "          const docLinkHtml = 'Like what you see? Visit the ' +\n",
              "            '<a target=\"_blank\" href=https://colab.research.google.com/notebooks/data_table.ipynb>data table notebook</a>'\n",
              "            + ' to learn more about interactive tables.';\n",
              "          element.innerHTML = '';\n",
              "          dataTable['output_type'] = 'display_data';\n",
              "          await google.colab.output.renderOutput(dataTable, element);\n",
              "          const docLink = document.createElement('div');\n",
              "          docLink.innerHTML = docLinkHtml;\n",
              "          element.appendChild(docLink);\n",
              "        }\n",
              "      </script>\n",
              "    </div>\n",
              "  </div>\n",
              "  "
            ]
          },
          "metadata": {},
          "execution_count": 72
        }
      ]
    },
    {
      "cell_type": "code",
      "source": [
        "submission.to_csv('/content/gdrive/MyDrive/kaggle/submission2.csv', index=False)"
      ],
      "metadata": {
        "id": "71pruy9T54Y0"
      },
      "execution_count": null,
      "outputs": []
    },
    {
      "cell_type": "code",
      "source": [],
      "metadata": {
        "id": "my8by7Qa7ppp"
      },
      "execution_count": null,
      "outputs": []
    }
  ]
}